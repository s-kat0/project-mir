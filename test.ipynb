{
 "cells": [
  {
   "cell_type": "code",
   "execution_count": 1,
   "metadata": {},
   "outputs": [],
   "source": [
    "import lxml.html\n",
    "from pathlib import Path\n",
    "import pickle\n",
    "import re\n",
    "import time\n",
    "from tqdm import tqdm\n",
    "\n",
    "from projectmir.xmldocument import XMLDocument\n",
    "from projectmir.functions import find_identifier_definition"
   ]
  },
  {
   "cell_type": "code",
   "execution_count": 2,
   "metadata": {
    "tags": []
   },
   "outputs": [
    {
     "output_type": "stream",
     "name": "stderr",
     "text": "0it [00:00, ?it/s]elapsed time : 0.0000229 seconds ---\nprocess document\nelapsed time : 0.0029061 seconds ---\nNumber of math components is 50\nelapsed time : 0.0467198 seconds ---\nelapsed time : 0.0914931 seconds ---\nStarting server with command: java -Xmx16G -cp /Users/kato/GoogleDrive/project-mir/data/resources/stanford-corenlp-full-2018-10-05/* edu.stanford.nlp.pipeline.StanfordCoreNLPServer -port 9000 -timeout 600000 -threads 5 -maxCharLength 100000 -quiet True -serverProperties corenlp_server-dcc99becbf204b4d.props -preload tokenize,ssplit,pos\nelapsed time : 3.0090470 seconds ---\nStarting server with command: java -Xmx16G -cp /Users/kato/GoogleDrive/project-mir/data/resources/stanford-corenlp-full-2018-10-05/* edu.stanford.nlp.pipeline.StanfordCoreNLPServer -port 9000 -timeout 600000 -threads 5 -maxCharLength 100000 -quiet True -serverProperties corenlp_server-dabd9e10d16f464d.props -preload tokenize,ssplit,pos,lemma,ner,parse,depparse,coref\n1it [00:43, 43.80s/it]extract_noun_phrases\nelapsed time : 43.8013299 seconds ---\nelapsed time : 43.8025970 seconds ---\nelapsed time : 0.0000131 seconds ---\nprocess document\nelapsed time : 0.0049794 seconds ---\nNumber of math components is 50\nelapsed time : 0.0499682 seconds ---\nelapsed time : 0.0916452 seconds ---\nStarting server with command: java -Xmx16G -cp /Users/kato/GoogleDrive/project-mir/data/resources/stanford-corenlp-full-2018-10-05/* edu.stanford.nlp.pipeline.StanfordCoreNLPServer -port 9000 -timeout 600000 -threads 5 -maxCharLength 100000 -quiet True -serverProperties corenlp_server-87a62e58d3bb42be.props -preload tokenize,ssplit,pos\nelapsed time : 2.0260363 seconds ---\nStarting server with command: java -Xmx16G -cp /Users/kato/GoogleDrive/project-mir/data/resources/stanford-corenlp-full-2018-10-05/* edu.stanford.nlp.pipeline.StanfordCoreNLPServer -port 9000 -timeout 600000 -threads 5 -maxCharLength 100000 -quiet True -serverProperties corenlp_server-5e386f46810c489d.props -preload tokenize,ssplit,pos,lemma,ner,parse,depparse,coref\n2it [01:28, 44.07s/it]extract_noun_phrases\nelapsed time : 44.3262501 seconds ---\nelapsed time : 44.3266692 seconds ---\n\n"
    }
   ],
   "source": [
    "p_path = './data/test_latexml/'\n",
    "p = Path(p_path)\n",
    "x = list(p.glob('*.html'))\n",
    "documents_IDs = [x_.name[:-5] for x_ in x]\n",
    "\n",
    "doc = [[]]*len(documents_IDs)\n",
    "for i, documents_ID in tqdm(enumerate(documents_IDs)):\n",
    "    documents_path = p_path + documents_ID + '.html'\n",
    "    doc_ = find_identifier_definition(documents_path)\n",
    "    doc[i] = doc_\n",
    "\n",
    "save_filename = 'doc' + time.strftime('_%d%b%Y_%H%M%S') + '.pkl'\n",
    "with open(save_filename, 'wb') as f:\n",
    "    pickle.dump(doc, f)\n"
   ]
  },
  {
   "cell_type": "code",
   "execution_count": 3,
   "metadata": {
    "tags": []
   },
   "outputs": [
    {
     "output_type": "stream",
     "name": "stdout",
     "text": "./data/test_latexml/test_sample.html\n['w_i', 'T_i', 'Q', 'T', 'w', 'V', 'ρ', 'C', 'U_int', 'H', '\\\\overset{^}{H}', 'd', 't', 'T_ref', 'Δ', 'N_F']\n"
    }
   ],
   "source": [
    "# load_filename = 'doc.pkl'\n",
    "load_filename = save_filename\n",
    "with open(load_filename, 'rb') as f:\n",
    "    doc = pickle.load(f)\n",
    "print(doc[0].path)\n",
    "print(doc[0].identifiers)"
   ]
  },
  {
   "cell_type": "code",
   "execution_count": 4,
   "metadata": {
    "tags": []
   },
   "outputs": [
    {
     "output_type": "stream",
     "name": "stdout",
     "text": "./data/test_latexml/test_sample.html\n['w_i', 'T_i', 'Q', 'T', 'w', 'V', 'ρ', 'C', 'U_int', 'H', 'd', 't', 'T_ref', 'Δ', 'N_F']\n"
    }
   ],
   "source": [
    "load_filename = 'doc.pkl'\n",
    "# load_filename = save_filename\n",
    "with open(load_filename, 'rb') as f:\n",
    "    doc = pickle.load(f)\n",
    "print(doc[0].path)\n",
    "print(doc[0].identifiers)"
   ]
  },
  {
   "cell_type": "code",
   "execution_count": 5,
   "metadata": {},
   "outputs": [],
   "source": [
    "tree = lxml.html.parse(doc[0].path)"
   ]
  },
  {
   "cell_type": "code",
   "execution_count": 6,
   "metadata": {},
   "outputs": [],
   "source": [
    "html = tree.getroot()"
   ]
  },
  {
   "cell_type": "code",
   "execution_count": 64,
   "metadata": {
    "tags": []
   },
   "outputs": [
    {
     "output_type": "execute_result",
     "data": {
      "text/plain": "<Element mi at 0x120d7c360>"
     },
     "metadata": {},
     "execution_count": 64
    }
   ],
   "source": [
    "x_list = html.cssselect('mi')\n",
    "x_list[0]"
   ]
  },
  {
   "cell_type": "code",
   "execution_count": 13,
   "metadata": {},
   "outputs": [],
   "source": [
    "def is_identifier(math_component):\n",
    "    is_mi = (math_component.tag == 'mi')\n",
    "    is_math_component_len_1 = (len(math_component.text_content()) == 1)\n",
    "    is_italic = (math_component.get('mathvariant') == 'italic')\n",
    "    return is_mi and (is_math_component_len_1 or is_italic)\n",
    "\n",
    "def extract_ml_component(html_cssselect_math, mltag, identifiers, reg_string_list):\n",
    "    identifiers_ = list(identifiers)\n",
    "    reg_string_list_ = list(reg_string_list)\n",
    "    for html_math_mltag in html_cssselect_math.cssselect(mltag):\n",
    "        if mltag == 'mi':\n",
    "            math_txt = html_math_mltag.text_content()\n",
    "            identifier_candidate = html_math_mltag\n",
    "        else:\n",
    "            html_math_mltag_component = [\n",
    "                x for x in html_math_mltag.iterchildren()]\n",
    "            identifier_candidate = html_math_mltag_component[0]\n",
    "            math_txt = [x.text_content()\n",
    "                        for x in html_math_mltag_component]\n",
    "            if mltag == 'msubsup':\n",
    "                math_txt = math_txt[0] + '_' + \\\n",
    "                    math_txt[1] + '^' + math_txt[2]\n",
    "            elif mltag == 'msub':\n",
    "                math_txt = math_txt[0] + '_' + math_txt[1]\n",
    "            elif mltag == 'msup':\n",
    "                math_txt = math_txt[0] + '^' + math_txt[1]\n",
    "            elif mltag == 'mover':\n",
    "                math_txt = r'\\overset{' + \\\n",
    "                    math_txt[1] + '}{' + math_txt[0] + '}'\n",
    "            elif mltag == 'munder':\n",
    "                math_txt = r'\\underset{' + \\\n",
    "                    math_txt[1] + '}{' + math_txt[0] + '}'\n",
    "            elif mltag == 'munderover':\n",
    "                math_txt = r'\\overset{' + math_txt[2] + '}{' + \\\n",
    "                    r'\\underset{' + math_txt[1] + '}{' + math_txt[0] + '}}'\n",
    "\n",
    "        if is_identifier(identifier_candidate) and (\n",
    "                math_txt not in identifiers_):\n",
    "            identifiers_.append(math_txt)\n",
    "        html_math_mltag.drop_tree()  # this is needed for extracting w_i without w and i.\n",
    "        reg_string = lxml.html.tostring(\n",
    "            html_math_mltag, encoding='unicode')\n",
    "        if is_identifier(identifier_candidate):\n",
    "            reg_string_list_.append(\n",
    "                (math_txt, reg_string, 'MATH{:04d}'.format(\n",
    "                    identifiers_.index(math_txt))))\n",
    "        else:\n",
    "            reg_string_list_.append(\n",
    "                (math_txt, reg_string, math_txt))\n",
    "    return identifiers_, reg_string_list_"
   ]
  },
  {
   "cell_type": "code",
   "execution_count": 147,
   "metadata": {},
   "outputs": [],
   "source": [
    "# x_text = \"\"\"\n",
    "# <p class=\"ltx_p\">Next, we show how the general energy balance in Eq. 2-10 can be simplified for this particular example.For a pure liquid at low or moderate pressures, the internal energy is approximately equal to the enthalpy, <math id=\"S1.SS1.p2.m1\" class=\"ltx_Math\" alttext=\"U_{\\rm int}\\approx H\" display=\"inline\"><mrow><msub><mi>U</mi><mi>int</mi></msub><mo>≈</mo><mi>H</mi></mrow></math>, and <math id=\"S1.SS1.p2.m2\" class=\"ltx_Math\" alttext=\"H\" display=\"inline\"><mi>H</mi></math> depends only on temperature (Sandler, 2006).Consequently, in the subsequent development, we assume that <math id=\"S1.SS1.p2.m3\" class=\"ltx_Math\" alttext=\"U_{\\rm int}=H\" display=\"inline\"><mrow><msub><mi>U</mi><mi>int</mi></msub><mo>=</mo><mi>H</mi></mrow></math> and <math id=\"S1.SS1.p2.m4\" class=\"ltx_Math\" alttext=\"\\hat{U}_{\\rm int}=\\hat{H}\" display=\"inline\"><mrow><msub><mover accent=\"true\"><mi>U</mi><mo stretchy=\"false\">^</mo></mover><mi>int</mi></msub><mo>=</mo><mover accent=\"true\"><mi>H</mi><mo stretchy=\"false\">^</mo></mover></mrow></math> where the caret (^) means per unit mass.As shown in Appendix C, a differential change in temperature <math id=\"S1.SS1.p2.m5\" class=\"ltx_Math\" alttext=\"dT\" display=\"inline\"><mrow><mi>d</mi><mo>⁢</mo><mi>T</mi></mrow></math>, produces a corresponding change in the internal energy per unit mass, <math id=\"S1.SS1.p2.m6\" class=\"ltx_Math\" alttext=\"d\\hat{U}_{\\rm int}\" display=\"inline\"><mrow><mi>d</mi><mo>⁢</mo><msub><mover accent=\"true\"><mi>U</mi><mo stretchy=\"false\">^</mo></mover><mi>int</mi></msub></mrow></math>,</p>\n",
    "# \"\"\"\n",
    "x_text = \"\"\"\n",
    "<p class=\"ltx_p\">Consequently, in the subsequent development, we assume that <math id=\"S1.SS1.p2.m3\" class=\"ltx_Math\" alttext=\"U_{\\rm int}=H\" display=\"inline\"><mrow><msub><mi>U</mi><mi>int</mi></msub><mo>=</mo><mi>H</mi></mrow></math> and <math id=\"S1.SS1.p2.m4\" class=\"ltx_Math\" alttext=\"\\hat{U}_{\\rm int}=\\hat{H}\" display=\"inline\"><mrow><msub><mover accent=\"true\"><mi>U</mi><mo stretchy=\"false\">^</mo></mover><mi>int</mi></msub><mo>=</mo><mover accent=\"true\"><mi>H</mi><mo stretchy=\"false\">^</mo></mover></mrow></math> where the caret (^) means per unit mass.</p>\n",
    "\"\"\""
   ]
  },
  {
   "cell_type": "code",
   "execution_count": 151,
   "metadata": {},
   "outputs": [],
   "source": [
    "import copy"
   ]
  },
  {
   "cell_type": "code",
   "execution_count": 154,
   "metadata": {
    "tags": []
   },
   "outputs": [
    {
     "output_type": "stream",
     "name": "stdout",
     "text": "Consequently, in the subsequent development, we assume that Uint=H and U^int=H^ where the caret (^) means per unit mass.\n([], [])\n(['\\\\overset{^}{U}', '\\\\overset{^}{H}'], [('\\\\overset{^}{U}', '<mover accent=\"true\"><mi>U</mi><mo stretchy=\"false\">^</mo></mover>', 'MATH0000'), ('\\\\overset{^}{H}', '<mover accent=\"true\"><mi>H</mi><mo stretchy=\"false\">^</mo></mover>', 'MATH0001')])\nConsequently, in the subsequent development, we assume that Uint=H and U^int=H^ where the caret (^) means per unit mass.\n"
    }
   ],
   "source": [
    "i, r = [], []\n",
    "x_tree = lxml.html.fromstring(x_text)\n",
    "print(x_tree.text_content())\n",
    "for x_math in copy.deepcopy(x_tree).cssselect('math'):\n",
    "    print(extract_ml_component(x_math, 'mover', i, r))\n",
    "print(x_tree.text_content())\n",
    "\n",
    "# for html_math_mltag in html_cssselect_math.cssselect(mltag):\n",
    "#     if mltag == 'mi':\n",
    "#         math_txt = html_math_mltag.text_content()\n",
    "#         identifier_candidate = html_math_mltag\n",
    "#     else:\n",
    "#         html_math_mltag_component = [\n",
    "#             x for x in html_math_mltag.iterchildren()]\n",
    "#         identifier_candidate = html_math_mltag_component[0]\n",
    "#         math_txt = [x.text_content()\n",
    "#                     for x in html_math_mltag_component]\n",
    "#         if mltag == 'msubsup':\n",
    "#             math_txt = math_txt[0] + '_' + \\\n",
    "#                 math_txt[1] + '^' + math_txt[2]\n",
    "#         elif mltag == 'msub':\n",
    "#             math_txt = math_txt[0] + '_' + math_txt[1]\n",
    "#         elif mltag == 'msup':\n",
    "#             math_txt = math_txt[0] + '^' + math_txt[1]\n",
    "#         elif mltag == 'mover':\n",
    "#             math_txt = r'\\overset{' + \\\n",
    "#                 math_txt[1] + '}{' + math_txt[0] + '}'\n",
    "#         elif mltag == 'munder':\n",
    "#             math_txt = r'\\underset{' + \\\n",
    "#                 math_txt[1] + '}{' + math_txt[0] + '}'\n",
    "#         elif mltag == 'munderover':\n",
    "#             math_txt = r'\\overset{' + math_txt[2] + '}{' + \\\n",
    "#                 r'\\underset{' + math_txt[1] + '}{' + math_txt[0] + '}}'"
   ]
  },
  {
   "cell_type": "code",
   "execution_count": 164,
   "metadata": {
    "tags": []
   },
   "outputs": [
    {
     "output_type": "stream",
     "name": "stdout",
     "text": "[<Element mover at 0x128b42d10>, <Element mi at 0x128b42c20>]\n"
    }
   ],
   "source": [
    "print([i for i in copy.deepcopy(x_tree).cssselect('math')[1].cssselect('msub')[0].iterchildren()])"
   ]
  },
  {
   "cell_type": "code",
   "execution_count": 125,
   "metadata": {
    "tags": []
   },
   "outputs": [
    {
     "output_type": "stream",
     "name": "stdout",
     "text": "i=[]\nr=[]\n"
    }
   ],
   "source": [
    "print(f'{i=}')\n",
    "print(f'{r=}')"
   ]
  },
  {
   "cell_type": "code",
   "execution_count": 32,
   "metadata": {},
   "outputs": [
    {
     "output_type": "execute_result",
     "data": {
      "text/plain": "<bound method HtmlMixin.text_content of <Element math at 0x12ba98040>>"
     },
     "metadata": {},
     "execution_count": 32
    }
   ],
   "source": [
    "x_list[13].text_content()"
   ]
  },
  {
   "cell_type": "code",
   "execution_count": null,
   "metadata": {},
   "outputs": [],
   "source": []
  }
 ],
 "metadata": {
  "language_info": {
   "codemirror_mode": {
    "name": "ipython",
    "version": 3
   },
   "file_extension": ".py",
   "mimetype": "text/x-python",
   "name": "python",
   "nbconvert_exporter": "python",
   "pygments_lexer": "ipython3",
   "version": 3
  },
  "orig_nbformat": 2,
  "kernelspec": {
   "name": "python_defaultSpec_1594361122096",
   "display_name": "Python 3.8.2 64-bit ('3.8.2': pyenv)"
  }
 },
 "nbformat": 4,
 "nbformat_minor": 2
}