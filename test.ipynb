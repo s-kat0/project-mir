{
 "cells": [
  {
   "cell_type": "code",
   "execution_count": 7,
   "metadata": {},
   "outputs": [],
   "source": [
    "import lxml.html\n",
    "from pathlib import Path\n",
    "import pickle\n",
    "import re\n",
    "import time\n",
    "from tqdm import tqdm\n",
    "\n",
    "from projectmir.xmldocument import XMLDocument\n",
    "from projectmir.functions import find_identifier_definition"
   ]
  },
  {
   "cell_type": "code",
   "execution_count": 11,
   "metadata": {
    "tags": []
   },
   "outputs": [
    {
     "output_type": "stream",
     "name": "stderr",
     "text": "0it [00:00, ?it/s]elapsed time : 0.0000110 seconds ---\nprocess document\nelapsed time : 0.0028889 seconds ---\nNumber of math components is 50\nmover====================\n['H', '^']\n+++++++++++++++++++++++++\nmover====================\n['H', '^']\n+++++++++++++++++++++++++\nmover====================\n['H', '^']\n+++++++++++++++++++++++++\nmover====================\n['H', '^']\n+++++++++++++++++++++++++\nmover====================\n['H', '^']\n+++++++++++++++++++++++++\nmover====================\n['H', '^']\n+++++++++++++++++++++++++\nmover====================\n['H', '^']\n+++++++++++++++++++++++++\nelapsed time : 0.0470998 seconds ---\nelapsed time : 0.0894191 seconds ---\nStarting server with command: java -Xmx16G -cp /Users/kato/GoogleDrive/project-mir/data/resources/stanford-corenlp-full-2018-10-05/* edu.stanford.nlp.pipeline.StanfordCoreNLPServer -port 9000 -timeout 600000 -threads 5 -maxCharLength 100000 -quiet True -serverProperties corenlp_server-b7a25e8ae1b84f0c.props -preload tokenize,ssplit,pos\nelapsed time : 3.0600500 seconds ---\nStarting server with command: java -Xmx16G -cp /Users/kato/GoogleDrive/project-mir/data/resources/stanford-corenlp-full-2018-10-05/* edu.stanford.nlp.pipeline.StanfordCoreNLPServer -port 9000 -timeout 600000 -threads 5 -maxCharLength 100000 -quiet True -serverProperties corenlp_server-f6355e2482354472.props -preload tokenize,ssplit,pos,lemma,ner,parse,depparse,coref\n1it [00:46, 46.57s/it]extract_noun_phrases\nelapsed time : 46.5587010 seconds ---\nelapsed time : 46.5640111 seconds ---\nelapsed time : 0.0000253 seconds ---\nprocess document\nelapsed time : 0.0081222 seconds ---\nNumber of math components is 50\nmover====================\n['H', '^']\n+++++++++++++++++++++++++\nmover====================\n['H', '^']\n+++++++++++++++++++++++++\nmover====================\n['H', '^']\n+++++++++++++++++++++++++\nmover====================\n['H', '^']\n+++++++++++++++++++++++++\nmover====================\n['H', '^']\n+++++++++++++++++++++++++\nmover====================\n['H', '^']\n+++++++++++++++++++++++++\nmover====================\n['H', '^']\n+++++++++++++++++++++++++\nelapsed time : 0.0515163 seconds ---\nelapsed time : 0.1028001 seconds ---\nStarting server with command: java -Xmx16G -cp /Users/kato/GoogleDrive/project-mir/data/resources/stanford-corenlp-full-2018-10-05/* edu.stanford.nlp.pipeline.StanfordCoreNLPServer -port 9000 -timeout 600000 -threads 5 -maxCharLength 100000 -quiet True -serverProperties corenlp_server-4d66d167ca7e41ef.props -preload tokenize,ssplit,pos\nelapsed time : 2.0774562 seconds ---\nStarting server with command: java -Xmx16G -cp /Users/kato/GoogleDrive/project-mir/data/resources/stanford-corenlp-full-2018-10-05/* edu.stanford.nlp.pipeline.StanfordCoreNLPServer -port 9000 -timeout 600000 -threads 5 -maxCharLength 100000 -quiet True -serverProperties corenlp_server-fb7476f13544442e.props -preload tokenize,ssplit,pos,lemma,ner,parse,depparse,coref\n2it [01:28, 44.02s/it]extract_noun_phrases\nelapsed time : 41.4647071 seconds ---\nelapsed time : 41.4652653 seconds ---\n\n"
    }
   ],
   "source": [
    "p_path = './data/test_latexml/'\n",
    "p = Path(p_path)\n",
    "x = list(p.glob('*.html'))\n",
    "documents_IDs = [x_.name[:-5] for x_ in x]\n",
    "\n",
    "doc = [[]]*len(documents_IDs)\n",
    "for i, documents_ID in tqdm(enumerate(documents_IDs)):\n",
    "    documents_path = p_path + documents_ID + '.html'\n",
    "    doc_ = find_identifier_definition(documents_path)\n",
    "    doc[i] = doc_\n",
    "\n",
    "save_filename = 'doc.pkl' + time.strftime('%d%b%Y_%H%M%S')\n",
    "with open(save_filename, 'wb') as f:\n",
    "    pickle.dump(doc, f)\n"
   ]
  },
  {
   "cell_type": "code",
   "execution_count": 9,
   "metadata": {},
   "outputs": [],
   "source": [
    "load_filename = 'doc.pkl'\n",
    "with open(load_filename, 'rb') as f:\n",
    "    doc = pickle.load(f)"
   ]
  },
  {
   "cell_type": "code",
   "execution_count": 10,
   "metadata": {
    "tags": []
   },
   "outputs": [
    {
     "output_type": "stream",
     "name": "stdout",
     "text": "./data/test_latexml/test_sample.html\n['w_i', 'T_i', 'Q', 'T', 'w', 'V', 'ρ', 'C', 'U_int', 'H', 'd', 't', 'T_ref', 'Δ', 'N_F']\n"
    }
   ],
   "source": [
    "print(doc[0].path)\n",
    "print(doc[0].identifiers)"
   ]
  },
  {
   "cell_type": "code",
   "execution_count": 13,
   "metadata": {},
   "outputs": [],
   "source": [
    "tree = lxml.html.parse(doc[0].path)"
   ]
  },
  {
   "cell_type": "code",
   "execution_count": 14,
   "metadata": {},
   "outputs": [],
   "source": [
    "html = tree.getroot()"
   ]
  },
  {
   "cell_type": "code",
   "execution_count": 6,
   "metadata": {},
   "outputs": [
    {
     "output_type": "error",
     "ename": "NameError",
     "evalue": "name 'html' is not defined",
     "traceback": [
      "\u001b[0;31m---------------------------------------------------------------------------\u001b[0m",
      "\u001b[0;31mNameError\u001b[0m                                 Traceback (most recent call last)",
      "\u001b[0;32m<ipython-input-6-6241d7510e89>\u001b[0m in \u001b[0;36m<module>\u001b[0;34m\u001b[0m\n\u001b[0;32m----> 1\u001b[0;31m \u001b[0mx_list\u001b[0m \u001b[0;34m=\u001b[0m \u001b[0mhtml\u001b[0m\u001b[0;34m.\u001b[0m\u001b[0mcssselect\u001b[0m\u001b[0;34m(\u001b[0m\u001b[0;34m'math'\u001b[0m\u001b[0;34m)\u001b[0m\u001b[0;34m\u001b[0m\u001b[0;34m\u001b[0m\u001b[0m\n\u001b[0m",
      "\u001b[0;31mNameError\u001b[0m: name 'html' is not defined"
     ]
    }
   ],
   "source": [
    "x_list = html.cssselect('math')"
   ]
  },
  {
   "cell_type": "code",
   "execution_count": 5,
   "metadata": {
    "tags": []
   },
   "outputs": [
    {
     "output_type": "error",
     "ename": "NameError",
     "evalue": "name 'x_list' is not defined",
     "traceback": [
      "\u001b[0;31m---------------------------------------------------------------------------\u001b[0m",
      "\u001b[0;31mNameError\u001b[0m                                 Traceback (most recent call last)",
      "\u001b[0;32m<ipython-input-5-66a1f31e49f8>\u001b[0m in \u001b[0;36m<module>\u001b[0;34m\u001b[0m\n\u001b[0;32m----> 1\u001b[0;31m \u001b[0;32mfor\u001b[0m \u001b[0mi\u001b[0m\u001b[0;34m,\u001b[0m \u001b[0mx\u001b[0m \u001b[0;32min\u001b[0m \u001b[0menumerate\u001b[0m\u001b[0;34m(\u001b[0m\u001b[0mx_list\u001b[0m\u001b[0;34m)\u001b[0m\u001b[0;34m:\u001b[0m\u001b[0;34m\u001b[0m\u001b[0;34m\u001b[0m\u001b[0m\n\u001b[0m\u001b[1;32m      2\u001b[0m     \u001b[0mprint\u001b[0m\u001b[0;34m(\u001b[0m\u001b[0mi\u001b[0m\u001b[0;34m)\u001b[0m\u001b[0;34m\u001b[0m\u001b[0;34m\u001b[0m\u001b[0m\n\u001b[1;32m      3\u001b[0m     \u001b[0mprint\u001b[0m\u001b[0;34m(\u001b[0m\u001b[0mlxml\u001b[0m\u001b[0;34m.\u001b[0m\u001b[0mhtml\u001b[0m\u001b[0;34m.\u001b[0m\u001b[0mtostring\u001b[0m\u001b[0;34m(\u001b[0m\u001b[0mx\u001b[0m\u001b[0;34m.\u001b[0m\u001b[0mdrop_tree\u001b[0m\u001b[0;34m)\u001b[0m\u001b[0;34m)\u001b[0m\u001b[0;34m\u001b[0m\u001b[0;34m\u001b[0m\u001b[0m\n",
      "\u001b[0;31mNameError\u001b[0m: name 'x_list' is not defined"
     ]
    }
   ],
   "source": [
    "for i, x in enumerate(x_list):\n",
    "    print(i)\n",
    "    print(lxml.html.tostring(x.drop_tree))\n"
   ]
  },
  {
   "cell_type": "code",
   "execution_count": null,
   "metadata": {},
   "outputs": [],
   "source": []
  },
  {
   "cell_type": "code",
   "execution_count": 31,
   "metadata": {},
   "outputs": [
    {
     "output_type": "execute_result",
     "data": {
      "text/plain": "['U', '^']"
     },
     "metadata": {},
     "execution_count": 31
    }
   ],
   "source": [
    "[x.text_content() for x in x_list[13].cssselect('mover')[0].iterchildren()]"
   ]
  },
  {
   "cell_type": "code",
   "execution_count": 32,
   "metadata": {},
   "outputs": [
    {
     "output_type": "execute_result",
     "data": {
      "text/plain": "<bound method HtmlMixin.text_content of <Element math at 0x12ba98040>>"
     },
     "metadata": {},
     "execution_count": 32
    }
   ],
   "source": [
    "x_list[13].text_content()"
   ]
  },
  {
   "cell_type": "code",
   "execution_count": null,
   "metadata": {},
   "outputs": [],
   "source": []
  }
 ],
 "metadata": {
  "language_info": {
   "codemirror_mode": {
    "name": "ipython",
    "version": 3
   },
   "file_extension": ".py",
   "mimetype": "text/x-python",
   "name": "python",
   "nbconvert_exporter": "python",
   "pygments_lexer": "ipython3",
   "version": 3
  },
  "orig_nbformat": 2,
  "kernelspec": {
   "name": "python_defaultSpec_1594318022778",
   "display_name": "Python 3.8.2 64-bit ('3.8.2': pyenv)"
  }
 },
 "nbformat": 4,
 "nbformat_minor": 2
}