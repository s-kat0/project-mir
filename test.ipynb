{
 "cells": [
  {
   "cell_type": "code",
   "execution_count": 1,
   "metadata": {
    "pycharm": {
     "is_executing": false
    }
   },
   "outputs": [],
   "source": [
    "import lxml.html\n",
    "from pathlib import Path\n",
    "import pickle\n",
    "import re\n",
    "import time\n",
    "from tqdm import tqdm\n",
    "\n",
    "from projectmir.xmldocument import XMLDocument\n",
    "from projectmir.functions import find_identifier_definition"
   ]
  },
  {
   "cell_type": "code",
   "execution_count": 2,
   "metadata": {
    "tags": []
   },
   "outputs": [],
   "source": [
    "# p_path = './data/test_latexml/'\n",
    "# p = Path(p_path)\n",
    "# x = list(p.glob('*.html'))\n",
    "# documents_IDs = [x_.name[:-5] for x_ in x]\n",
    "\n",
    "# doc = [[]]*len(documents_IDs)\n",
    "# for i, documents_ID in tqdm(enumerate(documents_IDs)):\n",
    "#     documents_path = p_path + documents_ID + '.html'\n",
    "#     doc_ = find_identifier_definition(documents_path)\n",
    "#     doc[i] = doc_\n",
    "\n",
    "# save_filename = 'doc' + time.strftime('_%d%b%Y_%H%M%S') + '.pkl'\n",
    "# with open(save_filename, 'wb') as f:\n",
    "#     pickle.dump(doc, f)\n"
   ]
  },
  {
   "cell_type": "code",
   "execution_count": 3,
   "metadata": {
    "tags": []
   },
   "outputs": [
    {
     "output_type": "stream",
     "name": "stdout",
     "text": "./data/test_latexml/test_sample.html\n['w_i', 'T_i', 'Q', 'T', 'w', 'V', 'ρ', 'C', 'U_int', 'H', '\\\\overset{^}{U}_int', '\\\\overset{^}{H}', 'd', 't', 'T_ref', '\\\\overset{^}{H}_ref', '\\\\overset{^}{H}_i', 'Δ', 'N_F']\n"
    }
   ],
   "source": [
    "load_filename = 'doc.pkl'\n",
    "with open(load_filename, 'rb') as f:\n",
    "    doc = pickle.load(f)\n",
    "print(doc[0].path)\n",
    "print(doc[0].identifiers)"
   ]
  },
  {
   "cell_type": "code",
   "execution_count": 81,
   "metadata": {},
   "outputs": [],
   "source": [
    "def is_identifier(math_txt):\n",
    "    not_number = math_txt[0] not in [1, 2, 3, 4, 5, 6, 7, 8, 9, 0]\n",
    "    return not_number\n",
    "\n",
    "\n",
    "def tree_to_str(ml_tree):\n",
    "    ml_str = ''\n",
    "    ml_tree_ = copy.deepcopy(ml_tree)\n",
    "    if isinstance(ml_tree_, lxml.html.HtmlElement):\n",
    "        if ml_tree_.tag in ['mi', 'mo', 'mn']:\n",
    "            # ml_str += ml_tree_.text_content()\n",
    "            math_txt = ml_tree_.text_content()\n",
    "\n",
    "        else:\n",
    "            for ml_children in ml_tree_:\n",
    "                ml_children_ = [x for x in ml_children]\n",
    "                if ml_children.tag in ['mi', 'mo', 'mn']:\n",
    "                    math_txt = ml_children.text_content() + 'x'\n",
    "\n",
    "                elif ml_tree_.tag == 'mrow':\n",
    "                    math_txt = tree_to_str(ml_children)\n",
    "\n",
    "                elif ml_tree_.tag == 'msubsup':\n",
    "                    math_txt = tree_to_str(ml_children_[0]) + '_' + tree_to_str(ml_children_[1]) \\\n",
    "                                + '^' + tree_to_str(ml_children_[2])\n",
    "\n",
    "                elif ml_tree_.tag == 'msub':\n",
    "                    math_txt = tree_to_str(ml_children_[0]) + '_' + tree_to_str(ml_children_[1])\n",
    "\n",
    "                elif ml_children.tag == 'msup':\n",
    "                    math_txt = tree_to_str(ml_children_[0]) + '^' + tree_to_str(ml_children_[1])\n",
    "\n",
    "                elif ml_children.tag == 'munderover':\n",
    "                    math_txt = r'\\overset{' + tree_to_str(ml_children_[2]) + '}{' + r'\\underset{' + \\\n",
    "                                tree_to_str(ml_children_[1]) + '}{' + tree_to_str(ml_children_[0]) + '}}'\n",
    "\n",
    "                elif ml_tree_.tag == 'mover':\n",
    "                    math_txt = r'\\overset{' + \\\n",
    "                                tree_to_str(ml_children_[1]) + '}{' + tree_to_str(ml_children_[0]) + '}'\n",
    "\n",
    "                elif ml_children.tag == 'munder':\n",
    "                    math_txt = r'\\underset{' + \\\n",
    "                                tree_to_str(ml_children_[1]) + '}{' + tree_to_str(ml_children_[0]) + '}'\n",
    "\n",
    "                else:\n",
    "                    math_txt = ''\n",
    "                    warnings.warn('unexpected tag')\n",
    "                    print(f'{ml_tree}')\n",
    "\n",
    "                # ml_str += math_txt\n",
    "\n",
    "    elif isinstance(ml_tree_, list):\n",
    "        tree_to_str(ml_tree)\n",
    "\n",
    "    else:\n",
    "        warnings.warn('unexpected tag')\n",
    "        print(f'{ml_tree}')\n",
    "\n",
    "    return ml_str\n",
    "\n",
    "def extract_ml_component(\n",
    "        html_cssselect_math,\n",
    "        mltag,\n",
    "        identifiers,\n",
    "        reg_string_list):\n",
    "    identifiers_ = list(identifiers)\n",
    "    reg_string_list_ = list(reg_string_list)\n",
    "    for html_math_mltag in html_cssselect_math.cssselect(mltag):\n",
    "        # if mltag == 'mi':\n",
    "        #     math_txt = html_math_mltag.text_content()\n",
    "        #     identifier_candidate = html_math_mltag\n",
    "        # else:\n",
    "        #     html_math_mltag_component = [\n",
    "        #         x for x in html_math_mltag.iterchildren()]\n",
    "        #     identifier_candidate = html_math_mltag_component[0]\n",
    "        #     math_txt = [x.text_content()\n",
    "        #                 for x in html_math_mltag_component]\n",
    "        #     if mltag == 'msubsup':\n",
    "        #         math_txt = math_txt[0] + '_' + \\\n",
    "        #             math_txt[1] + '^' + math_txt[2]\n",
    "        #     elif mltag == 'msub':\n",
    "        #         math_txt = math_txt[0] + '_' + math_txt[1]\n",
    "        #     elif mltag == 'msup':\n",
    "        #         math_txt = math_txt[0] + '^' + math_txt[1]\n",
    "        #     elif mltag == 'munderover':\n",
    "        #         math_txt = r'\\overset{' + math_txt[2] + '}{' + \\\n",
    "        #             r'\\underset{' + math_txt[1] + '}{' + math_txt[0] + '}}'\n",
    "        #     elif mltag == 'mover':\n",
    "        #         math_txt = r'\\overset{' + \\\n",
    "        #             math_txt[1] + '}{' + math_txt[0] + '}'\n",
    "        #     elif mltag == 'munder':\n",
    "        #         math_txt = r'\\underset{' + \\\n",
    "        #             math_txt[1] + '}{' + math_txt[0] + '}'\n",
    "        math_txt = tree_to_str(html_math_mltag)\n",
    "\n",
    "\n",
    "        if is_identifier(math_txt) and (\n",
    "                math_txt not in identifiers_):\n",
    "            identifiers_.append(math_txt)\n",
    "        # drop_tree is for extracting w_i without w and i.\n",
    "        html_math_mltag.drop_tree()\n",
    "        reg_string = lxml.html.tostring(\n",
    "            html_math_mltag, encoding='unicode')\n",
    "        if is_identifier(math_txt):\n",
    "            reg_string_list_.append(\n",
    "                (math_txt, reg_string, 'MATH{:04d}'.format(\n",
    "                    identifiers_.index(math_txt))))\n",
    "        else:\n",
    "            reg_string_list_.append(\n",
    "                (math_txt, reg_string, math_txt))\n",
    "    return identifiers_, reg_string_list_"
   ]
  },
  {
   "cell_type": "code",
   "execution_count": 82,
   "metadata": {},
   "outputs": [],
   "source": [
    "# x_text = \"\"\"\n",
    "# <p class=\"ltx_p\">Next, we show how the general energy balance in Eq. 2-10 can be simplified for this particular example.For a pure liquid at low or moderate pressures, the internal energy is approximately equal to the enthalpy, <math id=\"S1.SS1.p2.m1\" class=\"ltx_Math\" alttext=\"U_{\\rm int}\\approx H\" display=\"inline\"><mrow><msub><mi>U</mi><mi>int</mi></msub><mo>≈</mo><mi>H</mi></mrow></math>, and <math id=\"S1.SS1.p2.m2\" class=\"ltx_Math\" alttext=\"H\" display=\"inline\"><mi>H</mi></math> depends only on temperature (Sandler, 2006).Consequently, in the subsequent development, we assume that <math id=\"S1.SS1.p2.m3\" class=\"ltx_Math\" alttext=\"U_{\\rm int}=H\" display=\"inline\"><mrow><msub><mi>U</mi><mi>int</mi></msub><mo>=</mo><mi>H</mi></mrow></math> and <math id=\"S1.SS1.p2.m4\" class=\"ltx_Math\" alttext=\"\\hat{U}_{\\rm int}=\\hat{H}\" display=\"inline\"><mrow><msub><mover accent=\"true\"><mi>U</mi><mo stretchy=\"false\">^</mo></mover><mi>int</mi></msub><mo>=</mo><mover accent=\"true\"><mi>H</mi><mo stretchy=\"false\">^</mo></mover></mrow></math> where the caret (^) means per unit mass.As shown in Appendix C, a differential change in temperature <math id=\"S1.SS1.p2.m5\" class=\"ltx_Math\" alttext=\"dT\" display=\"inline\"><mrow><mi>d</mi><mo>⁢</mo><mi>T</mi></mrow></math>, produces a corresponding change in the internal energy per unit mass, <math id=\"S1.SS1.p2.m6\" class=\"ltx_Math\" alttext=\"d\\hat{U}_{\\rm int}\" display=\"inline\"><mrow><mi>d</mi><mo>⁢</mo><msub><mover accent=\"true\"><mi>U</mi><mo stretchy=\"false\">^</mo></mover><mi>int</mi></msub></mrow></math>,</p>\n",
    "# \"\"\"\n",
    "x_text = \"\"\"\n",
    "<p class=\"ltx_p\">Consequently, in the subsequent development, we assume that <math id=\"S1.SS1.p2.m3\" class=\"ltx_Math\" alttext=\"U_{\\rm int}=H\" display=\"inline\"><mrow><msub><mi>U</mi><mi>int</mi></msub><mo>=</mo><mi>H</mi></mrow></math> and <math id=\"S1.SS1.p2.m4\" class=\"ltx_Math\" alttext=\"\\hat{U}_{\\rm int}=\\hat{H}\" display=\"inline\"><mrow><msub><mover accent=\"true\"><mi>U</mi><mo stretchy=\"false\">^</mo></mover><mi>int</mi></msub><mo>=</mo><mover accent=\"true\"><mi>H</mi><mo stretchy=\"false\">^</mo></mover></mrow></math> where the caret (^) means per unit mass.</p>\n",
    "\"\"\""
   ]
  },
  {
   "cell_type": "code",
   "execution_count": 83,
   "metadata": {},
   "outputs": [],
   "source": [
    "import copy"
   ]
  },
  {
   "cell_type": "code",
   "execution_count": 84,
   "metadata": {
    "tags": []
   },
   "outputs": [],
   "source": [
    "tree = lxml.html.parse(doc[0].path)\n",
    "html = tree.getroot()\n",
    "x_list = html.cssselect('math')"
   ]
  },
  {
   "cell_type": "code",
   "execution_count": 85,
   "metadata": {
    "tags": []
   },
   "outputs": [
    {
     "output_type": "error",
     "ename": "IndexError",
     "evalue": "string index out of range",
     "traceback": [
      "\u001b[0;31m---------------------------------------------------------------------------\u001b[0m",
      "\u001b[0;31mIndexError\u001b[0m                                Traceback (most recent call last)",
      "\u001b[0;32m<ipython-input-85-3c1fddd0ef5b>\u001b[0m in \u001b[0;36m<module>\u001b[0;34m\u001b[0m\n\u001b[1;32m     12\u001b[0m \u001b[0;32mfor\u001b[0m \u001b[0mhtml_math_mltag\u001b[0m \u001b[0;32min\u001b[0m \u001b[0mcopy\u001b[0m\u001b[0;34m.\u001b[0m\u001b[0mdeepcopy\u001b[0m\u001b[0;34m(\u001b[0m\u001b[0mx_tree\u001b[0m\u001b[0;34m)\u001b[0m\u001b[0;34m.\u001b[0m\u001b[0mcssselect\u001b[0m\u001b[0;34m(\u001b[0m\u001b[0;34m'math'\u001b[0m\u001b[0;34m)\u001b[0m\u001b[0;34m:\u001b[0m\u001b[0;34m\u001b[0m\u001b[0;34m\u001b[0m\u001b[0m\n\u001b[1;32m     13\u001b[0m     \u001b[0;32mfor\u001b[0m \u001b[0mmltag\u001b[0m \u001b[0;32min\u001b[0m \u001b[0mmltags\u001b[0m\u001b[0;34m:\u001b[0m\u001b[0;34m\u001b[0m\u001b[0;34m\u001b[0m\u001b[0m\n\u001b[0;32m---> 14\u001b[0;31m         \u001b[0midentifiers\u001b[0m\u001b[0;34m,\u001b[0m \u001b[0mreg_string_list\u001b[0m \u001b[0;34m=\u001b[0m \u001b[0mextract_ml_component\u001b[0m\u001b[0;34m(\u001b[0m\u001b[0mhtml_math_mltag\u001b[0m\u001b[0;34m,\u001b[0m \u001b[0mmltag\u001b[0m\u001b[0;34m,\u001b[0m \u001b[0midentifiers\u001b[0m\u001b[0;34m,\u001b[0m \u001b[0mreg_string_list\u001b[0m\u001b[0;34m)\u001b[0m\u001b[0;34m\u001b[0m\u001b[0;34m\u001b[0m\u001b[0m\n\u001b[0m",
      "\u001b[0;32m<ipython-input-81-283454c2416c>\u001b[0m in \u001b[0;36mextract_ml_component\u001b[0;34m(html_cssselect_math, mltag, identifiers, reg_string_list)\u001b[0m\n\u001b[1;32m     95\u001b[0m \u001b[0;34m\u001b[0m\u001b[0m\n\u001b[1;32m     96\u001b[0m \u001b[0;34m\u001b[0m\u001b[0m\n\u001b[0;32m---> 97\u001b[0;31m         if is_identifier(math_txt) and (\n\u001b[0m\u001b[1;32m     98\u001b[0m                 math_txt not in identifiers_):\n\u001b[1;32m     99\u001b[0m             \u001b[0midentifiers_\u001b[0m\u001b[0;34m.\u001b[0m\u001b[0mappend\u001b[0m\u001b[0;34m(\u001b[0m\u001b[0mmath_txt\u001b[0m\u001b[0;34m)\u001b[0m\u001b[0;34m\u001b[0m\u001b[0;34m\u001b[0m\u001b[0m\n",
      "\u001b[0;32m<ipython-input-81-283454c2416c>\u001b[0m in \u001b[0;36mis_identifier\u001b[0;34m(math_txt)\u001b[0m\n\u001b[1;32m      1\u001b[0m \u001b[0;32mdef\u001b[0m \u001b[0mis_identifier\u001b[0m\u001b[0;34m(\u001b[0m\u001b[0mmath_txt\u001b[0m\u001b[0;34m)\u001b[0m\u001b[0;34m:\u001b[0m\u001b[0;34m\u001b[0m\u001b[0;34m\u001b[0m\u001b[0m\n\u001b[0;32m----> 2\u001b[0;31m     \u001b[0mnot_number\u001b[0m \u001b[0;34m=\u001b[0m \u001b[0mmath_txt\u001b[0m\u001b[0;34m[\u001b[0m\u001b[0;36m0\u001b[0m\u001b[0;34m]\u001b[0m \u001b[0;32mnot\u001b[0m \u001b[0;32min\u001b[0m \u001b[0;34m[\u001b[0m\u001b[0;36m1\u001b[0m\u001b[0;34m,\u001b[0m \u001b[0;36m2\u001b[0m\u001b[0;34m,\u001b[0m \u001b[0;36m3\u001b[0m\u001b[0;34m,\u001b[0m \u001b[0;36m4\u001b[0m\u001b[0;34m,\u001b[0m \u001b[0;36m5\u001b[0m\u001b[0;34m,\u001b[0m \u001b[0;36m6\u001b[0m\u001b[0;34m,\u001b[0m \u001b[0;36m7\u001b[0m\u001b[0;34m,\u001b[0m \u001b[0;36m8\u001b[0m\u001b[0;34m,\u001b[0m \u001b[0;36m9\u001b[0m\u001b[0;34m,\u001b[0m \u001b[0;36m0\u001b[0m\u001b[0;34m]\u001b[0m\u001b[0;34m\u001b[0m\u001b[0;34m\u001b[0m\u001b[0m\n\u001b[0m\u001b[1;32m      3\u001b[0m     \u001b[0;32mreturn\u001b[0m \u001b[0mnot_number\u001b[0m\u001b[0;34m\u001b[0m\u001b[0;34m\u001b[0m\u001b[0m\n\u001b[1;32m      4\u001b[0m \u001b[0;34m\u001b[0m\u001b[0m\n\u001b[1;32m      5\u001b[0m \u001b[0;34m\u001b[0m\u001b[0m\n",
      "\u001b[0;31mIndexError\u001b[0m: string index out of range"
     ]
    }
   ],
   "source": [
    "i, r = [], []\n",
    "x_tree = lxml.html.fromstring(x_text)\n",
    "# print(x_tree.text_content())\n",
    "# for x_math in copy.deepcopy(x_tree).cssselect('math'):\n",
    "#     print(tree_to_str(x_math))\n",
    "    # print(extract_ml_component(x_math, 'mover', i, r))\n",
    "# print(x_tree.text_content())\n",
    "math_txt = []\n",
    "identifiers = []\n",
    "reg_string_list = []\n",
    "mltags = ['msubsup', 'msub', 'msup', 'munderover', 'munder', 'mover']\n",
    "for html_math_mltag in copy.deepcopy(x_tree).cssselect('math'):\n",
    "    for mltag in mltags:\n",
    "        identifiers, reg_string_list = extract_ml_component(html_math_mltag, mltag, identifiers, reg_string_list)\n"
   ]
  },
  {
   "cell_type": "code",
   "execution_count": 80,
   "metadata": {},
   "outputs": [
    {
     "output_type": "execute_result",
     "data": {
      "text/plain": "['Uxintx', '\\\\overset{^}{U}intx', 'Hx^x']"
     },
     "metadata": {},
     "execution_count": 80
    }
   ],
   "source": [
    "identifiers"
   ]
  },
  {
   "cell_type": "code",
   "execution_count": 68,
   "metadata": {
    "tags": []
   },
   "outputs": [
    {
     "output_type": "execute_result",
     "data": {
      "text/plain": "[('Uxintx', '<msub><mi>U</mi><mi>int</mi></msub>', 'MATH0000'),\n ('\\\\overset{^}{U}intx',\n  '<msub><mover accent=\"true\"><mi>U</mi><mo stretchy=\"false\">^</mo></mover><mi>int</mi></msub>',\n  'MATH0001'),\n ('Hx^x',\n  '<mover accent=\"true\"><mi>H</mi><mo stretchy=\"false\">^</mo></mover>',\n  'MATH0002')]"
     },
     "metadata": {},
     "execution_count": 68
    }
   ],
   "source": [
    "reg_string_list"
   ]
  }
 ],
 "metadata": {
  "language_info": {
   "codemirror_mode": {
    "name": "ipython",
    "version": 3
   },
   "file_extension": ".py",
   "mimetype": "text/x-python",
   "name": "python",
   "nbconvert_exporter": "python",
   "pygments_lexer": "ipython3",
   "version": "3.8.2-final"
  },
  "orig_nbformat": 2,
  "kernelspec": {
   "name": "python_defaultSpec_1594604598303",
   "language": "python",
   "display_name": "Python 3.8.2 64-bit ('3.8.2': pyenv)"
  },
  "pycharm": {
   "stem_cell": {
    "cell_type": "raw",
    "source": [],
    "metadata": {
     "collapsed": false
    }
   }
  }
 },
 "nbformat": 4,
 "nbformat_minor": 2
}