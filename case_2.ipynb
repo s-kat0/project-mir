{
 "cells": [
  {
   "cell_type": "code",
   "execution_count": 1,
   "metadata": {},
   "outputs": [],
   "source": [
    "import copy\n",
    "import lxml.html\n",
    "from pathlib import Path\n",
    "import pickle\n",
    "import re\n",
    "import time\n",
    "from tqdm import tqdm\n",
    "\n",
    "from stanza.server import CoreNLPClient\n",
    "\n",
    "from projectmir.xmldocument_1 import XMLDocument\n",
    "from projectmir.functions import find_identifier_definition"
   ]
  },
  {
   "cell_type": "code",
   "execution_count": 2,
   "metadata": {
    "tags": []
   },
   "outputs": [
    {
     "name": "stderr",
     "output_type": "stream",
     "text": [
      "2it [01:28, 44.42s/it]\n"
     ]
    },
    {
     "name": "stdout",
     "output_type": "stream",
     "text": [
      "elapsed time : 0.0000381 seconds ---\n",
      "preprocessed document\n",
      "elapsed time : 0.0055511 seconds ---\n",
      "Number of math components is 50\n",
      "elapsed time : 0.0782993 seconds ---\n",
      "elapsed time : 0.1246581 seconds ---\n",
      "Starting server with command: java -Xmx16G -cp /Users/kato/GoogleDrive/project-mir/data/resources/stanford-corenlp-4.1.0/* edu.stanford.nlp.pipeline.StanfordCoreNLPServer -port 9000 -timeout 600000 -threads 5 -maxCharLength 100000 -quiet True -serverProperties corenlp_server-b6bff37db5954cca.props -preload tokenize,ssplit,pos\n",
      "elapsed time : 2.0794942 seconds ---\n",
      "Starting server with command: java -Xmx16G -cp /Users/kato/GoogleDrive/project-mir/data/resources/stanford-corenlp-4.1.0/* edu.stanford.nlp.pipeline.StanfordCoreNLPServer -port 9000 -timeout 600000 -threads 5 -maxCharLength 100000 -quiet True -serverProperties corenlp_server-592084389ed54875.props -preload tokenize,ssplit,pos,lemma,ner,parse,depparse,coref\n",
      "extract_noun_phrases\n",
      "elapsed time : 45.2497590 seconds ---\n",
      "elapsed time : 45.2503181 seconds ---\n",
      "elapsed time : 0.0000079 seconds ---\n",
      "preprocessed document\n",
      "elapsed time : 0.0098341 seconds ---\n",
      "Number of math components is 50\n",
      "elapsed time : 0.0399759 seconds ---\n",
      "elapsed time : 0.0841122 seconds ---\n",
      "Starting server with command: java -Xmx16G -cp /Users/kato/GoogleDrive/project-mir/data/resources/stanford-corenlp-4.1.0/* edu.stanford.nlp.pipeline.StanfordCoreNLPServer -port 9000 -timeout 600000 -threads 5 -maxCharLength 100000 -quiet True -serverProperties corenlp_server-44b8aeeff25f4593.props -preload tokenize,ssplit,pos\n",
      "elapsed time : 2.0484762 seconds ---\n",
      "Starting server with command: java -Xmx16G -cp /Users/kato/GoogleDrive/project-mir/data/resources/stanford-corenlp-4.1.0/* edu.stanford.nlp.pipeline.StanfordCoreNLPServer -port 9000 -timeout 600000 -threads 5 -maxCharLength 100000 -quiet True -serverProperties corenlp_server-e14a6d96c50845ee.props -preload tokenize,ssplit,pos,lemma,ner,parse,depparse,coref\n",
      "extract_noun_phrases\n",
      "elapsed time : 43.5812831 seconds ---\n",
      "elapsed time : 43.5816572 seconds ---\n"
     ]
    }
   ],
   "source": [
    "p_path = './data/test_latexml/'\n",
    "p = Path(p_path)\n",
    "x = list(p.glob('*.html'))\n",
    "documents_IDs = [x_.name[:-5] for x_ in x]\n",
    "\n",
    "doc = [[]]*len(documents_IDs)\n",
    "for i, documents_ID in tqdm(enumerate(documents_IDs)):\n",
    "    documents_path = p_path + documents_ID + '.html'\n",
    "    doc_ = find_identifier_definition(documents_path)\n",
    "    doc[i] = doc_\n",
    "\n",
    "save_filename = 'doc' + time.strftime('_%d%b%Y_%H%M%S') + '.pkl'\n",
    "with open(save_filename, 'wb') as f:\n",
    "    pickle.dump(doc, f)\n"
   ]
  },
  {
   "cell_type": "code",
   "execution_count": 3,
   "metadata": {
    "tags": []
   },
   "outputs": [],
   "source": [
    "load_filename = 'doc_23Aug2020_152844.pkl'\n",
    "# load_filename = 'doc.pkl'\n",
    "with open(load_filename, 'rb') as f:\n",
    "    doc = pickle.load(f)\n",
    "# print(doc[0].path)\n",
    "# print(doc[0].identifiers)"
   ]
  },
  {
   "cell_type": "code",
   "execution_count": 4,
   "metadata": {},
   "outputs": [],
   "source": [
    "doc0 = doc[0]"
   ]
  },
  {
   "cell_type": "code",
   "execution_count": 34,
   "metadata": {
    "tags": []
   },
   "outputs": [
    {
     "name": "stderr",
     "output_type": "stream",
     "text": [
      "2020-08-23 16:56:50 INFO: Loading these models for language: en (English):\n",
      "=======================\n",
      "| Processor | Package |\n",
      "-----------------------\n",
      "| tokenize  | ewt     |\n",
      "=======================\n",
      "\n",
      "2020-08-23 16:56:50 INFO: Use device: cpu\n",
      "2020-08-23 16:56:50 INFO: Loading: tokenize\n",
      "2020-08-23 16:56:50 INFO: Done loading processors!\n"
     ]
    },
    {
     "name": "stdout",
     "output_type": "stream",
     "text": [
      "0: Process dynamics and control\n",
      "1: Shota Kato\n",
      "2: June 8 , 2020\n",
      "3: 1 DYNAMIC MODELS OF REPRESENTATIVE PROCESSES\n",
      "4: 1.1 Stirred - Tank Heating Process : Constant Holdup\n",
      "5: Consider the stirred - tank heating system shown in Fig. 2.3 .\n",
      "6: The liquid inlet stream consists of a single component with a mass flow rate MATH0000 and an inlet temperature MATH0001 .\n",
      "7: The tank contents are agitated and heated using an electrical heater that provides a heating rate , MATH0002 .\n",
      "8: A dynamic model will be developed based on the following assumptions :\n",
      "9: 1 .\n",
      "10: Perfect mixing : thus , the exit temperature MATH0003 is also the temperature of the tank contents .\n",
      "11: 2 .\n",
      "12: The inlet and outlet flow rates are equal ; thus , MATH0000 = MATH0004 and the liquid holdup MATH0005 is constant .\n",
      "13: 3 .\n",
      "14: The density MATH0006 and heat capacity MATH0007 of the liquid are assumed to be constant .\n",
      "15: Thus , their temperature dependence is neglected .\n",
      "16: 4 .\n",
      "17: Heat losses are negligible .\n",
      "18: In general , dynamic models are based on conservation laws .\n",
      "19: For this example , it is clear that we should consider an energy balance , because thermal effects predominate .\n",
      "20: A mass balance is not required in view of Assumptions 2 and 3 .\n",
      "21: Next , we show how the general energy balance in Eq. 2 - 10 can be simplified for this particular example .\n",
      "22: For a pure liquid at low or moderate pressures , the internal energy is approximately equal to the enthalpy , MATH0008 ≈ MATH0009 , and MATH0009 depends only on temperature ( Sandler , 2006 ) .\n",
      "23: Consequently , in the subsequent development , we assume that MATH0008 = MATH0009 and MATH0010 = MATH0011 where the caret ( ^ ) means per unit mass .\n",
      "24: As shown in Appendix C , a differential change in temperature MATH0012 ⁢ MATH0003 , produces a corresponding change in the internal energy per unit mass , MATH0012 ⁢ MATH0010 ,\n",
      "25: MATH0012⁢MATH0010=MATH0012⁢MATH0011=MATH0007⁢MATH0012⁢MATH0003\n",
      "26: ( 2 -29 )\n",
      "27: where MATH0007 is the constant pressure heat capacity ( assumed to be constant ) .\n",
      "28: The total internal energy of the liquid in the tank can be expressed as the product of MATH0010 and the mass in the tank , MATH0006 ⁢ MATH0005 :\n",
      "29: MATH0008=MATH0006⁢MATH0005⁢MATH0010\n",
      "30: ( 2-30 )\n",
      "31: An expression for the rate of internal energy accumulation can be derived from Eqs. 2 - 29 and 2 -30 :\n",
      "32: MATH0012⁢MATH0008MATH0012⁢MATH0013=MATH0006⁢MATH0005⁢MATH0007⁢MATH0012⁢MATH0003MATH0012⁢MATH0013\n",
      "33: ( 2-31 )\n",
      "34: Note that this term appears in the general energy balance of Eq. 2-10 .\n",
      "35: Next , we derive an expression for the enthalpy term that appears on the right - hand side of Eq. 2 - 10 .\n",
      "36: Suppose that the liquid in the tank is at a temperature MATH0003 and has an enthalpy , MATH0011 .\n",
      "37: Integrating Eq. 2 - 29 from a reference temperature MATH0014 to MATH0003 gives\n",
      "38: MATH0011 - MATH0015 =MATH0007 ⁢ ( MATH0003 - MATH0014 )\n",
      "39: ( 2-32 )\n",
      "40: where MATH0015 is the value of MATH0011 at MATH0014 .\n",
      "41: Without loss of generality , we assume that MATH0015=0 ( see Appendix C ) .\n",
      "42: Thus , ( 2 -32 ) can be written as :\n",
      "43: MATH0011 = MATH0007 ⁢ ( MATH0003 - MATH0014 )\n",
      "44: ( 2-33 )\n",
      "45: Similarly , for the inlet stream :\n",
      "46: MATH0016 =MATH0007 ⁢ ( MATH0001 -MATH0014 )\n",
      "47: ( 2-34 )\n",
      "48: Substituting ( 2-33 ) and ( 2-34 ) into the convection term of ( 2 - 10 ) gives :\n",
      "49: - MATH0017⁢ ( MATH0004 ⁢ MATH0011 ) = MATH0004 ⁢ [ MATH0007 ⁢ ( MATH0001 - MATH0014 ) ]- MATH0004 ⁢ [ MATH0007 ⁢ ( MATH0003 - MATH0014 ) ]\n",
      "50: ( 2-35 )\n",
      "51: Finally , substitution of ( 2-31 ) and ( 2-35 ) into ( 2 - 10 ) gives the desired dynamic model of the stirred - tank heating system :\n",
      "52: MATH0005⁢MATH0006⁢MATH0007⁢MATH0012⁢MATH0003MATH0012⁢MATH0013=MATH0004⁢MATH0007 ⁢ ( MATH0001 - MATH0003 ) + MATH0002\n",
      "53: ( 2-36 )\n",
      "54: Note that the MATH0014 terms have canceled , because MATH0007 was assumed to be constant , and thus independent of temperature .\n",
      "55: A degrees of freedom analysis for this model gives\n",
      "56: 3 parameters :\n",
      "57: MATH0005 , MATH0006 , MATH0007\n",
      "58: 4 variables :\n",
      "59: MATH0003 , MATH0001 , MATH0004 , MATH0002\n",
      "60: 1 equation : Eq. 2-36\n",
      "61: Thus , the degrees of freedom are MATH0018=4 - 1=3 .\n",
      "62: The process variables are classified as :\n",
      "63: 1 output variable :\n",
      "64: MATH0003\n",
      "65: 3 input variables :\n",
      "66: MATH0001 , MATH0004 , MATH0002\n",
      "67: For control purposes , it is reasonable to classify the three inputs as\n",
      "68: 2 disturbance variables :\n",
      "69: MATH0001 , MATH0004\n",
      "70: 1 manipulated variable : MATH0002\n",
      "71: Generated on Mon Jun 8 18:33:41 2020 by LaTeXML\n"
     ]
    }
   ],
   "source": [
    "# sentence segmentation using stanza\n",
    "import stanza\n",
    "# stanza.download('en')\n",
    "nlp = stanza.Pipeline(lang='en', processors='tokenize')\n",
    "doc_sentence_segmentated = nlp(doc0.text)\n",
    "for i, sentence in enumerate(doc_sentence_segmentated.sentences):\n",
    "    # print(f'========== Sentence {i+1} tokens =======')\n",
    "    # print(*[f'id: {token.id}\\ttext:: {token.text}' for token in sentence.tokens], sep='\\n')\n",
    "    print(f'{i}:', *[f'{token.text}' for token in sentence.tokens])"
   ]
  },
  {
   "cell_type": "code",
   "execution_count": 41,
   "outputs": [],
   "source": [
    "sentence_text = ' '.join([f'{token.text}' for token in sentence.tokens])"
   ],
   "metadata": {
    "collapsed": false,
    "pycharm": {
     "name": "#%%\n"
    }
   }
  },
  {
   "cell_type": "code",
   "execution_count": 42,
   "outputs": [
    {
     "name": "stdout",
     "output_type": "stream",
     "text": [
      "Generated on Mon Jun 8 18:33:41 2020 by LaTeXML\n"
     ]
    }
   ],
   "source": [
    "print(sentence_text)"
   ],
   "metadata": {
    "collapsed": false,
    "pycharm": {
     "name": "#%%\n"
    }
   }
  },
  {
   "cell_type": "code",
   "execution_count": 6,
   "metadata": {
    "tags": []
   },
   "outputs": [
    {
     "output_type": "stream",
     "name": "stdout",
     "text": "Starting server with command: java -Xmx16G -cp /Users/kato/GoogleDrive/project-mir/data/resources/stanford-corenlp-4.1.0/* edu.stanford.nlp.pipeline.StanfordCoreNLPServer -port 9010 -timeout 30000 -threads 5 -maxCharLength 100000 -quiet True -serverProperties corenlp_server-46a0e06b1fdf4238.props -preload tokenize,ssplit\n0:\t Process dynamics and control Shota Kato June 8 , 2020 1 DYNAMIC MODELS OF REPRESENTATIVE PROCESSES 1.1 Stirred - Tank Heating Process : Constant Holdup Consider the stirred - tank heating system shown in Fig. 2.3 .\n1:\t The liquid inlet stream consists of a single component with a mass flow rate MATH0000 and an inlet temperature MATH0001 .\n2:\t The tank contents are agitated and heated using an electrical heater that provides a heating rate , MATH0002 .\n3:\t A dynamic model will be developed based on the following assumptions : 1 .\n4:\t Perfect mixing : thus , the exit temperature MATH0003 is also the temperature of the tank contents .\n5:\t 2 .\n6:\t The inlet and outlet flow rates are equal ; thus , MATH0000 = MATH0004 and the liquid holdup MATH0005 is constant .\n7:\t 3 .\n8:\t The density MATH0006 and heat capacity MATH0007 of the liquid are assumed to be constant .\n9:\t Thus , their temperature dependence is neglected .\n10:\t 4 .\n11:\t Heat losses are negligible .\n12:\t In general , dynamic models are based on conservation laws .\n13:\t For this example , it is clear that we should consider an energy balance , because thermal effects predominate .\n14:\t A mass balance is not required in view of Assumptions 2 and 3 .\n15:\t Next , we show how the general energy balance in Eq .\n16:\t 2 - 10 can be simplified for this particular example .\n17:\t For a pure liquid at low or moderate pressures , the internal energy is approximately equal to the enthalpy , MATH0008 ≈ MATH0009 , and MATH0009 depends only on temperature ( Sandler , 2006 ) .\n18:\t Consequently , in the subsequent development , we assume that MATH0008 = MATH0009 and MATH0010 = MATH0011 where the caret ( ^ ) means per unit mass .\n19:\t As shown in Appendix C , a differential change in temperature MATH0012 MATH0003 , produces a corresponding change in the internal energy per unit mass , MATH0012 MATH0010 , MATH0012 MATH0010 = MATH0012 MATH0011 = MATH0007 MATH0012 MATH0003 ( 2 - 29 ) where MATH0007 is the constant pressure heat capacity ( assumed to be constant ) .\n20:\t The total internal energy of the liquid in the tank can be expressed as the product of MATH0010 and the mass in the tank , MATH0006 MATH0005 : MATH0008 = MATH0006 MATH0005 MATH0010 ( 2 - 30 ) An expression for the rate of internal energy accumulation can be derived from Eqs .\n21:\t 2 - 29 and 2 - 30 : MATH0012 MATH0008MATH0012 MATH0013 = MATH0006 MATH0005 MATH0007 MATH0012 MATH0003MATH0012 MATH0013 ( 2 - 31 ) Note that this term appears in the general energy balance of Eq .\n22:\t 2 - 10 .\n23:\t Next , we derive an expression for the enthalpy term that appears on the right - hand side of Eq .\n24:\t 2 - 10 .\n25:\t Suppose that the liquid in the tank is at a temperature MATH0003 and has an enthalpy , MATH0011 .\n26:\t Integrating Eq .\n27:\t 2 - 29 from a reference temperature MATH0014 to MATH0003 gives MATH0011 - MATH0015 = MATH0007 ( MATH0003 - MATH0014 ) ( 2 - 32 ) where MATH0015 is the value of MATH0011 at MATH0014 .\n28:\t Without loss of generality , we assume that MATH0015 = 0 ( see Appendix C ) .\n29:\t Thus , ( 2 - 32 ) can be written as : MATH0011 = MATH0007 ( MATH0003 - MATH0014 ) ( 2 - 33 ) Similarly , for the inlet stream : MATH0016 = MATH0007 ( MATH0001 - MATH0014 ) ( 2 - 34 ) Substituting ( 2 - 33 ) and ( 2 - 34 ) into the convection term of ( 2 - 10 ) gives : - MATH0017 ( MATH0004 MATH0011 ) = MATH0004 [ MATH0007 ( MATH0001 - MATH0014 ) ] - MATH0004 [ MATH0007 ( MATH0003 - MATH0014 ) ] ( 2 - 35 ) Finally , substitution of ( 2 - 31 ) and ( 2 - 35 ) into ( 2 - 10 ) gives the desired dynamic model of the stirred - tank heating system : MATH0005 MATH0006 MATH0007 MATH0012 MATH0003MATH0012 MATH0013 = MATH0004 MATH0007 ( MATH0001 - MATH0003 ) + MATH0002 ( 2 - 36 ) Note that the MATH0014 terms have canceled , because MATH0007 was assumed to be constant , and thus independent of temperature .\n30:\t A degrees of freedom analysis for this model gives 3 parameters : MATH0005 , MATH0006 , MATH0007 4 variables : MATH0003 , MATH0001 , MATH0004 , MATH0002 1 equation : Eq .\n31:\t 2 - 36 Thus , the degrees of freedom are MATH0018 = 4 - 1 = 3 .\n32:\t The process variables are classified as : 1 output variable : MATH0003 3 input variables : MATH0001 , MATH0004 , MATH0002 For control purposes , it is reasonable to classify the three inputs as 2 disturbance variables : MATH0001 , MATH0004 1 manipulated variable : MATH0002 Generated on Mon Jun 8 18:33:41 2020 by LaTeXML\nCPU times: user 29.5 ms, sys: 21.2 ms, total: 50.7 ms\nWall time: 1.73 s\n"
    }
   ],
   "source": [
    "%%time\n",
    "# sentetnce segmentation using CoreNLP\n",
    "with CoreNLPClient(\n",
    "    annotators=['tokenize', 'ssplit'],#, 'pos', 'lemma', 'ner', 'parse', 'depparse', 'coref'],\n",
    "    timeout=30000,\n",
    "    memory='16G',\n",
    "    endpoint='http://localhost:9010') as client:\n",
    "    ann = client.annotate(doc0.text)\n",
    "# # get the first sentence\n",
    "# sentence = ann.sentence[0]\n",
    "# # print(*[f'id: {token.tokenBeginIndex}\\ttext:: {token.word}' for token in sentence.token], sep='\\n')\n",
    "# print(*[f'{token.word}' for token in sentence.token])\n",
    "for i, sentence in enumerate(ann.sentence):\n",
    "    # print(f'========== Sentence {i+1} tokens =======')\n",
    "    # print(*[f'id: {token.tokenBeginIndex}\\ttext:: {token.word}' for token in sentence.token], sep='\\n')\n",
    "    print(f'{i}:\\t', *[f'{token.word}' for token in sentence.token])\n"
   ]
  },
  {
   "cell_type": "code",
   "execution_count": 43,
   "metadata": {
    "tags": []
   },
   "outputs": [
    {
     "name": "stdout",
     "output_type": "stream",
     "text": [
      "Starting server with command: java -Xmx16G -cp /Users/kato/GoogleDrive/project-mir/data/resources/stanford-corenlp-4.1.0/* edu.stanford.nlp.pipeline.StanfordCoreNLPServer -port 9012 -timeout 30000 -threads 5 -maxCharLength 100000 -quiet True -serverProperties corenlp_server-895089c8d7174406.props -preload tokenize,ssplit,pos,lemma,ner,depparse\n",
      "The liquid inlet stream consists of a single component with a mass flow rate MATH0000 and an inlet temperature MATH0001.\n"
     ]
    }
   ],
   "source": [
    "# https://github.com/stanfordnlp/stanza/issues/288\n",
    "# get noun phrases with tregex\n",
    "def noun_phrases(_client, _text, _annotators=None):\n",
    "    pattern = 'NP'\n",
    "    matches = _client.tregex(_text, pattern, annotators=_annotators)\n",
    "    return [sentence[match_id]['spanString'] for sentence in matches['sentences'] for match_id in sentence]\n",
    "    # print('\\n'.join(['\\t' + sentence[match_id]['spanString'] for sentence in matches['sentences'] for match_id in sentence]))\n",
    "with CoreNLPClient(timeout=30000, memory='16G', endpoint='http://localhost:9012') as client:\n",
    "    sentence_list = doc0.sentences[0]\n",
    "    sentence = sentence_list[0]\n",
    "    print(sentence)\n",
    "    noun_phrase_list = noun_phrases(client, sentence, _annotators='tokenize,ssplit,pos,lemma,parse')\n",
    "\n"
   ]
  },
  {
   "cell_type": "code",
   "execution_count": 44,
   "metadata": {},
   "outputs": [
    {
     "data": {
      "text/plain": "['The liquid inlet stream',\n 'a single component with a mass flow rate MATH0000 and an inlet temperature MATH0001',\n 'a single component',\n 'a mass flow rate MATH0000 and an inlet temperature MATH0001',\n 'a mass flow rate MATH0000',\n 'an inlet temperature MATH0001']"
     },
     "execution_count": 44,
     "metadata": {},
     "output_type": "execute_result"
    }
   ],
   "source": [
    "[i.lstrip() for i in noun_phrase_list]"
   ]
  },
  {
   "cell_type": "code",
   "execution_count": 9,
   "metadata": {},
   "outputs": [
    {
     "output_type": "execute_result",
     "data": {
      "text/plain": "'The liquid inlet stream consists of a single component with a mass flow rate MATH0000 and an inlet temperature MATH0001.'"
     },
     "metadata": {},
     "execution_count": 9
    }
   ],
   "source": [
    "doc0.sentences[0][0]"
   ]
  },
  {
   "cell_type": "code",
   "execution_count": null,
   "metadata": {},
   "outputs": [],
   "source": []
  },
  {
   "cell_type": "code",
   "execution_count": null,
   "metadata": {},
   "outputs": [],
   "source": []
  },
  {
   "cell_type": "code",
   "execution_count": null,
   "metadata": {},
   "outputs": [],
   "source": []
  },
  {
   "cell_type": "code",
   "execution_count": null,
   "metadata": {},
   "outputs": [],
   "source": []
  },
  {
   "cell_type": "code",
   "execution_count": 7,
   "metadata": {
    "tags": []
   },
   "outputs": [
    {
     "output_type": "stream",
     "name": "stdout",
     "text": "w_i\n(NP (DT The) (JJ liquid) (NN inlet) (NN stream))\n(NP\n  (NP (DT a) (JJ single) (NN component))\n  (PP (IN with)\n    (NP\n      (NP (DT a) (NN mass) (NN flow) (NN rate) (NN MATH0000))\n      (CC and)\n      (NP (DT an) (JJ inlet) (NN temperature) (NN MATH0001)))))\n(NP (DT a) (JJ single) (NN component))\n(NP\n  (NP (DT a) (NN mass) (NN flow) (NN rate) (NN MATH0000))\n  (CC and)\n  (NP (DT an) (JJ inlet) (NN temperature) (NN MATH0001)))\n(NP (DT a) (NN mass) (NN flow) (NN rate) (NN MATH0000))\n(NP (DT an) (JJ inlet) (NN temperature) (NN MATH0001))\n(NP (DT The)\n  (NP\n    (NP (NN inlet))\n    (CC and)\n    (NP (NN outlet) (NN flow) (NNS rates))))\n(NP\n  (NP (NN inlet))\n  (CC and)\n  (NP (NN outlet) (NN flow) (NNS rates)))\n(NP (NN inlet))\n(NP (NN outlet) (NN flow) (NNS rates))\n(NP\n  (NP (NN MATH0000) (JJ =) (NN MATH0004))\n  (CC and)\n  (NP (DT the) (JJ liquid) (NN holdup) (NN MATH0005)))\n(NP (NN MATH0000) (JJ =) (NN MATH0004))\n(NP (DT the) (JJ liquid) (NN holdup) (NN MATH0005))\n\n\nT_i\n(NP (DT The) (JJ liquid) (NN inlet) (NN stream))\n(NP\n  (NP (DT a) (JJ single) (NN component))\n  (PP (IN with)\n    (NP\n      (NP (DT a) (NN mass) (NN flow) (NN rate) (NN MATH0000))\n      (CC and)\n      (NP (DT an) (JJ inlet) (NN temperature) (NN MATH0001)))))\n(NP (DT a) (JJ single) (NN component))\n(NP\n  (NP (DT a) (NN mass) (NN flow) (NN rate) (NN MATH0000))\n  (CC and)\n  (NP (DT an) (JJ inlet) (NN temperature) (NN MATH0001)))\n(NP (DT a) (NN mass) (NN flow) (NN rate) (NN MATH0000))\n(NP (DT an) (JJ inlet) (NN temperature) (NN MATH0001))\n\n\nQ\n(NP (DT The) (NN tank) (NNS contents))\n(NP\n  (NP (DT an) (JJ electrical) (NN heater))\n  (SBAR\n    (WHNP (WDT that))\n    (S\n      (VP (VBZ provides)\n        (NP\n          (NP (DT a) (NN heating) (NN rate))\n          (, ,)\n          (NP (NN MATH0002)))))))\n(NP (DT an) (JJ electrical) (NN heater))\n(NP\n  (NP (DT a) (NN heating) (NN rate))\n  (, ,)\n  (NP (NN MATH0002)))\n(NP (DT a) (NN heating) (NN rate))\n(NP (NN MATH0002))\n\n\nT\n(NP\n  (NP (NNP Perfect)\n    (VP (VBG mixing)))\n  (: :)\n  (S\n    (ADVP (RB thus))\n    (, ,)\n    (NP (DT the) (NN exit) (NN temperature) (NN MATH0003))\n    (VP (VBZ is)\n      (ADVP (RB also))\n      (NP\n        (NP (DT the) (NN temperature))\n        (PP (IN of)\n          (NP (DT the) (NN tank) (NNS contents))))))\n  (. .))\n(NP (NNP Perfect)\n  (VP (VBG mixing)))\n(NP (DT the) (NN exit) (NN temperature) (NN MATH0003))\n(NP\n  (NP (DT the) (NN temperature))\n  (PP (IN of)\n    (NP (DT the) (NN tank) (NNS contents))))\n(NP (DT the) (NN temperature))\n(NP (DT the) (NN tank) (NNS contents))\n(NP\n  (NP (DT the) (NN liquid))\n  (PP (IN in)\n    (NP (DT the) (NN tank))))\n(NP (DT the) (NN liquid))\n(NP (DT the) (NN tank))\n(NP (DT a) (NN temperature) (NN MATH0003))\n(NP\n  (NP (DT an) (NN enthalpy))\n  (, ,)\n  (NP (NN MATH0011)))\n(NP (DT an) (NN enthalpy))\n(NP (NN MATH0011))\n\n\nw\n(NP (DT The)\n  (NP\n    (NP (NN inlet))\n    (CC and)\n    (NP (NN outlet) (NN flow) (NNS rates))))\n(NP\n  (NP (NN inlet))\n  (CC and)\n  (NP (NN outlet) (NN flow) (NNS rates)))\n(NP (NN inlet))\n(NP (NN outlet) (NN flow) (NNS rates))\n(NP\n  (NP (NN MATH0000) (JJ =) (NN MATH0004))\n  (CC and)\n  (NP (DT the) (JJ liquid) (NN holdup) (NN MATH0005)))\n(NP (NN MATH0000) (JJ =) (NN MATH0004))\n(NP (DT the) (JJ liquid) (NN holdup) (NN MATH0005))\n\n\nV\n(NP (DT The)\n  (NP\n    (NP (NN inlet))\n    (CC and)\n    (NP (NN outlet) (NN flow) (NNS rates))))\n(NP\n  (NP (NN inlet))\n  (CC and)\n  (NP (NN outlet) (NN flow) (NNS rates)))\n(NP (NN inlet))\n(NP (NN outlet) (NN flow) (NNS rates))\n(NP\n  (NP (NN MATH0000) (JJ =) (NN MATH0004))\n  (CC and)\n  (NP (DT the) (JJ liquid) (NN holdup) (NN MATH0005)))\n(NP (NN MATH0000) (JJ =) (NN MATH0004))\n(NP (DT the) (JJ liquid) (NN holdup) (NN MATH0005))\n\n\nρ\n(NP\n  (NP (DT The) (NN density) (NN MATH0006))\n  (CC and)\n  (NP\n    (NP (NN heat) (NN capacity) (NN MATH0007))\n    (PP (IN of)\n      (NP (DT the) (NN liquid)))))\n(NP (DT The) (NN density) (NN MATH0006))\n(NP\n  (NP (NN heat) (NN capacity) (NN MATH0007))\n  (PP (IN of)\n    (NP (DT the) (NN liquid))))\n(NP (NN heat) (NN capacity) (NN MATH0007))\n(NP (DT the) (NN liquid))\n\n\nC\n(NP\n  (NP (DT The) (NN density) (NN MATH0006))\n  (CC and)\n  (NP\n    (NP (NN heat) (NN capacity) (NN MATH0007))\n    (PP (IN of)\n      (NP (DT the) (NN liquid)))))\n(NP (DT The) (NN density) (NN MATH0006))\n(NP\n  (NP (NN heat) (NN capacity) (NN MATH0007))\n  (PP (IN of)\n    (NP (DT the) (NN liquid))))\n(NP (NN heat) (NN capacity) (NN MATH0007))\n(NP (DT the) (NN liquid))\n(NP (NN MATH0007))\n(NP\n  (NP (DT the) (JJ constant) (NN pressure) (NN heat) (NN capacity))\n  (PRN (-LRB- -LRB-)\n    (VP (VBN assumed)\n      (S\n        (VP (TO to)\n          (VP (VB be)\n            (ADJP (JJ constant))))))\n    (-RRB- -RRB-)))\n(NP (DT the) (JJ constant) (NN pressure) (NN heat) (NN capacity))\n(NP (DT the) (NN MATH0014) (NNS terms))\n(NP (NN MATH0007))\n(NP (NN temperature))\n\n\nU_int\n(NP\n  (NP (DT a) (JJ pure) (NN liquid))\n  (PP (IN at)\n    (NP\n      (ADJP\n        (ADJP (JJ low))\n        (CC or)\n        (ADJP (JJ moderate)))\n      (NNS pressures))))\n(NP (DT a) (JJ pure) (NN liquid))\n(NP\n  (ADJP\n    (ADJP (JJ low))\n    (CC or)\n    (ADJP (JJ moderate)))\n  (NNS pressures))\n(NP (DT the) (JJ internal) (NN energy))\n(NP (DT the) (NN enthalpy))\n(NP\n  (NP (NN MATH0008) (CD ≈) (NN MATH0009))\n  (, ,)\n  (CC and)\n  (NP (NN MATH0009)))\n(NP (NN MATH0008) (CD ≈) (NN MATH0009))\n(NP (NN MATH0009))\n(NP\n  (NP (NN temperature))\n  (PRN (-LRB- -LRB-)\n    (NP\n      (NP (NNP Sandler))\n      (, ,)\n      (NP (CD 2006)))\n    (-RRB- -RRB-)))\n(NP (NN temperature))\n(NP\n  (NP (NNP Sandler))\n  (, ,)\n  (NP (CD 2006)))\n(NP (NNP Sandler))\n(NP (CD 2006))\n(NP (DT the) (JJ subsequent) (NN development))\n(NP (PRP we))\n(NP (NN MATH0008) (JJ =)\n  (NP (NN MATH0009))\n  (CC and)\n  (NP (NN MATH0010)))\n(NP (NN MATH0009))\n(NP (NN MATH0010))\n(NP\n  (NP (NN MATH0011))\n  (SBAR\n    (WHADVP (WRB where))\n    (S\n      (NP\n        (NP (DT the) (NN caret))\n        (PRN (-LRB- -LRB-)\n          (NP (NN ^))\n          (-RRB- -RRB-)))\n      (VP (VBZ means)\n        (PP (IN per)\n          (NP (NN unit) (NN mass)))))))\n(NP (NN MATH0011))\n(NP\n  (NP (DT the) (NN caret))\n  (PRN (-LRB- -LRB-)\n    (NP (NN ^))\n    (-RRB- -RRB-)))\n(NP (DT the) (NN caret))\n(NP (NN ^))\n(NP (NN unit) (NN mass))\n\n\nH\n(NP\n  (NP (DT a) (JJ pure) (NN liquid))\n  (PP (IN at)\n    (NP\n      (ADJP\n        (ADJP (JJ low))\n        (CC or)\n        (ADJP (JJ moderate)))\n      (NNS pressures))))\n(NP (DT a) (JJ pure) (NN liquid))\n(NP\n  (ADJP\n    (ADJP (JJ low))\n    (CC or)\n    (ADJP (JJ moderate)))\n  (NNS pressures))\n(NP (DT the) (JJ internal) (NN energy))\n(NP (DT the) (NN enthalpy))\n(NP\n  (NP (NN MATH0008) (CD ≈) (NN MATH0009))\n  (, ,)\n  (CC and)\n  (NP (NN MATH0009)))\n(NP (NN MATH0008) (CD ≈) (NN MATH0009))\n(NP (NN MATH0009))\n(NP\n  (NP (NN temperature))\n  (PRN (-LRB- -LRB-)\n    (NP\n      (NP (NNP Sandler))\n      (, ,)\n      (NP (CD 2006)))\n    (-RRB- -RRB-)))\n(NP (NN temperature))\n(NP\n  (NP (NNP Sandler))\n  (, ,)\n  (NP (CD 2006)))\n(NP (NNP Sandler))\n(NP (CD 2006))\n(NP (DT the) (JJ subsequent) (NN development))\n(NP (PRP we))\n(NP (NN MATH0008) (JJ =)\n  (NP (NN MATH0009))\n  (CC and)\n  (NP (NN MATH0010)))\n(NP (NN MATH0009))\n(NP (NN MATH0010))\n(NP\n  (NP (NN MATH0011))\n  (SBAR\n    (WHADVP (WRB where))\n    (S\n      (NP\n        (NP (DT the) (NN caret))\n        (PRN (-LRB- -LRB-)\n          (NP (NN ^))\n          (-RRB- -RRB-)))\n      (VP (VBZ means)\n        (PP (IN per)\n          (NP (NN unit) (NN mass)))))))\n(NP (NN MATH0011))\n(NP\n  (NP (DT the) (NN caret))\n  (PRN (-LRB- -LRB-)\n    (NP (NN ^))\n    (-RRB- -RRB-)))\n(NP (DT the) (NN caret))\n(NP (NN ^))\n(NP (NN unit) (NN mass))\n\n\n\\overset{^}{U}_int\n(NP (DT the) (JJ subsequent) (NN development))\n(NP (PRP we))\n(NP (NN MATH0008) (JJ =)\n  (NP (NN MATH0009))\n  (CC and)\n  (NP (NN MATH0010)))\n(NP (NN MATH0009))\n(NP (NN MATH0010))\n(NP\n  (NP (NN MATH0011))\n  (SBAR\n    (WHADVP (WRB where))\n    (S\n      (NP\n        (NP (DT the) (NN caret))\n        (PRN (-LRB- -LRB-)\n          (NP (NN ^))\n          (-RRB- -RRB-)))\n      (VP (VBZ means)\n        (PP (IN per)\n          (NP (NN unit) (NN mass)))))))\n(NP (NN MATH0011))\n(NP\n  (NP (DT the) (NN caret))\n  (PRN (-LRB- -LRB-)\n    (NP (NN ^))\n    (-RRB- -RRB-)))\n(NP (DT the) (NN caret))\n(NP (NN ^))\n(NP (NN unit) (NN mass))\n\n\n\\overset{^}{H}\n(NP (DT the) (JJ subsequent) (NN development))\n(NP (PRP we))\n(NP (NN MATH0008) (JJ =)\n  (NP (NN MATH0009))\n  (CC and)\n  (NP (NN MATH0010)))\n(NP (NN MATH0009))\n(NP (NN MATH0010))\n(NP\n  (NP (NN MATH0011))\n  (SBAR\n    (WHADVP (WRB where))\n    (S\n      (NP\n        (NP (DT the) (NN caret))\n        (PRN (-LRB- -LRB-)\n          (NP (NN ^))\n          (-RRB- -RRB-)))\n      (VP (VBZ means)\n        (PP (IN per)\n          (NP (NN unit) (NN mass)))))))\n(NP (NN MATH0011))\n(NP\n  (NP (DT the) (NN caret))\n  (PRN (-LRB- -LRB-)\n    (NP (NN ^))\n    (-RRB- -RRB-)))\n(NP (DT the) (NN caret))\n(NP (NN ^))\n(NP (NN unit) (NN mass))\n(NP\n  (NP (DT the) (NN liquid))\n  (PP (IN in)\n    (NP (DT the) (NN tank))))\n(NP (DT the) (NN liquid))\n(NP (DT the) (NN tank))\n(NP (DT a) (NN temperature) (NN MATH0003))\n(NP\n  (NP (DT an) (NN enthalpy))\n  (, ,)\n  (NP (NN MATH0011)))\n(NP (DT an) (NN enthalpy))\n(NP (NN MATH0011))\n(NP (NNP MATH0015))\n(NP\n  (NP (DT the) (NN value))\n  (PP (IN of)\n    (NP (NN MATH0011))))\n(NP (DT the) (NN value))\n(NP (NN MATH0011))\n(NP (NN MATH0014))\n\n\nd\n\n\nt\n\n\nT_ref\n(NP (NNP MATH0015))\n(NP\n  (NP (DT the) (NN value))\n  (PP (IN of)\n    (NP (NN MATH0011))))\n(NP (DT the) (NN value))\n(NP (NN MATH0011))\n(NP (NN MATH0014))\n(NP (DT the) (NN MATH0014) (NNS terms))\n(NP (NN MATH0007))\n(NP (NN temperature))\n\n\n\\overset{^}{H}_ref\n(NP (NNP MATH0015))\n(NP\n  (NP (DT the) (NN value))\n  (PP (IN of)\n    (NP (NN MATH0011))))\n(NP (DT the) (NN value))\n(NP (NN MATH0011))\n(NP (NN MATH0014))\n(NP\n  (NP (NN loss))\n  (PP (IN of)\n    (NP (NN generality))))\n(NP (NN loss))\n(NP (NN generality))\n(NP (PRP we))\n(NP (NN MATH0015))\n(NP (CD 0))\n(NP (NN Appendix) (NN C))\n\n\n\\overset{^}{H}_i\n\n\nΔ\n\n\nN_F\n(NP\n  (NP (DT the) (NNS degrees))\n  (PP (IN of)\n    (NP (NN freedom))))\n(NP (DT the) (NNS degrees))\n(NP (NN freedom))\n(NP\n  (NP (NN MATH0018))\n  (ADJP (JJ =)\n    (S\n      (NP (CD 4-1))\n      (VP (JJ =)\n        (NP (CD 3))))))\n(NP (NN MATH0018))\n(NP (CD 4-1))\n(NP (CD 3))\n\n\n"
    }
   ],
   "source": [
    "for identifier, description in zip(doc0.identifiers, doc0.candidate_noun_phrases_list):\n",
    "    print(identifier)\n",
    "    for description_ in description:\n",
    "        for description__ in description_:\n",
    "            def remove_stopwords(description):\n",
    "                description_output = description\n",
    "                # stopwords = []\n",
    "                # stopwords are tags used in tregex and common stopwords.\n",
    "                stopwords = ['\\n', '(', ')', 'NP', 'DT', 'JJ', 'NN', 'PP', 'IN', 'CC']\n",
    "                # 参考：https://qiita.com/syunyo/items/2c1ce1d765f46a5c1d72\n",
    "                \n",
    "                for stopword in stopwords:\n",
    "                    description_output = description_output.replace(stopword, '')\n",
    "                    description_output = description_output.replace('  ', ' ')\n",
    "                return description_output\n",
    "            print(remove_stopwords(description__))\n",
    "            # print(description__.replace('\\n', ''))\n",
    "\n",
    "    print('\\n')"
   ]
  },
  {
   "cell_type": "code",
   "execution_count": null,
   "metadata": {},
   "outputs": [],
   "source": []
  },
  {
   "cell_type": "code",
   "execution_count": null,
   "metadata": {},
   "outputs": [],
   "source": []
  },
  {
   "cell_type": "code",
   "execution_count": null,
   "metadata": {},
   "outputs": [],
   "source": []
  },
  {
   "cell_type": "code",
   "execution_count": null,
   "metadata": {},
   "outputs": [],
   "source": []
  },
  {
   "cell_type": "code",
   "execution_count": null,
   "metadata": {},
   "outputs": [],
   "source": []
  },
  {
   "cell_type": "code",
   "execution_count": null,
   "metadata": {},
   "outputs": [],
   "source": []
  },
  {
   "cell_type": "code",
   "execution_count": null,
   "metadata": {},
   "outputs": [],
   "source": []
  },
  {
   "cell_type": "code",
   "execution_count": null,
   "metadata": {},
   "outputs": [],
   "source": []
  },
  {
   "cell_type": "code",
   "execution_count": null,
   "metadata": {},
   "outputs": [],
   "source": []
  },
  {
   "cell_type": "code",
   "execution_count": null,
   "metadata": {},
   "outputs": [],
   "source": []
  },
  {
   "cell_type": "code",
   "execution_count": null,
   "metadata": {},
   "outputs": [],
   "source": []
  },
  {
   "cell_type": "code",
   "execution_count": null,
   "metadata": {},
   "outputs": [],
   "source": []
  },
  {
   "cell_type": "code",
   "execution_count": null,
   "metadata": {},
   "outputs": [],
   "source": []
  },
  {
   "cell_type": "code",
   "execution_count": null,
   "metadata": {},
   "outputs": [],
   "source": []
  },
  {
   "cell_type": "code",
   "execution_count": null,
   "metadata": {},
   "outputs": [],
   "source": []
  },
  {
   "cell_type": "code",
   "execution_count": null,
   "metadata": {},
   "outputs": [],
   "source": []
  },
  {
   "cell_type": "code",
   "execution_count": 5,
   "metadata": {},
   "outputs": [],
   "source": [
    "with open('./doc0_text.txt', 'w') as f:\n",
    "    f.write(doc0.text)\n",
    "with open('./doc0_body.txt', 'w') as f:\n",
    "    f.write(doc0.body)"
   ]
  },
  {
   "cell_type": "code",
   "execution_count": 60,
   "metadata": {
    "tags": []
   },
   "outputs": [
    {
     "data": {
      "text/plain": [
       "13"
      ]
     },
     "execution_count": 60,
     "metadata": {},
     "output_type": "execute_result"
    }
   ],
   "source": [
    "(doc0.candidate_noun_phrases_list[0][0] + doc0.candidate_noun_phrases_list[0][1])"
   ]
  },
  {
   "cell_type": "code",
   "execution_count": 20,
   "metadata": {
    "tags": []
   },
   "outputs": [],
   "source": [
    "with open('./doc0_113130.txt', 'w') as f:\n",
    "    f.write('\\n'.join(doc0.sentences[0]))"
   ]
  },
  {
   "cell_type": "code",
   "execution_count": null,
   "metadata": {},
   "outputs": [],
   "source": [
    "from stanza.server import CoreNLPClient\n"
   ]
  },
  {
   "cell_type": "code",
   "execution_count": 104,
   "metadata": {},
   "outputs": [],
   "source": [
    "def extract_noun_phrases(identifiers, sentences):\n",
    "    candidate_noun_phrases_list = [[]] * len(identifiers)\n",
    "    pattern = 'NP'\n",
    "    with CoreNLPClient(\n",
    "            annotators=['tokenize', 'ssplit', 'pos', 'lemma', 'ner', 'parse', 'depparse', 'coref'],\n",
    "            timeout=600000, memory='16G') as client:\n",
    "        for i, sentence in enumerate(sentences):\n",
    "            if sentence:\n",
    "                candidate_noun_phrases_list_ = []\n",
    "                for text in sentence:\n",
    "                    matches = client.tregex(text, pattern)\n",
    "                    matches = matches['sentences'][0]\n",
    "                    candidates = [matches[match]['match'].rstrip()\n",
    "                                    for match in matches]\n",
    "                    candidate_noun_phrases_list_ += candidates\n",
    "\n",
    "                print('##################')\n",
    "                print(type(candidate_noun_phrases_list_))\n",
    "                print(candidate_noun_phrases_list_)\n",
    "                print('##################')\n",
    "\n",
    "                candidate_noun_phrases_list[i] = candidate_noun_phrases_list_\n",
    "    return candidate_noun_phrases_list"
   ]
  },
  {
   "cell_type": "code",
   "execution_count": 107,
   "metadata": {
    "tags": []
   },
   "outputs": [
    {
     "name": "stdout",
     "output_type": "stream",
     "text": [
      "Starting server with command: java -Xmx16G -cp /Users/kato/GoogleDrive/project-mir/data/resources/stanford-corenlp-full-2018-10-05/* edu.stanford.nlp.pipeline.StanfordCoreNLPServer -port 9000 -timeout 600000 -threads 5 -maxCharLength 100000 -quiet True -serverProperties corenlp_server-c7c45c2a039b4d1b.props -preload tokenize,ssplit,pos,lemma,ner,parse,depparse,coref\n",
      "##################\n",
      "<class 'list'>\n",
      "['(NP (DT The) (JJ liquid) (NN inlet) (NN stream))', '(NP\\n  (NP (DT a) (JJ single) (NN component))\\n  (PP (IN with)\\n    (NP\\n      (NP (DT a) (NN mass) (NN flow) (NN rate) (NN MATH0000))\\n      (CC and)\\n      (NP (DT an) (JJ inlet) (NN temperature) (NN MATH0001)))))', '(NP (DT a) (JJ single) (NN component))', '(NP\\n  (NP (DT a) (NN mass) (NN flow) (NN rate) (NN MATH0000))\\n  (CC and)\\n  (NP (DT an) (JJ inlet) (NN temperature) (NN MATH0001)))', '(NP (DT a) (NN mass) (NN flow) (NN rate) (NN MATH0000))', '(NP (DT an) (JJ inlet) (NN temperature) (NN MATH0001))', '(NP (DT The)\\n  (NP\\n    (NP (NN inlet))\\n    (CC and)\\n    (NP (NN outlet) (NN flow) (NNS rates))))', '(NP\\n  (NP (NN inlet))\\n  (CC and)\\n  (NP (NN outlet) (NN flow) (NNS rates)))', '(NP (NN inlet))', '(NP (NN outlet) (NN flow) (NNS rates))', '(NP\\n  (NP (NN MATH0000) (JJ =) (NN MATH0004))\\n  (CC and)\\n  (NP (DT the) (JJ liquid) (NN holdup) (NN MATH0005)))', '(NP (NN MATH0000) (JJ =) (NN MATH0004))', '(NP (DT the) (JJ liquid) (NN holdup) (NN MATH0005))']\n",
      "##################\n"
     ]
    }
   ],
   "source": [
    "xx = extract_noun_phrases(doc0.identifiers[:1], doc0.sentences[:1])"
   ]
  },
  {
   "cell_type": "code",
   "execution_count": 112,
   "metadata": {
    "tags": []
   },
   "outputs": [
    {
     "name": "stdout",
     "output_type": "stream",
     "text": [
      "(NP (DT The) (JJ liquid) (NN inlet) (NN stream))\n",
      "\n",
      "(NP\n",
      "  (NP (DT a) (JJ single) (NN component))\n",
      "  (PP (IN with)\n",
      "    (NP\n",
      "      (NP (DT a) (NN mass) (NN flow) (NN rate) (NN MATH0000))\n",
      "      (CC and)\n",
      "      (NP (DT an) (JJ inlet) (NN temperature) (NN MATH0001)))))\n",
      "\n",
      "(NP (DT a) (JJ single) (NN component))\n",
      "\n",
      "(NP\n",
      "  (NP (DT a) (NN mass) (NN flow) (NN rate) (NN MATH0000))\n",
      "  (CC and)\n",
      "  (NP (DT an) (JJ inlet) (NN temperature) (NN MATH0001)))\n",
      "\n",
      "(NP (DT a) (NN mass) (NN flow) (NN rate) (NN MATH0000))\n",
      "\n",
      "(NP (DT an) (JJ inlet) (NN temperature) (NN MATH0001))\n",
      "\n",
      "(NP (DT The)\n",
      "  (NP\n",
      "    (NP (NN inlet))\n",
      "    (CC and)\n",
      "    (NP (NN outlet) (NN flow) (NNS rates))))\n",
      "\n",
      "(NP\n",
      "  (NP (NN inlet))\n",
      "  (CC and)\n",
      "  (NP (NN outlet) (NN flow) (NNS rates)))\n",
      "\n",
      "(NP (NN inlet))\n",
      "\n",
      "(NP (NN outlet) (NN flow) (NNS rates))\n",
      "\n",
      "(NP\n",
      "  (NP (NN MATH0000) (JJ =) (NN MATH0004))\n",
      "  (CC and)\n",
      "  (NP (DT the) (JJ liquid) (NN holdup) (NN MATH0005)))\n",
      "\n",
      "(NP (NN MATH0000) (JJ =) (NN MATH0004))\n",
      "\n",
      "(NP (DT the) (JJ liquid) (NN holdup) (NN MATH0005))\n"
     ]
    }
   ],
   "source": [
    "print('\\n\\n'.join(xx[0]))"
   ]
  },
  {
   "cell_type": "code",
   "execution_count": 135,
   "metadata": {},
   "outputs": [
    {
     "data": {
      "text/plain": [
       "[[('The', 'DT'),\n",
       "  ('liquid', 'JJ'),\n",
       "  ('inlet', 'NN'),\n",
       "  ('stream', 'NN'),\n",
       "  ('consists', 'VBZ'),\n",
       "  ('of', 'IN'),\n",
       "  ('a', 'DT'),\n",
       "  ('single', 'JJ'),\n",
       "  ('component', 'NN'),\n",
       "  ('with', 'IN'),\n",
       "  ('a', 'DT'),\n",
       "  ('mass', 'NN'),\n",
       "  ('flow', 'NN'),\n",
       "  ('rate', 'NN'),\n",
       "  ('MATH0000', 'NN'),\n",
       "  ('and', 'CC'),\n",
       "  ('an', 'DT'),\n",
       "  ('inlet', 'JJ'),\n",
       "  ('temperature', 'NN'),\n",
       "  ('MATH0001', 'NN'),\n",
       "  ('.', '.')],\n",
       " [('The', 'DT'),\n",
       "  ('inlet', 'NN'),\n",
       "  ('and', 'CC'),\n",
       "  ('outlet', 'NN'),\n",
       "  ('flow', 'NN'),\n",
       "  ('rates', 'NNS'),\n",
       "  ('are', 'VBP'),\n",
       "  ('equal', 'JJ'),\n",
       "  (';', ':'),\n",
       "  ('thus', 'RB'),\n",
       "  (',', ','),\n",
       "  ('MATH0000', 'NN'),\n",
       "  ('=', 'JJ'),\n",
       "  ('MATH0004', 'NN'),\n",
       "  ('and', 'CC'),\n",
       "  ('the', 'DT'),\n",
       "  ('liquid', 'JJ'),\n",
       "  ('holdup', 'NN'),\n",
       "  ('MATH0005', 'NN'),\n",
       "  ('is', 'VBZ'),\n",
       "  ('constant', 'JJ'),\n",
       "  ('.', '.')]]"
      ]
     },
     "execution_count": 135,
     "metadata": {},
     "output_type": "execute_result"
    }
   ],
   "source": [
    "doc0.tagged_sentence_list[0]"
   ]
  },
  {
   "cell_type": "code",
   "execution_count": 121,
   "metadata": {},
   "outputs": [
    {
     "data": {
      "text/plain": [
       "['(NP (DT The) (JJ liquid) (NN inlet) (NN stream))',\n",
       " '(NP\\n  (NP (DT a) (JJ single) (NN component))\\n  (PP (IN with)\\n    (NP\\n      (NP (DT a) (NN mass) (NN flow) (NN rate) (NN MATH0000))\\n      (CC and)\\n      (NP (DT an) (JJ inlet) (NN temperature) (NN MATH0001)))))',\n",
       " '(NP (DT a) (JJ single) (NN component))',\n",
       " '(NP\\n  (NP (DT a) (NN mass) (NN flow) (NN rate) (NN MATH0000))\\n  (CC and)\\n  (NP (DT an) (JJ inlet) (NN temperature) (NN MATH0001)))',\n",
       " '(NP (DT a) (NN mass) (NN flow) (NN rate) (NN MATH0000))',\n",
       " '(NP (DT an) (JJ inlet) (NN temperature) (NN MATH0001))']"
      ]
     },
     "execution_count": 121,
     "metadata": {},
     "output_type": "execute_result"
    }
   ],
   "source": [
    "doc0.candidate_noun_phrases_list[0][0]\n",
    "# -> 最初のidentifierに対するnoun candidate\n",
    "# candidate にidentifierとの距離を埋め込む．-> candidate.extract_noun_phraseとtagged_sentence_listを比較して，長さを計算する．\n"
   ]
  },
  {
   "cell_type": "code",
   "execution_count": 134,
   "metadata": {
    "tags": []
   },
   "outputs": [
    {
     "data": {
      "text/plain": [
       "'( (DT The) (JJ liquid) (NN inlet) (NN stream))'"
      ]
     },
     "execution_count": 134,
     "metadata": {},
     "output_type": "execute_result"
    }
   ],
   "source": [
    "# 最初のidentifier[0]が含まれる1つ目の文章[0]の1番目のcandidate[0]\n",
    "doc0.candidate_noun_phrases_list[0][0][0].replace('NP', '')"
   ]
  },
  {
   "cell_type": "code",
   "execution_count": 123,
   "metadata": {},
   "outputs": [
    {
     "data": {
      "text/plain": [
       "'The liquid inlet stream consists of a single component with a mass flow rate MATH0000 and an inlet temperature MATH0001.'"
      ]
     },
     "execution_count": 123,
     "metadata": {},
     "output_type": "execute_result"
    }
   ],
   "source": [
    "doc0.sentences[0][0]"
   ]
  },
  {
   "cell_type": "code",
   "execution_count": null,
   "metadata": {},
   "outputs": [],
   "source": [
    "import re\n",
    "import string\n",
    "import numpy as np\n",
    "\n",
    "from nltk.corpus import stopwords\n",
    "from nltk.stem import PorterStemmer\n",
    "from nltk.tokenize import TweetTokenizer\n",
    "\n",
    "\n",
    "def process_tweet(tweet):\n",
    "    \"\"\"Process tweet function.\n",
    "    Input:\n",
    "        tweet: a string containing a tweet\n",
    "    Output:\n",
    "        tweets_clean: a list of words containing the processed tweet\n",
    "\n",
    "    \"\"\"\n",
    "    stemmer = PorterStemmer()\n",
    "    stopwords_english = stopwords.words('english')\n",
    "    # remove stock market tickers like $GE\n",
    "    tweet = re.sub(r'\\$\\w*', '', tweet)\n",
    "    # remove old style retweet text \"RT\"\n",
    "    tweet = re.sub(r'^RT[\\s]+', '', tweet)\n",
    "    # remove hyperlinks\n",
    "    tweet = re.sub(r'https?:\\/\\/.*[\\r\\n]*', '', tweet)\n",
    "    # remove hashtags\n",
    "    # only removing the hash # sign from the word\n",
    "    tweet = re.sub(r'#', '', tweet)\n",
    "    # tokenize tweets\n",
    "    tokenizer = TweetTokenizer(preserve_case=False, strip_handles=True,\n",
    "                               reduce_len=True)\n",
    "    tweet_tokens = tokenizer.tokenize(tweet)\n",
    "\n",
    "    tweets_clean = []\n",
    "    for word in tweet_tokens:\n",
    "        if (word not in stopwords_english and  # remove stopwords\n",
    "                word not in string.punctuation):  # remove punctuation\n",
    "            # tweets_clean.append(word)\n",
    "            stem_word = stemmer.stem(word)  # stemming word\n",
    "            tweets_clean.append(stem_word)\n",
    "\n",
    "    return tweets_clean\n",
    "\n",
    "\n",
    "def build_freqs(tweets, ys):\n",
    "    \"\"\"Build frequencies.\n",
    "    Input:\n",
    "        tweets: a list of tweets\n",
    "        ys: an m x 1 array with the sentiment label of each tweet\n",
    "            (either 0 or 1)\n",
    "    Output:\n",
    "        freqs: a dictionary mapping each (word, sentiment) pair to its\n",
    "        frequency\n",
    "    \"\"\"\n",
    "    # Convert np array to list since zip needs an iterable.\n",
    "    # The squeeze is necessary or the list ends up with one element.\n",
    "    # Also note that this is just a NOP if ys is already a list.\n",
    "    yslist = np.squeeze(ys).tolist()\n",
    "\n",
    "    # Start with an empty dictionary and populate it by looping over all tweets\n",
    "    # and over all processed words in each tweet.\n",
    "    freqs = {}\n",
    "    for y, tweet in zip(yslist, tweets):\n",
    "        for word in process_tweet(tweet):\n",
    "            pair = (word, y)\n",
    "            if pair in freqs:\n",
    "                freqs[pair] += 1\n",
    "            else:\n",
    "                freqs[pair] = 1\n",
    "\n",
    "    return freqs"
   ]
  }
 ],
 "metadata": {
  "kernelspec": {
   "name": "python38264bit382pyenv8395125df6ea4f75b9cf162ac9e2c8f9",
   "language": "python",
   "display_name": "Python 3.8.2 64-bit ('3.8.2': pyenv)"
  },
  "language_info": {
   "codemirror_mode": {
    "name": "ipython",
    "version": 3
   },
   "file_extension": ".py",
   "mimetype": "text/x-python",
   "name": "python",
   "nbconvert_exporter": "python",
   "pygments_lexer": "ipython3",
   "version": "3.8.2-final"
  }
 },
 "nbformat": 4,
 "nbformat_minor": 2
}