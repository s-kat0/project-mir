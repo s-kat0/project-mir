{
 "cells": [
  {
   "cell_type": "code",
   "execution_count": 3,
   "metadata": {},
   "outputs": [],
   "source": [
    "from pathlib import Path\n",
    "import pickle\n",
    "import time\n",
    "from tqdm import tqdm\n",
    "from typing import List\n",
    "import math\n",
    "import pandas as pd\n",
    "import os\n",
    "\n",
    "from projectmir.xmldocument import XMLDocument\n",
    "from projectmir.xmldoc_child import Identifier\n",
    "from projectmir.extract_definition import pattern_based_extract_description, pagel_ranking_candidates, kato_ranking_candidates, Definition, evaluate_identifier_definition\n"
   ]
  },
  {
   "cell_type": "code",
   "execution_count": 2,
   "metadata": {
    "tags": []
   },
   "outputs": [
    {
     "name": "stderr",
     "output_type": "stream",
     "text": [
      "0it [00:00, ?it/s]2020-08-27 06:44:11 INFO: Loading these models for language: en (English):\n",
      "=======================\n",
      "| Processor | Package |\n",
      "-----------------------\n",
      "| tokenize  | ewt     |\n",
      "=======================\n",
      "\n",
      "2020-08-27 06:44:11 INFO: Use device: cpu\n",
      "2020-08-27 06:44:11 INFO: Loading: tokenize\n",
      "2020-08-27 06:44:11 INFO: Done loading processors!\n",
      "2020-08-27 06:44:12 INFO: Loading these models for language: en (English):\n",
      "=========================\n",
      "| Processor | Package   |\n",
      "-------------------------\n",
      "| tokenize  | ewt       |\n",
      "| pos       | ewt       |\n",
      "| lemma     | ewt       |\n",
      "| depparse  | ewt       |\n",
      "| ner       | ontonotes |\n",
      "=========================\n",
      "\n",
      "2020-08-27 06:44:12 INFO: Use device: cpu\n",
      "2020-08-27 06:44:12 INFO: Loading: tokenize\n",
      "2020-08-27 06:44:12 INFO: Loading: pos\n",
      "2020-08-27 06:44:13 INFO: Loading: lemma\n",
      "2020-08-27 06:44:13 INFO: Loading: depparse\n",
      "2020-08-27 06:44:14 INFO: Loading: ner\n",
      "2020-08-27 06:44:14 INFO: Done loading processors!\n",
      "0it [01:01, ?it/s]\n"
     ]
    },
    {
     "name": "stdout",
     "output_type": "stream",
     "text": [
      "create docs_list.pkl...\n",
      "loaded data.\n",
      "processing data...\n",
      "preprocessed document\n",
      "extract identifiers...\n",
      "Number of math components is 50\n",
      "math_text_string.head\n",
      "<Element head at 0x1308f1220>\n",
      "math_text_string.head\n",
      "<Element head at 0x1308f1220>\n",
      "math_text_string.head\n",
      "<Element head at 0x1308f1450>\n",
      "math_text_string.head\n",
      "<Element head at 0x1308f1310>\n",
      "math_text_string.head\n",
      "<Element head at 0x1308f14f0>\n",
      "math_text_string.head\n",
      "<Element head at 0x1308f16d0>\n",
      "math_text_string.head\n",
      "<Element head at 0x1308f1680>\n",
      "math_text_string.head\n",
      "<Element head at 0x1308f14f0>\n",
      "math_text_string.head\n",
      "<Element head at 0x1308f1810>\n",
      "math_text_string.head\n",
      "<Element head at 0x1308f18b0>\n",
      "math_text_string.head\n",
      "<Element head at 0x1308f18b0>\n",
      "math_text_string.head\n",
      "<Element head at 0x1308f19a0>\n",
      "math_text_string.head\n",
      "<Element head at 0x1308f14f0>\n",
      "POS tagging...\n",
      "extract candidate definition...\n",
      "Starting server with command: java -Xmx16G -cp /Users/kato/GoogleDrive/project-mir/data/resources/stanford-corenlp-4.1.0/* edu.stanford.nlp.pipeline.StanfordCoreNLPServer -port 9000 -timeout 30000 -threads 5 -maxCharLength 100000 -quiet True -serverProperties corenlp_server-ecd15b3b49204b13.props -preload tokenize,ssplit,pos,lemma,ner,depparse\n",
      "compute the properties of candidates...\n",
      "elapsed time: 61.42779 seconds ---\n"
     ]
    }
   ],
   "source": [
    "p_path = './data/test_latexml/'\n",
    "p = Path(p_path)\n",
    "x = list(p.glob('*.html'))\n",
    "pkl_filename = 'docs_list.pkl'\n",
    "# if os.path.isfile(p_path + pkl_filename):\n",
    "#     # load_filename = 'docs_list.pkl'\n",
    "#     with open(pkl_filename, 'rb') as f:\n",
    "#         docs_list = pickle.load(f)\n",
    "# else:\n",
    "print('create docs_list.pkl...')\n",
    "documents_IDs = [x_.name[:-5] for x_ in x]\n",
    "docs_list = [[]]*len(documents_IDs)\n",
    "for i, documents_ID in tqdm(enumerate(documents_IDs)):\n",
    "    document_path = p_path + documents_ID + '.html'\n",
    "    start_time = time.time()\n",
    "    docs_list[i] = XMLDocument(document_path)\n",
    "    if i==0:\n",
    "        break\n",
    "# save_filename = p_path + pkl_filename\n",
    "# with open(save_filename, 'wb') as f:\n",
    "#     pickle.dump(docs_list, f)\n"
   ]
  },
  {
   "cell_type": "code",
   "execution_count": 1,
   "outputs": [],
   "source": [
    "# store variable\n",
    "# %store docs_list\n",
    "# load variable\n",
    "%store -r"
   ],
   "metadata": {
    "collapsed": false,
    "pycharm": {
     "name": "#%%\n"
    }
   }
  },
  {
   "cell_type": "code",
   "execution_count": 4,
   "outputs": [
    {
     "name": "stdout",
     "output_type": "stream",
     "text": [
      "./data/test_latexml/test_sample.html\n"
     ]
    },
    {
     "data": {
      "text/plain": "[['mass flow rate', 'a mass flow rate'],\n ['inlet temperature', 'an inlet temperature'],\n ['heating rate', 'a heating rate'],\n ['exit temperature', 'the exit temperature'],\n ['outlet flow rate'],\n ['liquid holdup', 'the liquid holdup'],\n ['density', 'the density'],\n ['heat capacity'],\n ['internal energy', 'the internal energy'],\n ['enthalpy', 'the enthalpy'],\n ['internal energy per unit mass', 'the internal energy per unit mass'],\n ['enthalpy per unit mass', 'the enthalpy per unit mass'],\n ['reference temperature', 'a reference temperature'],\n ['value of the enthalpy per unit mass at a reference temperature',\n  'the value of the enthalpy per unit mass at a reference temperature'],\n ['time'],\n ['degrees of freedom', 'the degrees of freedom']]"
     },
     "execution_count": 4,
     "metadata": {},
     "output_type": "execute_result"
    }
   ],
   "source": [
    "doc0 = docs_list[0]\n",
    "print(doc0.path)\n",
    "\n",
    "# f = pd.read_csv('./data/test_latexml/identifier_definition.txt')\n",
    "f = pd.read_csv('./data/test_latexml/identifier_definition_one_char.txt')\n",
    "gold_identifier = f['Identifier'].to_list()\n",
    "gold_definition_list = []\n",
    "for g_list in f['Definition']:\n",
    "    g_splitted_list = g_list.split(';')\n",
    "    gold_definition_list.append([g_.rstrip().lstrip() for g_ in g_splitted_list])\n",
    "gold_definition_list"
   ],
   "metadata": {
    "collapsed": false,
    "pycharm": {
     "name": "#%%\n"
    }
   }
  },
  {
   "cell_type": "code",
   "execution_count": 14,
   "outputs": [],
   "source": [
    "# extract definitions using three methods.\n",
    "alpha_list = [0.1 * i for i in range(1, 11)]\n",
    "beta_list = [0.1 * i for i in range(1, 11)]\n",
    "gamma_list = [0.1 * i for i in range(1, 11)]\n",
    "eta_list = [0.1 * i for i in range(1, 11)]\n",
    "sep='\\t\\t\\t'\n",
    "result_filename = 'test_result.txt'\n",
    "\n",
    "score_pagel_recall_best = ((0, 0), {})\n",
    "score_pagel_precision_best = ((0, 0), {})\n",
    "score_kato_recall_best = ((0, 0), {})\n",
    "score_kato_precision_best = ((0, 0), {})\n",
    "score_pagel_recall_best_rank2 = ((0, 0), {})\n",
    "score_pagel_precision_best_rank2 = ((0, 0), {})\n",
    "score_kato_recall_best_rank2 = ((0, 0), {})\n",
    "score_kato_precision_best_rank2 = ((0, 0), {})\n",
    "\n",
    "with open(result_filename, 'w') as f:\n",
    "    f.write(sep.join(['id', 'identifier', 'pagel_score', 'pagel', 'kato_score', 'kato']))\n",
    "    f.write('\\n')\n",
    "for alpha_ in alpha_list:\n",
    "    for beta_ in [alpha_]:#beta_list:\n",
    "        for gamma_ in gamma_list:\n",
    "            for eta_ in eta_list:\n",
    "                definition_list_pattern = []\n",
    "                definition_list_pagel = []\n",
    "                definition_list_kato = []\n",
    "\n",
    "                with open('test_result.txt', 'a') as f:\n",
    "                    f.write(\"===================================\")\n",
    "                    f.write('\\n')\n",
    "                params = {'sigma_d': math.sqrt(12 / math.log(2)), 'sigma_s': 2 / math.sqrt(math.log(2)),\n",
    "                          'alpha': alpha_, 'beta': beta_, 'gamma': gamma_, 'eta': eta_}\n",
    "                # print(params)\n",
    "                with open('test_result.txt', 'a') as f:\n",
    "                    f.write(f'{params=}')\n",
    "                    f.write('\\n')\n",
    "                for i, identifier in enumerate(doc0.identifiers):\n",
    "                    definition_pattern = pattern_based_extract_description(identifier)\n",
    "                    definition_list_pattern.append(definition_pattern)\n",
    "\n",
    "                    definition_pagel = pagel_ranking_candidates(identifier, params)\n",
    "                    definition_list_pagel.append(definition_pagel)\n",
    "\n",
    "                    definition_kato = kato_ranking_candidates(identifier, params)\n",
    "                    definition_list_kato.append(definition_kato)\n",
    "\n",
    "                    # if definition_pagel[0].definition != definition_kato[0].definition:\n",
    "\n",
    "                    with open('test_result.txt', 'a') as f:\n",
    "                        f.write(sep.join([identifier.text_tex,\n",
    "                          # definition_pattern_based[0].definition,\n",
    "                          f'{definition_pagel[0].score:.4f}',\n",
    "                          definition_pagel[0].definition,\n",
    "                          f'{definition_kato[0].score:.4f}',\n",
    "                          definition_kato[0].definition]))\n",
    "                        f.write('\\n')\n",
    "\n",
    "                (_, score_definition_pagel) = evaluate_identifier_definition(doc0.identifiers,\n",
    "                           gold_identifier,\n",
    "                           definition_list_pagel,\n",
    "                           gold_definition_list)\n",
    "                if score_definition_pagel[0] > score_pagel_recall_best[0][0]:\n",
    "                    score_pagel_recall_best = [score_definition_pagel, params]\n",
    "                if score_definition_pagel[1] > score_pagel_precision_best[0][1]:\n",
    "                    score_pagel_precision_best = [score_definition_pagel, params]\n",
    "\n",
    "                (_, score_definition_pagel) = evaluate_identifier_definition(doc0.identifiers,\n",
    "                           gold_identifier,\n",
    "                           definition_list_pagel,\n",
    "                           gold_definition_list, max_rank=2)\n",
    "                if score_definition_pagel[0] > score_pagel_recall_best_rank2[0][0]:\n",
    "                    score_pagel_recall_best_rank2 = [score_definition_pagel, params]\n",
    "                if score_definition_pagel[1] > score_pagel_precision_best_rank2[0][1]:\n",
    "                    score_pagel_precision_best_rank2 = [score_definition_pagel, params]\n",
    "\n",
    "                (_, score_definition_kato) = evaluate_identifier_definition(doc0.identifiers,\n",
    "                           gold_identifier,\n",
    "                           definition_list_kato,\n",
    "                           gold_definition_list)\n",
    "                if score_definition_kato[0] >= score_kato_recall_best[0][0]:\n",
    "                    score_kato_recall_best = [score_definition_kato, params]\n",
    "                    with open('test_result.txt', 'a') as f:\n",
    "                        f.write(str(score_kato_recall_best))\n",
    "                        f.write('\\n')\n",
    "\n",
    "                    # print(score_kato_recall_best)\n",
    "                if score_definition_kato[1] >= score_kato_precision_best[0][1]:\n",
    "                    score_kato_precision_best = [score_definition_kato, params]\n",
    "                    with open('test_result.txt', 'a') as f:\n",
    "                        f.write(str(score_kato_precision_best))\n",
    "                        f.write('\\n')\n",
    "                    # print(score_kato_precision_best)\n",
    "\n",
    "                (_, score_definition_kato) = evaluate_identifier_definition(doc0.identifiers,\n",
    "                           gold_identifier,\n",
    "                           definition_list_kato,\n",
    "                           gold_definition_list, max_rank=2)\n",
    "                if score_definition_kato[0] > score_kato_recall_best_rank2[0][0]:\n",
    "                    score_kato_recall_best_rank2 = [score_definition_kato, params]\n",
    "                if score_definition_kato[1] > score_kato_precision_best_rank2[0][1]:\n",
    "                    score_kato_precision_best_rank2 = [score_definition_kato, params]\n",
    "\n",
    "\n"
   ],
   "metadata": {
    "collapsed": false,
    "pycharm": {
     "name": "#%%\n"
    }
   }
  },
  {
   "cell_type": "code",
   "execution_count": 13,
   "outputs": [
    {
     "name": "stdout",
     "output_type": "stream",
     "text": [
      "======================\n",
      "identifier: recall=1.0, precision=0.8421052631578947\n",
      "======================\n",
      "definition: recall=0.375, precision=0.375\n"
     ]
    }
   ],
   "source": [
    "(score_identifier, score_definition_pattern) = evaluate_identifier_definition(doc0.identifiers,\n",
    "                               gold_identifier,\n",
    "                               definition_list_pattern,\n",
    "                               gold_definition_list)\n",
    "print('======================')\n",
    "print(f'identifier: '\n",
    "      f'recall={score_identifier[0]}, precision={score_identifier[1]}')\n",
    "print('======================')\n",
    "print(f'definition: '\n",
    "      f'recall={score_definition_pattern[0]}, '\n",
    "      f'precision={score_definition_pattern[1]}'\n",
    "      )"
   ],
   "metadata": {
    "collapsed": false,
    "pycharm": {
     "name": "#%%\n"
    }
   }
  },
  {
   "cell_type": "code",
   "execution_count": null,
   "outputs": [],
   "source": [
    "(_, score_definition_pagel) = evaluate_identifier_definition(doc0.identifiers,\n",
    "                               gold_identifier,\n",
    "                               definition_list_pagel,\n",
    "                               gold_definition_list)\n",
    "print('======================')\n",
    "print(f'definition: '\n",
    "      f'recall={score_definition_pagel[0]}, '\n",
    "      f'precision={score_definition_pagel[1]}'\n",
    "      )"
   ],
   "metadata": {
    "collapsed": false,
    "pycharm": {
     "name": "#%%\n"
    }
   }
  },
  {
   "cell_type": "code",
   "execution_count": null,
   "outputs": [],
   "source": [
    "(_, score_definition_kato) = evaluate_identifier_definition(doc0.identifiers,\n",
    "                               gold_identifier,\n",
    "                               definition_list_kato,\n",
    "                               gold_definition_list)\n",
    "print(f'definition: '\n",
    "      f'recall={score_definition_kato[0]}, '\n",
    "      f'precision={score_definition_kato[1]}'\n",
    "      )"
   ],
   "metadata": {
    "collapsed": false,
    "pycharm": {
     "name": "#%%\n"
    }
   }
  },
  {
   "cell_type": "code",
   "execution_count": null,
   "outputs": [],
   "source": [],
   "metadata": {
    "collapsed": false,
    "pycharm": {
     "name": "#%%\n"
    }
   }
  },
  {
   "cell_type": "code",
   "execution_count": null,
   "outputs": [],
   "source": [],
   "metadata": {
    "collapsed": false,
    "pycharm": {
     "name": "#%%\n"
    }
   }
  },
  {
   "cell_type": "code",
   "execution_count": null,
   "outputs": [],
   "source": [],
   "metadata": {
    "collapsed": false,
    "pycharm": {
     "name": "#%%\n"
    }
   }
  },
  {
   "cell_type": "code",
   "execution_count": null,
   "outputs": [],
   "source": [],
   "metadata": {
    "collapsed": false,
    "pycharm": {
     "name": "#%%\n"
    }
   }
  },
  {
   "cell_type": "code",
   "execution_count": null,
   "outputs": [],
   "source": [],
   "metadata": {
    "collapsed": false,
    "pycharm": {
     "name": "#%%\n"
    }
   }
  }
 ],
 "metadata": {
  "kernelspec": {
   "name": "python38264bit382pyenv8395125df6ea4f75b9cf162ac9e2c8f9",
   "language": "python",
   "display_name": "Python 3.8.2 64-bit ('3.8.2': pyenv)"
  },
  "language_info": {
   "codemirror_mode": {
    "name": "ipython",
    "version": 3
   },
   "file_extension": ".py",
   "mimetype": "text/x-python",
   "name": "python",
   "nbconvert_exporter": "python",
   "pygments_lexer": "ipython3",
   "version": "3.8.2-final"
  }
 },
 "nbformat": 4,
 "nbformat_minor": 2
}