{
 "cells": [
  {
   "cell_type": "code",
   "execution_count": 1,
   "metadata": {},
   "outputs": [],
   "source": [
    "from pathlib import Path\n",
    "import pickle\n",
    "import time\n",
    "from tqdm import tqdm\n",
    "import math\n",
    "\n",
    "from projectmir.xmldocument import XMLDocument\n",
    "from projectmir.extract_definition import pattern_based_extract_description, pagel_ranking_candidates, kato_ranking_candidates, Definition"
   ]
  },
  {
   "cell_type": "code",
   "execution_count": 2,
   "metadata": {
    "tags": []
   },
   "outputs": [
    {
     "name": "stderr",
     "output_type": "stream",
     "text": [
      "0it [00:00, ?it/s]2020-08-25 00:45:02 INFO: Loading these models for language: en (English):\n",
      "=======================\n",
      "| Processor | Package |\n",
      "-----------------------\n",
      "| tokenize  | ewt     |\n",
      "=======================\n",
      "\n",
      "2020-08-25 00:45:02 INFO: Use device: cpu\n",
      "2020-08-25 00:45:02 INFO: Loading: tokenize\n",
      "2020-08-25 00:45:02 INFO: Done loading processors!\n",
      "2020-08-25 00:45:03 INFO: Loading these models for language: en (English):\n",
      "=========================\n",
      "| Processor | Package   |\n",
      "-------------------------\n",
      "| tokenize  | ewt       |\n",
      "| pos       | ewt       |\n",
      "| lemma     | ewt       |\n",
      "| depparse  | ewt       |\n",
      "| ner       | ontonotes |\n",
      "=========================\n",
      "\n",
      "2020-08-25 00:45:03 INFO: Use device: cpu\n",
      "2020-08-25 00:45:03 INFO: Loading: tokenize\n",
      "2020-08-25 00:45:03 INFO: Loading: pos\n",
      "2020-08-25 00:45:04 INFO: Loading: lemma\n",
      "2020-08-25 00:45:04 INFO: Loading: depparse\n",
      "2020-08-25 00:45:04 INFO: Loading: ner\n",
      "2020-08-25 00:45:05 INFO: Done loading processors!\n",
      "1it [00:51, 51.47s/it]2020-08-25 00:45:54 INFO: Loading these models for language: en (English):\n",
      "=======================\n",
      "| Processor | Package |\n",
      "-----------------------\n",
      "| tokenize  | ewt     |\n",
      "=======================\n",
      "\n",
      "2020-08-25 00:45:54 INFO: Use device: cpu\n",
      "2020-08-25 00:45:54 INFO: Loading: tokenize\n",
      "2020-08-25 00:45:54 INFO: Done loading processors!\n",
      "2020-08-25 00:45:54 INFO: Loading these models for language: en (English):\n",
      "=========================\n",
      "| Processor | Package   |\n",
      "-------------------------\n",
      "| tokenize  | ewt       |\n",
      "| pos       | ewt       |\n",
      "| lemma     | ewt       |\n",
      "| depparse  | ewt       |\n",
      "| ner       | ontonotes |\n",
      "=========================\n",
      "\n",
      "2020-08-25 00:45:54 INFO: Use device: cpu\n",
      "2020-08-25 00:45:54 INFO: Loading: tokenize\n",
      "2020-08-25 00:45:54 INFO: Loading: pos\n",
      "2020-08-25 00:45:55 INFO: Loading: lemma\n",
      "2020-08-25 00:45:55 INFO: Loading: depparse\n",
      "2020-08-25 00:45:56 INFO: Loading: ner\n",
      "2020-08-25 00:45:56 INFO: Done loading processors!\n",
      "2it [01:41, 50.85s/it]\n"
     ]
    },
    {
     "name": "stdout",
     "output_type": "stream",
     "text": [
      "loaded data.\n",
      "processing data...\n",
      "preprocessed document\n",
      "extract identifiers...\n",
      "Number of math components is 50\n",
      "POS tagging...\n",
      "extract candidate definition...\n",
      "Starting server with command: java -Xmx16G -cp /Users/kato/GoogleDrive/project-mir/data/resources/stanford-corenlp-4.1.0/* edu.stanford.nlp.pipeline.StanfordCoreNLPServer -port 9000 -timeout 30000 -threads 5 -maxCharLength 100000 -quiet True -serverProperties corenlp_server-613df5e95a0f40c7.props -preload tokenize,ssplit,pos,lemma,ner,depparse\n",
      "compute the properties of candidates...\n",
      "elapsed time: 51.47154 seconds ---\n",
      "loaded data.\n",
      "processing data...\n",
      "preprocessed document\n",
      "extract identifiers...\n",
      "Number of math components is 50\n",
      "POS tagging...\n",
      "extract candidate definition...\n",
      "Starting server with command: java -Xmx16G -cp /Users/kato/GoogleDrive/project-mir/data/resources/stanford-corenlp-4.1.0/* edu.stanford.nlp.pipeline.StanfordCoreNLPServer -port 9000 -timeout 30000 -threads 5 -maxCharLength 100000 -quiet True -serverProperties corenlp_server-871243f06cb44322.props -preload tokenize,ssplit,pos,lemma,ner,depparse\n",
      "compute the properties of candidates...\n",
      "elapsed time: 50.23633 seconds ---\n"
     ]
    }
   ],
   "source": [
    "p_path = './data/test_latexml/'\n",
    "p = Path(p_path)\n",
    "x = list(p.glob('*.html'))\n",
    "documents_IDs = [x_.name[:-5] for x_ in x]\n",
    "docs_list = [[]]*len(documents_IDs)\n",
    "for i, documents_ID in tqdm(enumerate(documents_IDs)):\n",
    "    document_path = p_path + documents_ID + '.html'\n",
    "    start_time = time.time()\n",
    "    docs_list[i] = XMLDocument(document_path)\n",
    "save_filename = 'docs_list' + time.strftime('_%d%b%Y_%H%M%S') + '.pkl'\n",
    "with open(save_filename, 'wb') as f:\n",
    "    pickle.dump(docs_list, f)"
   ]
  },
  {
   "cell_type": "code",
   "execution_count": 3,
   "outputs": [
    {
     "name": "stdout",
     "output_type": "stream",
     "text": [
      "./data/test_latexml/test_sample.html\n"
     ]
    }
   ],
   "source": [
    "load_filename = 'docs_list.pkl'\n",
    "with open(load_filename, 'rb') as f:\n",
    "    docs_list = pickle.load(f)\n",
    "doc0 = docs_list[0]\n",
    "print(doc0.path)\n"
   ],
   "metadata": {
    "collapsed": false,
    "pycharm": {
     "name": "#%%\n"
    }
   }
  },
  {
   "cell_type": "code",
   "execution_count": 27,
   "outputs": [
    {
     "name": "stdout",
     "output_type": "stream",
     "text": [
      "id\t\t\tidentifier\t\t\tpagel_score\t\t\tpagel\t\t\tkato_score\t\t\tkato\n",
      "w_i\t\t\t0.9050\t\t\ta mass flow rate\t\t\t0.9262\t\t\tan inlet temperature MATH0001\n",
      "T_i\t\t\t0.5452\t\t\ta single component with a mass flow rate MATH0000 and an inlet temperature\t\t\t0.6919\t\t\ta single component with a mass flow rate MATH0000 and an inlet temperature\n",
      "Q\t\t\t0.5833\t\t\tan electrical heater that provides a heating rate\t\t\t0.3952\t\t\tan electrical heater that provides a heating rate\n",
      "T\t\t\t0.5378\t\t\tthe exit temperature\t\t\t0.3643\t\t\tthe exit temperature\n",
      "w\t\t\t0.5468\t\t\tthe liquid holdup MATH0005\t\t\t0.3704\t\t\tthe liquid holdup MATH0005\n",
      "V\t\t\t0.5607\t\t\tthe liquid holdup\t\t\t0.3798\t\t\tthe liquid holdup\n",
      "ρ\t\t\t0.3087\t\t\tthe liquid\t\t\t0.2091\t\t\tthe liquid\n",
      "C\t\t\t0.5378\t\t\tThe density MATH0006 and heat capacity\t\t\t0.3643\t\t\tThe density MATH0006 and heat capacity\n",
      "U_int\t\t\t0.6536\t\t\tthe enthalpy\t\t\t0.5234\t\t\tthe internal energy\n",
      "H\t\t\t0.7928\t\t\tthe enthalpy\t\t\t0.5370\t\t\tthe enthalpy\n",
      "\\overset{^}{U}_int\t\t\t0.5833\t\t\tMATH0009\t\t\t0.6512\t\t\tthe caret ( ^ )\n",
      "\\overset{^}{H}\t\t\t0.5312\t\t\tMATH0010\t\t\t0.6825\t\t\tthe caret ( ^ )\n",
      "d\t\t\t0.6536\t\t\tunit mass\t\t\t0.7386\t\t\ta differential change\n",
      "t\t\t\t0.8910\t\t\tMATH0012⁢MATH0008MATH0012\t\t\t0.6036\t\t\tMATH0012⁢MATH0008MATH0012\n",
      "T_ref\t\t\t0.5452\t\t\t2 - 29 from a reference temperature\t\t\t0.6919\t\t\t2 - 29 from a reference temperature\n",
      "\\overset{^}{H}_ref\t\t\t0.7759\t\t\tMATH0011 -\t\t\t0.5256\t\t\tMATH0011 -\n",
      "\\overset{^}{H}_i\t\t\t0.9605\t\t\tMATH0007 ⁢ ( MATH0001 -MATH0014 )\t\t\t0.6506\t\t\tMATH0007 ⁢ ( MATH0001 -MATH0014 )\n",
      "Δ\t\t\t0.6190\t\t\tMATH0004\t\t\t0.4194\t\t\tMATH0004\n",
      "N_F\t\t\t0.6429\t\t\tthe degrees of freedom\t\t\t0.4355\t\t\tthe degrees of freedom\n"
     ]
    }
   ],
   "source": [
    "# extract definitions using three methods.\n",
    "pattern_based_definition_list = []\n",
    "pagel_definition_list = []\n",
    "kato_definition_list = []\n",
    "params = {'sigma_d': math.sqrt(12 / math.log(2)),\n",
    "          'sigma_s': 2 / math.sqrt(math.log(2)),\n",
    "          'alpha': 1,\n",
    "          'beta': 1,\n",
    "          'gamma': 0.1,\n",
    "          'eta': 1}\n",
    "print('id',\n",
    "      'identifier',\n",
    "      # 'pattern_based',\n",
    "      'pagel_score',\n",
    "      'pagel',\n",
    "      'kato_score',\n",
    "      'kato',\n",
    "      sep='\\t\\t\\t')\n",
    "for i, identifier in enumerate(doc0.identifiers):\n",
    "    definition_pattern_based = pattern_based_extract_description(identifier)\n",
    "    if not definition_pattern_based:\n",
    "        definition_pattern_based = [Definition(definition='')]\n",
    "    pattern_based_definition_list.append(definition_pattern_based)\n",
    "\n",
    "    definition_pagel = pagel_ranking_candidates(identifier, params)\n",
    "    pagel_definition_list.append(definition_pagel)\n",
    "\n",
    "    definition_kato = kato_ranking_candidates(identifier, params)\n",
    "    kato_definition_list.append(definition_kato)\n",
    "\n",
    "\n",
    "    print(identifier.text_tex,\n",
    "          # definition_pattern_based[0].definition,\n",
    "          f'{definition_pagel[0].score:.4f}',\n",
    "          definition_pagel[0].definition,\n",
    "          f'{definition_kato[0].score:.4f}',\n",
    "          definition_kato[0].definition, sep='\\t\\t\\t'\n",
    "          )"
   ],
   "metadata": {
    "collapsed": false,
    "pycharm": {
     "name": "#%%\n"
    }
   }
  },
  {
   "cell_type": "code",
   "execution_count": null,
   "outputs": [],
   "source": [],
   "metadata": {
    "collapsed": false,
    "pycharm": {
     "name": "#%%\n"
    }
   }
  }
 ],
 "metadata": {
  "kernelspec": {
   "name": "python38264bit382pyenv8395125df6ea4f75b9cf162ac9e2c8f9",
   "language": "python",
   "display_name": "Python 3.8.2 64-bit ('3.8.2': pyenv)"
  },
  "language_info": {
   "codemirror_mode": {
    "name": "ipython",
    "version": 3
   },
   "file_extension": ".py",
   "mimetype": "text/x-python",
   "name": "python",
   "nbconvert_exporter": "python",
   "pygments_lexer": "ipython3",
   "version": "3.8.2-final"
  }
 },
 "nbformat": 4,
 "nbformat_minor": 2
}