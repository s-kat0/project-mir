{
 "cells": [
  {
   "cell_type": "code",
   "execution_count": null,
   "metadata": {
    "collapsed": false,
    "pycharm": {
     "name": "#%%\n"
    }
   },
   "outputs": [],
   "source": [
    "# !python ./tests/test2.py"
   ]
  },
  {
   "cell_type": "code",
   "execution_count": 224,
   "metadata": {},
   "outputs": [],
   "source": [
    "import lxml.html\n",
    "import time\n",
    "import re\n",
    "from tqdm import tqdm\n",
    "\n",
    "class WikiDocument:\n",
    "    def __init__(self, path=''):\n",
    "        self.path = path\n",
    "        self.raw = ''\n",
    "        self.title = ''\n",
    "        self.namespace = ''\n",
    "        self.document_id = 0\n",
    "        self.text =''\n",
    "        self.body = ''\n",
    "        # Holds all formulas found within the document.\n",
    "        # The key of the HashMap is the replacement string in the document and the value contains the TeX String\n",
    "        self.formulae = [] # [{'hash': foo1, 'src':foo2}, ...]\n",
    "        # Stores all unique identifiers found in this document\n",
    "        self.identifiers = []\n",
    "        \n",
    "# document_path is one of the following:\n",
    "# data/_project-mlp-develop/src/test/resources/wikienmathsample.xml\n",
    "# data/_project-mlp-develop/src/test/resources/augmentendwikitext.xml\n",
    "# data/_project-mlp-develop/src/test/resources/chartest.xml`\n",
    "# data/resources/NTCIR12_MathIR_WikiCorpus_v2.1.0/MathTagArticles/wpmath0000001/Articles/2D_computer_graphics.html\n",
    "\n",
    "    def processor(self):\n",
    "        start_time = time.time()\n",
    "        title_regexp = re.compile(r'(?:<title>)(.*?)(?:</title>)', re.DOTALL)\n",
    "        namespace_regexp = re.compile(r'(?:<ns>)(.*?)(?:</ns>)', re.DOTALL)\n",
    "        id_regexp = re.compile(r'(?:<revision>.*?<id>)(\\d+)(?:</id>)', re.DOTALL)\n",
    "        text_regexp = re.compile(r'(?:<text.*?>)(.*?)(?:</text>)', re.DOTALL)\n",
    "        body_regexp = re.compile(r'(?:<body.*?>)(.*?)(?:</body>)', re.DOTALL)\n",
    "        annotation_xml_regexp = re.compile(r'(?:<annotation-xml.*?>)(.*?)(?:</annotation-xml>)', re.DOTALL)\n",
    "        annotation_regexp = re.compile(r'(?:<annotation.*?>)(.*?)(?:</annotation>)', re.DOTALL)\n",
    "        \n",
    "        with open(doc.path, 'r') as document_open:\n",
    "            document_read = document_open.read()\n",
    "            title = title_regexp.findall(document_read)\n",
    "            namespace = namespace_regexp.findall(document_read)\n",
    "            document_id = id_regexp.findall(document_read)\n",
    "            text = text_regexp.findall(document_read)\n",
    "            body = body_regexp.findall(document_read)\n",
    "        \n",
    "        if title: \n",
    "            self.title = title[0]\n",
    "        if namespace:\n",
    "            self.namespace = namespace[0]\n",
    "        if document_id:\n",
    "            self.document_id = document_id[0]\n",
    "        if text:\n",
    "            self.text = text[0]\n",
    "        if body:\n",
    "            body = body[0]\n",
    "            # remove annotation-xml tag and anntation tag\n",
    "            body = annotation_xml_regexp.sub('', body)\n",
    "            body = annotation_regexp.sub('', body)\n",
    "            self.body = body\n",
    "        print(\"process document --- {0:.7f} seconds ---\".format(time.time()-start_time))    \n",
    "\n",
    "    def normalize(self):\n",
    "        # remove HTML tags\n",
    "        print('body')\n",
    "        print(len(self.body))\n",
    "        print('text')\n",
    "        print(len(self.text))\n",
    "        \n",
    "    def extract_identifiers(self):\n",
    "        tree = lxml.html.parse(self.path)\n",
    "        html = tree.getroot()\n",
    "        print('Number of math components is {}'.format(len(html.cssselect('math'))))\n",
    "        identifiers = []\n",
    "\n",
    "        def is_identifier(math_component):\n",
    "            is_mi = (math_component.tag == 'mi')\n",
    "            is_math_component_len_1 = (len(math_component.text_content())==1)\n",
    "            is_italic = (math_component.get('mathvariant')=='italic')\n",
    "            return is_mi and (is_math_component_len_1 or is_italic)\n",
    "\n",
    "        for html_math in html.cssselect('math'):\n",
    "            # variable with subscript\n",
    "            for html_math_msub in html_math.cssselect('msub'):\n",
    "                html_math_msub_component = [x for x in html_math_msub.iterchildren()]\n",
    "                math_txt = '_'.join([x.text_content() for x in html_math_msub_component])\n",
    "                if is_identifier(html_math_msub_component[0]) and (not math_txt in identifiers):\n",
    "                    identifiers.append(math_txt)\n",
    "                html_math_msub.drop_tree()\n",
    "                # replace identifier by 'MATH_'+str(id)\n",
    "                reg_string = lxml.html.tostring(html_math_msub, encoding='unicode')\n",
    "                if is_identifier(html_math_msub_component[0]):\n",
    "                    doc.body = doc.body.replace(reg_string, 'MATH_'+str(identifiers.index(math_txt)))\n",
    "                else:\n",
    "                    doc.body = doc.body.replace(reg_string, math_txt)\n",
    "\n",
    "            # variable with superscript\n",
    "            for html_math_msup in html_math.cssselect('msup'):\n",
    "                html_math_msup_component = [x for x in html_math_msup.iterchildren()]\n",
    "                math_txt = '^'.join([x.text_content() for x in html_math_msup_component])\n",
    "                if is_identifier(html_math_msup_component[0]) and (not math_txt in identifiers):\n",
    "                    identifiers.append(math_txt)\n",
    "                html_math_msup.drop_tree()\n",
    "                reg_string = lxml.html.tostring(html_math_msup, encoding='unicode')\n",
    "                if is_identifier(html_math_msup_component[0]):\n",
    "                    doc.body = doc.body.replace(reg_string, 'MATH_'+str(identifiers.index(math_txt)))\n",
    "                else:\n",
    "                    doc.body = doc.body.replace(reg_string, math_txt)\n",
    "                \n",
    "            # variable with subscript and superscript\n",
    "            for html_math_msubsup in html_math.cssselect('msubsup'):\n",
    "                html_math_msubsup_component = [x for x in html_math_msubsup.iterchildren()]\n",
    "                math_txt = [x.text_content() for x in html_math_msubsup_component]\n",
    "                math_txt = math_txt[0] + '_' + math_txt[1] + '^' + math_txt[2]\n",
    "                if is_identifier(html_math_msubsup) and (not math_txt in identifiers):\n",
    "                    identifiers.append(math_txt)\n",
    "                html_math_msubsup.drop_tree()\n",
    "                reg_string = lxml.html.tostring(html_math_msubsup, encoding='unicode')\n",
    "                if is_identifier(html_math_msubsup):\n",
    "                    doc.body = doc.body.replace(reg_string, 'MATH_'+str(identifiers.index(math_txt)))\n",
    "                else:\n",
    "                    doc.body = doc.body.replace(reg_string, math_txt)\n",
    "\n",
    "            # variable without subscript and superscript\n",
    "            for html_math_mi in html_math.cssselect('mi'):\n",
    "                math_txt = html_math_mi.text_content()\n",
    "                if is_identifier(html_math_mi) and (not math_txt in identifiers):\n",
    "                    identifiers.append(math_txt)\n",
    "                html_math_mi.drop_tree()\n",
    "                reg_string = lxml.html.tostring(html_math_mi, encoding='unicode')\n",
    "                if is_identifier(html_math_mi):\n",
    "                    doc.body = doc.body.replace(reg_string, 'MATH_'+str(identifiers.index(math_txt)))\n",
    "                else:\n",
    "                    doc.body = doc.body.replace(reg_string, math_txt)\n",
    "        \n",
    "        self.identifiers = identifiers\n",
    "        \n"
   ]
  },
  {
   "cell_type": "code",
   "execution_count": 229,
   "metadata": {},
   "outputs": [
    {
     "name": "stdout",
     "output_type": "stream",
     "text": "process document --- 0.0252111 seconds ---\nNumber of math components is 235\n"
    }
   ],
   "source": [
    "# docs = document_processor('data/_project-mlp-develop/src/test/resources/wikienmathsample.xml')\n",
    "# document_path = 'data/resources/NTCIR12_MathIR_WikiCorpus_v2.1.0/MathTagArticles/wpmath0000001/Articles/2D_computer_graphics.html'\n",
    "document_path = 'data/resources/dataset-arXMLiv-08-2019/process-control_physical-model/1806.09460.html'\n",
    "doc = WikiDocument(document_path)\n",
    "doc.processor()\n",
    "doc.extract_identifiers()"
   ]
  },
  {
   "cell_type": "code",
   "execution_count": 221,
   "metadata": {},
   "outputs": [],
   "source": [
    "x = re.compile('arX')"
   ]
  },
  {
   "cell_type": "code",
   "execution_count": 223,
   "metadata": {},
   "outputs": [
    {
     "name": "stdout",
     "output_type": "stream",
     "text": "data/resources/dataset-arXMLiv-08-2019/process-control_physical-model/1806.09460.html\n"
    },
    {
     "data": {
      "text/plain": "'data/resources/dataset-MLiv-08-2019/process-control_physical-model/1806.09460.html'"
     },
     "execution_count": 223,
     "metadata": {},
     "output_type": "execute_result"
    }
   ],
   "source": [
    "print(document_path)\n",
    "x.sub('', document_path)"
   ]
  },
  {
   "cell_type": "code",
   "execution_count": 122,
   "metadata": {},
   "outputs": [
    {
     "name": "stdout",
     "output_type": "stream",
     "text": "len body\n804995\nNumber of math components is 235\n['x_t+1', 'f_t', 'x_t', 'u_t', 'e_t', 't', 'R', '𝔼_et', 'R_t', 'R_N+1', 'x_N+1', 'x_0', 'N', 'u_0', 'u_t-1', 'τ_t', 'u_1', '…', 'π', 'π_t', 'f', 'τ_L', 'm', 'L', 'y', 'x', 'u', 'r', 's', 'a', 'φ', 'ω_t', '𝔼_ωt', 'π_1', 'π_N', '𝒬', '𝒬_N+1', '𝒬_k', '𝔼_e', '𝒬_k+1', 'u^′', 'e', 'u_k', 'x_k', 'k', '∞', 'γ^t', 'γ', '𝒬_γ', 'x_k+1', 'η', 'V', 'd', 'z', '𝔼_p', 'z_⋆', 'δ', 'p', 'ϑ', '𝔼_p\\u2062(z;ϑ)', 'J', 'G', 'α_j', 'ϑ_0', 'z_k', 'ϑ_k', 'ϑ_k+1', 'α_k', 'τ', 'p_0', 'ϑ_t+1', 'ϑ_t', 'g_σ', 'α', 'σ', 'ϵ', 'ϵ_i', 'i', 'μ', 'λ', 'Q', 'S', 'A', 'B', 'K_t', 'K', 'B^T', 'M', 'A^T', 'M_k+1', 'c_k', 'x^T', 'u^T', 'J_*', 'T', 'J_⋆', 'O', 'd^2', 'σ^2', 'I', '𝔼_p\\u2062(u;ϑ)', 'g', 'ω', 'd^1.5', 'σ^-1', 'd^0.5', 'B^2', 'r_0', 'A^k', 'u_T+1', 'γ^N']\nlen body after processing\n695870\n"
    }
   ],
   "source": [
    "print('len body')\n",
    "print(len(doc.body))\n",
    "doc.extract_identifiers()\n",
    "with open('output_1.txt', 'w') as f:\n",
    "    f.write('\\n'.join(doc.identifiers))\n",
    "\n",
    "print(doc.identifiers)\n",
    "print('len body after processing')\n",
    "print(len(doc.body))"
   ]
  },
  {
   "cell_type": "code",
   "execution_count": 230,
   "metadata": {},
   "outputs": [],
   "source": [
    "tree = lxml.html.fromstring(doc.body)\n",
    "# html = tree.getroot()\n",
    "\n",
    "# doc.body.split()"
   ]
  },
  {
   "cell_type": "code",
   "execution_count": 231,
   "metadata": {},
   "outputs": [],
   "source": [
    "x = lxml.html.clean.clean_html(tree)"
   ]
  },
  {
   "cell_type": "code",
   "execution_count": 233,
   "metadata": {},
   "outputs": [
    {
     "data": {
      "text/plain": "not only robotics but smarter, safer analytics. But I don’t really care what we call it: there is a large community spanning multiple disciplines that is invested making progress on these problems. Hopefully this tour has set the stage for a lot of great research at the intersection of machine learning and controls, and I’m excited to see what progress the communities can make working together.\\n\\n\\n\\n\\nAcknowledgements\\n\\n\\nThere are countless individuals who helped to shape the contents here. First, this work was generously supported in part by two forward looking programs at DOD, namely the Mathematical Data Science program at ONR and the Foundations and Limits of Learning program at DARPA. Second, this survey was distilled from a series on my blog argmin.net. I greatly appreciated the lively debates on Twitter, and I hope that even those who disagree with my perspectives here find their input incorporated into this survey.\\n\\n\\nI’d like to thank Chris Wiggins for sharing his taxonomy on machine learning, Roy Frostig for shaping the Section\\xa03.3, Pavel Pravdin for consulting on how to get policy gradient methods up and running, Max Raginsky for perspectives on adaptive control and translations of Russian. I’d like to thank Moritz Hardt, Eric Jonas, and Ali Rahimi for helping to shape the language, rhetoric, and focus of the blog series and this survey. I’d also like to thank Nevena Lazic and Gergely Neu for many helpful suggestions for improving the readability and accuracy of this manuscript. Additionally, I’d like to thank my other colleagues in machine learning and control for many helpful conversations and pointers about this material: Murat Arcak, Karl Astrom, Francesco Borrelli, John Doyle, Andy Packard, Anders Rantzer, Lorenzo Rosasco, Shankar Sastry, Yoram Singer, Csaba Szepesvari, Claire Tomlin, and Stephen Wright. I’d also like to thank my colleagues in robotics, Anca Dragan, Leslie Kaebling, Sergey Levine, Pierre-Yves Oudeyer, Olivier Sigaud, Russ Tedrake, and Emo Todorov for sharing their perspectives on what sorts of RL and optimization technology works for them and what challenges they face in their research.\\n\\n\\nI’d like to thank everyone who took CS281B with me in the Spring of 2017 where I first tried to make sense of the problems in learning to control. And most importantly, a big thanks everyone in my research group who has been wrestling with these ideas with me for the past several years and for who have done much of the research that shaped my views on this space. In particular, Ross Boczar, Nick Boyd, Sarah Dean, Animesh Garg, Aurelia Guy, Qingqing Huang, Kevin Jamieson, Sanjay Krishnan, Laurent Lessard, Horia Mania, Nik Matni, Becca Roelofs, Ugo Rosolia, Ludwig Schmidt, Max Simchowitz, Stephen Tu, and Ashia Wilson.\\n\\n\\nFinally, special thanks to Camon Coffee in Berlin for letting me haunt their shop while writing.\\n\\n\\n\\n\\nReferences\\n\\n\\n\\n[1]\\n\\nY.\\xa0Abbasi-Yadkori, N.\\xa0Lazic, and C.\\xa0Szepesvári.\\n\\n\\nRegret Bounds for Model-Free Linear Quadratic Control.\\n\\n\\narXiv:1804.06021, 2018.\\n\\n\\n\\n\\n[2]\\n\\nY.\\xa0Abbasi-Yadkori and C.\\xa0Szepesvári.\\n\\n\\nRegret Bounds for the Adaptive Control of Linear Quadratic Systems.\\n\\n\\nIn Conference on Learning Theory (COLT), 2011.\\n\\n\\n\\n\\n[3]\\n\\nY.\\xa0Abbasi-Yadkori and C.\\xa0Szepesvári.\\n\\n\\nBayesian Optimal Control of Smoothly Parameterized Systems: The Lazy\\nPosterior Sampling Algorithm.\\n\\n\\nIn Conference on Uncertainty in Artificial Intelligence, 2015.\\n\\n\\n\\n\\n[4]\\n\\nM.\\xa0Abeille and A.\\xa0Lazaric.\\n\\n\\nThompson Sampling for Linear-Quadratic Control Problems.\\n\\n\\nIn AISTATS, 2017.\\n\\n\\n\\n\\n[5]\\n\\nA.\\xa0Agarwal, O.\\xa0Dekel, and L.\\xa0Xiao.\\n\\n\\nOptimal algorithms for online convex optimization with multi-point\\nbandit feedback.\\n\\n\\nIn Conference on Learning Theory (COLT), 2010.\\n\\n\\n\\n\\n[6]\\n\\nA.\\xa0K. Akametalu, J.\\xa0F. Fisac, J.\\xa0H. Gillula, S.\\xa0Kaynama, M.\\xa0N. Zeilinger, and\\nC.\\xa0J. Tomlin.\\n\\n\\nReachability-based safe learning with gaussian processes.\\n\\n\\nIn Proceedings of the 53rd Conference on Decision and Control,\\npages 1424–1431. IEEE, 2014.\\n\\n\\n\\n\\n[7]\\n\\nK.\\xa0J. Åström.\\n\\n\\nOptimal control of markov processes with incomplete state\\ninformation.\\n\\n\\nJournal of Mathematical Analysis and Applications,\\n10(1):174–205, 1965.\\n\\n\\n\\n\\n[8]\\n\\nA.\\xa0Aswani, H.\\xa0Gonzalez, S.\\xa0S. Sastry, and C.\\xa0Tomlin.\\n\\n\\nProvably safe and robust learning-based model predictive control.\\n\\n\\nAutomatica, 49(5):1216–1226, 2013.\\n\\n\\n\\n\\n[9]\\n\\nP.\\xa0Auer, N.\\xa0Cesa-Bianchi, and P.\\xa0Fischer.\\n\\n\\nFinite-time analysis of the multiarmed bandit problem.\\n\\n\\nMachine learning, 47(2-3):235–256, 2002.\\n\\n\\n\\n\\n[10]\\n\\nF.\\xa0Berkenkamp, M.\\xa0Turchetta, A.\\xa0Schoellig, and A.\\xa0Krause.\\n\\n\\nSafe model-based reinforcement learning with stability guarantees.\\n\\n\\nIn Advances in Neural Information Processing Systems (NIPS),\\n2017.\\n\\n\\n\\n\\n[11]\\n\\nD.\\xa0P. Bertsekas.\\n\\n\\nDynamic Programming and Optimal Control, volume\\xa02.\\n\\n\\nAthena Scientific, Nashua, NH, 4th edition, 2012.\\n\\n\\n\\n\\n[12]\\n\\nD.\\xa0P. Bertsekas.\\n\\n\\nDynamic Programming and Optimal Control, volume\\xa01.\\n\\n\\nAthena Scientific, Nashua, NH, 4th edition, 2017.\\n\\n\\n\\n\\n[13]\\n\\nD.\\xa0P. Bertsekas and S.\\xa0Ioffe.\\n\\n\\nTemporal differences-based policy iteration and applications in\\nneuro-dynamic programming.\\n\\n\\nTechnical Report LIDS-P-2349, MIT Laboratory for Information and\\nDecision Systems Report, 1996.\\n\\n\\n\\n\\n[14]\\n\\nD.\\xa0P. Bertsekas and J.\\xa0N. Tsitsiklis.\\n\\n\\nNeuro-Dynamic Programming.\\n\\n\\nAthena Scientific, 1996.\\n\\n\\n\\n\\n[15]\\n\\nH.-G. Beyer and H.-P. Schwefel.\\n\\n\\nEvolution Strategies - a comprehensive introduction.\\n\\n\\nNatural Computing, 1(1):3–52, 2002.\\n\\n\\n\\n\\n[16]\\n\\nW.\\xa0F. Bialas.\\n\\n\\nCooperative n-person stackelberg games.\\n\\n\\nIn Proceedings of the 28th Conference on Decision and Control’,\\n1989.\\n\\n\\n\\n\\n[17]\\n\\nV.\\xa0D. Blondel and J.\\xa0N. Tsitsiklis.\\n\\n\\nA survey of computational complexity results in systems and control.\\n\\n\\nAutomatica, 36(9):1249–1274, 2000.\\n\\n\\n\\n\\n[18]\\n\\nM.\\xa0Bojarski, D.\\xa0Del\\xa0Testa, D.\\xa0Dworakowski, B.\\xa0Firner, B.\\xa0Flepp, P.\\xa0Goyal, L.\\xa0D.\\nJackel, M.\\xa0Monfort, U.\\xa0Muller, J.\\xa0Zhang, et\\xa0al.\\n\\n\\nEnd to end learning for self-driving cars.\\n\\n\\nTechnical report, NVIDIA, 2016.\\n\\n\\narXiv:1604.07316. Press Release at\\nhttps://devblogs.nvidia.com/explaining-deep-learning-self-driving-car/.\\n\\n\\n\\n\\n[19]\\n\\nL.\\xa0Bottou, J.\\xa0Peters, J.\\xa0Quiñonero-Candela, D.\\xa0X. Charles, D.\\xa0M.\\nChickering, E.\\xa0Portugaly, D.\\xa0Ray, P.\\xa0Simard, and E.\\xa0Snelson.\\n\\n\\nCounterfactual reasoning and learning systems: The example of\\ncomputational advertising.\\n\\n\\nThe Journal of Machine Learning Research, 14(1):3207–3260,\\n2013.\\n\\n\\n\\n\\n[20]\\n\\nM.\\xa0Bowling, N.\\xa0Burch, M.\\xa0Johanson, and O.\\xa0Tammelin.\\n\\n\\nHeads-up limit hold’em poker is solved.\\n\\n\\nScience, 347(6218):145–149, 2015.\\n\\n\\n\\n\\n[21]\\n\\nS.\\xa0J. Bradtke and A.\\xa0G. Barto.\\n\\n\\nLinear least-squares algorithms for temporal difference learning.\\n\\n\\nMachine Learning, 22(1-3):33–57, 1996.\\n\\n\\n\\n\\n[22]\\n\\nS.\\xa0J. Bradtke, B.\\xa0E. Ydstie, and A.\\xa0G. Barto.\\n\\n\\nAdaptive linear quadratic control using policy iteration.\\n\\n\\nIn Proceedings of the 1994 American Control Conference, 1994.\\n\\n\\n\\n\\n[23]\\n\\nM.\\xa0C. Campi and E.\\xa0Weyer.\\n\\n\\nFinite Sample Properties of System Identification Methods.\\n\\n\\nIEEE Transactions on Automatic Control, 47(8), 2002.\\n\\n\\n\\n\\n[24]\\n\\nC.\\xa0Dann and E.\\xa0Brunskill.\\n\\n\\nSample complexity of episodic fixed-horizon reinforcement learning.\\n\\n\\nIn Advances in Neural Information Processing Systems (NIPS),\\n2015.\\n\\n\\n\\n\\n[25]\\n\\nP.\\xa0Dayan.\\n\\n\\nReinforcement comparison.\\n\\n\\nIn Connectionist Models, pages 45–51. Elsevier, 1991.\\n\\n\\n\\n\\n[26]\\n\\nP.\\xa0Dayan.\\n\\n\\nThe convergence of TD (MATH_79) for general MATH_79.\\n\\n\\nMachine Learning, 8(3-4):341–362, 1992.\\n\\n\\n\\n\\n[27]\\n\\nS.\\xa0Dean, H.\\xa0Mania, N.\\xa0Matni, B.\\xa0Recht, and S.\\xa0Tu.\\n\\n\\nOn the sample complexity of the linear quadratic regulator.\\n\\n\\narXiv:1710.01688, 2017.\\n\\n\\n\\n\\n[28]\\n\\nS.\\xa0Dean, H.\\xa0Mania, N.\\xa0Matni, B.\\xa0Recht, and S.\\xa0Tu.\\n\\n\\nRegret bounds for robust adaptive control of the linear quadratic\\nregulator.\\n\\n\\narXiv:1805.09388, 2018.\\n\\n\\n\\n\\n[29]\\n\\nB.\\xa0Efron.\\n\\n\\nBootstrap Methods: Another Look at the Jackknife.\\n\\n\\nThe Annals of Statistics, 7(1), 1979.\\n\\n\\n\\n\\n[30]\\n\\nT.\\xa0Erez, K.\\xa0Lowrey, Y.\\xa0Tassa, V.\\xa0Kumar, S.\\xa0Kolev, and E.\\xa0Todorov.\\n\\n\\nAn integrated system for real-time model predictive control of\\nhumanoid robots.\\n\\n\\nIn Proceedings of the 13th IEEE-RAS International Conference\\non Humanoid Robots (Humanoids), 2013.\\n\\n\\n\\n\\n[31]\\n\\nA.\\xa0D. Flaxman, A.\\xa0T. Kalai, and H.\\xa0B. McMahan.\\n\\n\\nOnline convex optimization in the bandit setting: gradient descent\\nwithout a gradient.\\n\\n\\nProceedings of the 16th annual ACM-SIAM symposium on Discrete\\nalgorithms, pages 385–394, 2005.\\n\\n\\n\\n\\n[32]\\n\\nJ.\\xa0Gao and R.\\xa0Jamidar.\\n\\n\\nMachine learning applications for data center optimization.\\n\\n\\nTechnical report, Google White Paper, 2014.\\n\\n\\n\\n\\n[33]\\n\\nG.\\xa0C. Goodwin, P.\\xa0J. Ramadge, and P.\\xa0E. Caines.\\n\\n\\nDiscrete time stochastic adaptive control.\\n\\n\\nSIAM Journal on Control and Optimization, 19(6):829–853, 1981.\\n\\n\\n\\n\\n[34]\\n\\nE.\\xa0Hazan, S.\\xa0Kale, and S.\\xa0Shalev-Shwartz.\\n\\n\\nNear-optimal algorithms for online matrix prediction.\\n\\n\\nIn Conference on Learning Theory (COLT), 2012.\\n\\n\\n\\n\\n[35]\\n\\nP.\\xa0Henderson, R.\\xa0Islam, P.\\xa0Bachman, J.\\xa0Pineau, D.\\xa0Precup, and D.\\xa0Meger.\\n\\n\\nDeep reinforcement learning that matters.\\n\\n\\narXiv:1709.06560, 2017.\\n\\n\\n\\n\\n[36]\\n\\nR.\\xa0Islam, P.\\xa0Henderson, M.\\xa0Gomrokchi, and D.\\xa0Precup.\\n\\n\\nReproducibility of benchmarked deep reinforcement learning tasks for\\ncontinuous control.\\n\\n\\narxiv:1708.04133, 2017.\\n\\n\\n\\n\\n[37]\\n\\nK.\\xa0G. Jamieson, R.\\xa0D. Nowak, and B.\\xa0Recht.\\n\\n\\nQuery complexity of derivative-free optimization.\\n\\n\\nIn Advances in Neural Information Processing Systems (NIPS),\\n2012.\\n\\n\\n\\n\\n[38]\\n\\nL.\\xa0P. Kaelbling, M.\\xa0L. Littman, and A.\\xa0R. Cassandra.\\n\\n\\nPlanning and acting in partially observable stochastic domains.\\n\\n\\nArtificial intelligence, 101(1-2):99–134, 1998.\\n\\n\\n\\n\\n[39]\\n\\nL.\\xa0P. Kaelbling, M.\\xa0L. Littman, and A.\\xa0W. Moore.\\n\\n\\nReinforcement learning: A survey.\\n\\n\\nJournal of artificial intelligence research, 4:237–285, 1996.\\n\\n\\n\\n\\n[40]\\n\\nR.\\xa0E. Kalman.\\n\\n\\nWhen is a linear control system optimal?\\n\\n\\nJournal of Basic Engineering, 86(1):51–60, 1964.\\n\\n\\n\\n\\n[41]\\n\\nD.\\xa0Kingma and J.\\xa0Ba.\\n\\n\\nAdam: A method for stochastic optimization.\\n\\n\\narxiv:1412.6980, 2014.\\n\\n\\n\\n\\n[42]\\n\\nM.\\xa0G. Lagoudakis and R.\\xa0Parr.\\n\\n\\nLeast-squares policy iteration.\\n\\n\\nJournal of machine learning research, 4(Dec):1107–1149, 2003.\\n\\n\\n\\n\\n[43]\\n\\nT.\\xa0L. Lai and H.\\xa0Robbins.\\n\\n\\nAsymptotically efficient adaptive allocation rules.\\n\\n\\nAdvances in Applied Mathematics, 6(1):4–22, 1985.\\n\\n\\n\\n\\n[44]\\n\\nS.\\xa0Levine, C.\\xa0Finn, T.\\xa0Darrell, and P.\\xa0Abbeel.\\n\\n\\nEnd-to-end training of deep visuomotor policies.\\n\\n\\nJournal of Machine Learning Research, 17(39):1–40, 2016.\\n\\n\\n\\n\\n[45]\\n\\nS.\\xa0Levine and V.\\xa0Koltun.\\n\\n\\nGuided policy search.\\n\\n\\nIn International Conference on Machine Learning (ICML), 2013.\\n\\n\\n\\n\\n[46]\\n\\nN.\\xa0Li, D.\\xa0W. Oyler, M.\\xa0Zhang, Y.\\xa0Yildiz, I.\\xa0Kolmanovsky, and A.\\xa0R. Girard.\\n\\n\\nGame theoretic modeling of driver and vehicle interactions for\\nverification and validation of autonomous vehicle control systems.\\n\\n\\nIEEE Transactions on control systems technology,\\nPP(99):1–16, 2017.\\n\\n\\n\\n\\n[47]\\n\\nT.\\xa0P. Lillicrap, J.\\xa0J. Hunt, A.\\xa0Pritzel, N.\\xa0Heess, T.\\xa0Erez, Y.\\xa0Tassa,\\nD.\\xa0Silver, and D.\\xa0Wierstra.\\n\\n\\nContinuous control with deep reinforcement learning.\\n\\n\\narxiv:1509.02971, 2015.\\n\\n\\n\\n\\n[48]\\n\\nL.\\xa0Ljung.\\n\\n\\nSystem Identification. Theory for the user.\\n\\n\\nPrentice Hall, Upper Saddle River, NJ, 2nd edition, 1998.\\n\\n\\n\\n\\n[49]\\n\\nH.\\xa0Mania, A.\\xa0Guy, and B.\\xa0Recht.\\n\\n\\nSimple random search provides a competitive approach to reinforcement\\nlearning.\\n\\n\\narXiv:1803.07055, 2018.\\n\\n\\n\\n\\n[50]\\n\\nN.\\xa0Matni, Y.-S. Wang, and J.\\xa0Anderson.\\n\\n\\nScalable system level synthesis for virtually localizable systems.\\n\\n\\nIn Proceedings of the 56th Conference on Decision and Control,\\n2017.\\n\\n\\n\\n\\n[51]\\n\\nV.\\xa0Mnih, K.\\xa0Kavukcuoglu, D.\\xa0Silver, A.\\xa0A. Rusu, J.\\xa0Veness, M.\\xa0G. Bellemare,\\nA.\\xa0Graves, M.\\xa0Riedmiller, A.\\xa0K. Fidjeland, G.\\xa0Ostrovski, et\\xa0al.\\n\\n\\nHuman-level control through deep reinforcement learning.\\n\\n\\nNature, 518(7540):529, 2015.\\n\\n\\n\\n\\n[52]\\n\\nR.\\xa0M. Murray.\\n\\n\\nA mathematical introduction to robotic manipulation.\\n\\n\\nCRC press, 2017.\\n\\n\\n\\n\\n[53]\\n\\nA.\\xa0Nemirovski and D.\\xa0Yudin.\\n\\n\\nProblem complexity and method efficiency in optimization.\\n\\n\\nWiley, New York, 1983.\\n\\n\\n\\n\\n[54]\\n\\nY.\\xa0Nesterov and V.\\xa0Spokoiny.\\n\\n\\nRandom gradient-free minimization of convex functions.\\n\\n\\nFoundations of Computational Mathematics, 17(2):527–566, 2017.\\n\\n\\n\\n\\n[55]\\n\\nA.\\xa0Y. Ng, S.\\xa0J. Russell, et\\xa0al.\\n\\n\\nAlgorithms for inverse reinforcement learning.\\n\\n\\nIn International Conference on Machine Learning (ICML), 2000.\\n\\n\\n\\n\\n[56]\\n\\nY.\\xa0Ouyang, M.\\xa0Gagrani, and R.\\xa0Jain.\\n\\n\\nLearning-based control of unknown linear systems with thompson\\nsampling.\\n\\n\\narXiv:1709.04047, 2017.\\n\\n\\n\\n\\n[57]\\n\\nC.\\xa0H. Papadimitriou and J.\\xa0N. Tsitsiklis.\\n\\n\\nThe complexity of Markov Decision Processes.\\n\\n\\nMathematics of Operations Research, 12(3):441–450, 1987.\\n\\n\\n\\n\\n[58]\\n\\nM.\\xa0L. Puterman.\\n\\n\\nMarkov Decision Processes: Discrete Stochastic Dynamic\\nProgramming.\\n\\n\\nWiley-Interscience, 1994.\\n\\n\\n\\n\\n[59]\\n\\nA.\\xa0Rajeswaran, K.\\xa0Lowrey, E.\\xa0Todorov, and S.\\xa0Kakade.\\n\\n\\nTowards generalization and simplicity in continuous control.\\n\\n\\nIn Advances in Neural Information Processing Systems (NIPS),\\n2017.\\n\\n\\n\\n\\n[60]\\n\\nL.\\xa0A. Rastrigin.\\n\\n\\nAbout convergence of random search method in extremal control of\\nmulti-parameter systems.\\n\\n\\nAvtomat. i Telemekh., 24(11):1467—1473, 1963.\\n\\n\\n\\n\\n[61]\\n\\nU.\\xa0Rosolia and F.\\xa0Borrelli.\\n\\n\\nLearning model predictive control for iterative tasks. a data-driven\\ncontrol framework.\\n\\n\\nIEEE Transactions on Automatic Control, PP(99), 2017.\\n\\n\\n\\n\\n[62]\\n\\nD.\\xa0Sadigh, S.\\xa0Sastry, S.\\xa0A. Seshia, and A.\\xa0D. Dragan.\\n\\n\\nPlanning for autonomous cars that leverage effects on human actions.\\n\\n\\nIn Robotics: Science and Systems, 2016.\\n\\n\\n\\n\\n[63]\\n\\nT.\\xa0Salimans, J.\\xa0Ho, X.\\xa0Chen, and I.\\xa0Sutskever.\\n\\n\\nEvolution strategies as a scalable alternative to reinforcement\\nlearning.\\n\\n\\narXiv:1703.03864, 2017.\\n\\n\\n\\n\\n[64]\\n\\nJ.\\xa0Schulman, S.\\xa0Levine, P.\\xa0Abbeel, M.\\xa0Jordan, and P.\\xa0Moritz.\\n\\n\\nTrust region policy optimization.\\n\\n\\nIn International Conference on Machine Learning (ICML), 2015.\\n\\n\\n\\n\\n[65]\\n\\nJ.\\xa0Schulman, P.\\xa0Moritz, S.\\xa0Levine, M.\\xa0Jordan, and P.\\xa0Abbeel.\\n\\n\\nHigh-dimensional continuous control using generalized advantage\\nestimation.\\n\\n\\narxiv:1506.02438, 2015.\\n\\n\\n\\n\\n[66]\\n\\nH.-P. Schwefel.\\n\\n\\nEvolutionsstrategie und numerische Optimierung.\\n\\n\\nPhD thesis, TU Berlin, 1975.\\n\\n\\n\\n\\n[67]\\n\\nJ.\\xa0Shao and D.\\xa0Tu.\\n\\n\\nThe Jackknife and Bootstrap.\\n\\n\\nSpringer Series in Statistics. Springer-Verlag, New York, 1995.\\n\\n\\n\\n\\n[68]\\n\\nD.\\xa0Silver, A.\\xa0Huang, C.\\xa0J. Maddison, A.\\xa0Guez, L.\\xa0Sifre, G.\\xa0Van Den\\xa0Driessche,\\nJ.\\xa0Schrittwieser, I.\\xa0Antonoglou, V.\\xa0Panneershelvam, M.\\xa0Lanctot, et\\xa0al.\\n\\n\\nMastering the game of go with deep neural networks and tree search.\\n\\n\\nNature, 529(7587):484–489, 2016.\\n\\n\\n\\n\\n[69]\\n\\nD.\\xa0Silver, G.\\xa0Lever, N.\\xa0Heess, T.\\xa0Degris, D.\\xa0Wierstra, and M.\\xa0Riedmiller.\\n\\n\\nDeterministic policy gradient algorithms.\\n\\n\\nIn ICML, 2014.\\n\\n\\n\\n\\n[70]\\n\\nM.\\xa0Simchowitz, H.\\xa0Mania, S.\\xa0Tu, M.\\xa0I. Jordan, and B.\\xa0Recht.\\n\\n\\nLearning without mixing.\\n\\n\\nIn Conference on Learning Theory (COLT), 2018.\\n\\n\\n\\n\\n[71]\\n\\nJ.\\xa0C. Spall.\\n\\n\\nMultivariate stochastic approximation using a simultaneous\\nperturbation gradient approximation.\\n\\n\\nIEEE Transactions on Automatic Control, 37(3):332–341, 1992.\\n\\n\\n\\n\\n[72]\\n\\nA.\\xa0Strehl, J.\\xa0Langford, L.\\xa0Li, and S.\\xa0M. Kakade.\\n\\n\\nLearning from logged implicit exploration data.\\n\\n\\nIn Advances in Neural Information Processing Systems (NIPS),\\n2010.\\n\\n\\n\\n\\n[73]\\n\\nF.\\xa0Stulp and O.\\xa0Sigaud.\\n\\n\\nRobot skill learning: From reinforcement learning to evolution\\nstrategies.\\n\\n\\nPALADYN Journal of Behavioral Robotics, 4(1):49–61, 2013.\\n\\n\\n\\n\\n[74]\\n\\nR.\\xa0S. Sutton.\\n\\n\\nTemporal credit assignment in reinforcement learning.\\n\\n\\nPhD thesis, University of Massachusetts, Amherst, 1984.\\n\\n\\n\\n\\n[75]\\n\\nR.\\xa0S. Sutton.\\n\\n\\nLearning to predict by the method of temporal differences.\\n\\n\\nMachine learning, 3(1):9–44, 1988.\\n\\n\\n\\n\\n[76]\\n\\nR.\\xa0S. Sutton and A.\\xa0G. Barto.\\n\\n\\nReinforcement learning: An introduction.\\n\\n\\nMIT press Cambridge, 1998.\\n\\n\\n\\n\\n[77]\\n\\nY.\\xa0Tassa, T.\\xa0Erez, and E.\\xa0Todorov.\\n\\n\\nSynthesis and stabilization of complex behaviors through online\\ntrajectory optimization.\\n\\n\\nIn International Conference on Intelligent Robots and Systems\\n(IROS), 2012.\\n\\n\\n\\n\\n[78]\\n\\nR.\\xa0Tedrake, T.\\xa0W. Zhang, and H.\\xa0S. Seung.\\n\\n\\nStochastic policy gradient reinforcement learning on a simple 3D\\nbiped.\\n\\n\\nIn International Conference on Intelligent Robots and Systems\\n(IROS), 2004.\\n\\n\\n\\n\\n[79]\\n\\nG.\\xa0Tesauro.\\n\\n\\nTD-gammon: A self-teaching backgammon program.\\n\\n\\nIn Applications of Neural Networks, pages 267–285. Springer,\\n1995.\\n\\n\\n\\n\\n[80]\\n\\nE.\\xa0Todorov, T.\\xa0Erez, and Y.\\xa0Tassa.\\n\\n\\nMuJoCo: A physics engine for model-based control.\\n\\n\\nIn International Conference on Intelligent Robots and Systems\\n(IROS), 2012.\\n\\n\\n\\n\\n[81]\\n\\nJ.\\xa0N. Tsitsiklis.\\n\\n\\nAsynchronous stochastic approximation and Q-learning.\\n\\n\\nMachine learning, 16(3):185–202, 1994.\\n\\n\\n\\n\\n[82]\\n\\nS.\\xa0L. Tu and B.\\xa0Recht.\\n\\n\\nLeast-squares temporal difference learning for the linear quadratic\\nregulator.\\n\\n\\nIn International Conference on Machine Learning (ICML), 2018.\\n\\n\\n\\n\\n[83]\\n\\nM.\\xa0Vidyasagar and R.\\xa0L. Karandikar.\\n\\n\\nA learning theory approach to system identification and stochastic\\nadaptive control.\\n\\n\\nJournal of Process Control, 18(3), 2008.\\n\\n\\n\\n\\n[84]\\n\\nY.-S. Wang, N.\\xa0Matni, and J.\\xa0C. Doyle.\\n\\n\\nA system level approach to controller synthesis.\\n\\n\\narxiv:1610.04815, 2016.\\n\\n\\n\\n\\n[85]\\n\\nC.\\xa0J. Watkins and P.\\xa0Dayan.\\n\\n\\nQ-learning.\\n\\n\\nMachine learning, 8(3-4):279–292, 1992.\\n\\n\\n\\n\\n[86]\\n\\nR.\\xa0J. Williams.\\n\\n\\nToward a theory of reinforcement-learning connectionist systems.\\n\\n\\nTechnical Report NU-CCS-88-3, College of Computer Science,\\nNortheastern University, 1988.\\n\\n\\n\\n\\n[87]\\n\\nR.\\xa0J. Williams.\\n\\n\\nSimple statistical gradient-following algorithms for connectionist\\nreinforcement learning.\\n\\n\\nMachine Learning, 8(3-4):229–256, 1992.\\n\\n\\n\\n\\n[88]\\n\\nY.\\xa0Wu, E.\\xa0Mansimov, S.\\xa0Liao, R.\\xa0Grosse, and J.\\xa0Ba.\\n\\n\\nScalable trust-region method for deep reinforcement learning using\\nkronecker-factored approximation.\\n\\n\\narXiv:1708.05144, 2017.\\n\\n\\n\\n\\n[89]\\n\\nH.\\xa0Yu and D.\\xa0P. Bertsekas.\\n\\n\\nConvergence results for some temporal difference methods based on\\nleast squares.\\n\\n\\nIEEE Transactions on Automatic Control, 54(7):1515–1531, 2009.\\n\\n\\n\\n\\n[90]\\n\\nK.\\xa0Zhou, J.\\xa0C. Doyle, and K.\\xa0Glover.\\n\\n\\nRobust and Optimal Control.\\n\\n\\nPrentice Hall, New Jersey, 1995.\\n\\n\\n\\n\\n[91]\\n\\nX.\\xa0Zhu.\\n\\n\\nSemi-supervised learning literature survey.\\n\\n\\nTechnical Report 1530, Department of Computer Sciences, University of\\nWisconsin, Madison., 2005.\\n\\n\\n\\n\\n\\n\\n\\n\\nGenerated  on Thu Jul 11 07:39:19 2019 by LaTeXML \\n\\n\\n'"
     },
     "execution_count": 233,
     "metadata": {},
     "output_type": "execute_result"
    }
   ],
   "source": [
    "#x.text_content().split()\n",
    "\n"
   ]
  },
  {
   "cell_type": "code",
   "execution_count": 234,
   "metadata": {},
   "outputs": [],
   "source": [
    "with open('output_x.txt', 'w') as f:\n",
    "    f.write(lxml.html.tostring(x, method='text', encoding='unicode'))"
   ]
  },
  {
   "cell_type": "code",
   "execution_count": 117,
   "metadata": {},
   "outputs": [
    {
     "data": {
      "text/plain": "'asdf;lkjdsaf'"
     },
     "execution_count": 117,
     "metadata": {},
     "output_type": "execute_result"
    }
   ],
   "source": [
    "x"
   ]
  },
  {
   "cell_type": "code",
   "execution_count": null,
   "metadata": {
    "collapsed": false,
    "pycharm": {
     "name": "#%%\n"
    }
   },
   "outputs": [],
   "source": [
    "# extract math content from a document\n",
    "formulaRegexp = re.compile(r'<math(.*?)>(.*?)</math>', re.DOTALL)\n",
    "formulae = formulaRegexp.findall(doc.body)\n",
    "\n",
    "doc.formulae = [(s[0], re.sub(r'\\n\\s+', '', s[1])) for s in formulae]\n",
    "doc.identifiers=[re.findall(r'<mi>(.*?)</mi>', formula[1]) for formula in doc.formulae]"
   ]
  },
  {
   "cell_type": "code",
   "execution_count": 109,
   "metadata": {
    "collapsed": false,
    "pycharm": {
     "is_executing": false,
     "name": "#%%\n"
    }
   },
   "outputs": [
    {
     "name": "stdout",
     "output_type": "stream",
     "text": [
      "804995\n"
     ]
    }
   ],
   "source": [
    "print(len(doc.body))\n"
   ]
  },
  {
   "cell_type": "code",
   "execution_count": 37,
   "metadata": {
    "collapsed": false,
    "pycharm": {
     "is_executing": false,
     "name": "#%%\n"
    }
   },
   "outputs": [],
   "source": [
    "with open('output1.txt', 'w') as f:\n",
    "    f.write(' '.join(doc.body.split()))"
   ]
  },
  {
   "cell_type": "code",
   "execution_count": 44,
   "metadata": {
    "pycharm": {
     "is_executing": false
    }
   },
   "outputs": [
    {
     "ename": "TypeError",
     "evalue": "sequence item 0: expected str instance, list found",
     "output_type": "error",
     "traceback": [
      "\u001b[0;31m---------------------------------------------------------------------------\u001b[0m",
      "\u001b[0;31mTypeError\u001b[0m                                 Traceback (most recent call last)",
      "\u001b[0;32m<ipython-input-44-8c891c0c4a10>\u001b[0m in \u001b[0;36m<module>\u001b[0;34m\u001b[0m\n\u001b[1;32m     18\u001b[0m             \u001b[0mmsub_list\u001b[0m\u001b[0;34m.\u001b[0m\u001b[0mappend\u001b[0m\u001b[0;34m(\u001b[0m\u001b[0mmath_txt\u001b[0m\u001b[0;34m[\u001b[0m\u001b[0;34m:\u001b[0m\u001b[0;34m-\u001b[0m\u001b[0;36m1\u001b[0m\u001b[0;34m]\u001b[0m\u001b[0;34m)\u001b[0m\u001b[0;34m\u001b[0m\u001b[0;34m\u001b[0m\u001b[0m\n\u001b[1;32m     19\u001b[0m \u001b[0;34m\u001b[0m\u001b[0m\n\u001b[0;32m---> 20\u001b[0;31m     \u001b[0mf\u001b[0m\u001b[0;34m.\u001b[0m\u001b[0mwrite\u001b[0m\u001b[0;34m(\u001b[0m\u001b[0;34m'\\n'\u001b[0m\u001b[0;34m.\u001b[0m\u001b[0mjoin\u001b[0m\u001b[0;34m(\u001b[0m\u001b[0mmsub_list\u001b[0m\u001b[0;34m)\u001b[0m\u001b[0;34m)\u001b[0m\u001b[0;34m\u001b[0m\u001b[0;34m\u001b[0m\u001b[0m\n\u001b[0m\u001b[1;32m     21\u001b[0m     \u001b[0mf\u001b[0m\u001b[0;34m.\u001b[0m\u001b[0mwrite\u001b[0m\u001b[0;34m(\u001b[0m\u001b[0;34m'\\n'\u001b[0m\u001b[0;34m)\u001b[0m\u001b[0;34m\u001b[0m\u001b[0;34m\u001b[0m\u001b[0m\n\u001b[1;32m     22\u001b[0m     \u001b[0mf\u001b[0m\u001b[0;34m.\u001b[0m\u001b[0mwrite\u001b[0m\u001b[0;34m(\u001b[0m\u001b[0;34m'------------------------\\n'\u001b[0m\u001b[0;34m)\u001b[0m\u001b[0;34m\u001b[0m\u001b[0;34m\u001b[0m\u001b[0m\n",
      "\u001b[0;31mTypeError\u001b[0m: sequence item 0: expected str instance, list found"
     ]
    }
   ],
   "source": [
    "tree = lxml.html.parse(document_path)\n",
    "html = tree.getroot()\n",
    "\n",
    "path_w = 'output.txt'\n",
    "with open(path_w, mode='w') as f:\n",
    "    f.write('## msub ##\\n')\n",
    "    msub_list = []\n",
    "    for math in html.cssselect('msub'):\n",
    "        math_txt = ''\n",
    "        for math_ in math.cssselect('mi'):\n",
    "            math_txt = '_'.join([x.text_content() for x in x])\n",
    "            # math_txt = '_'.join(math_txt)\n",
    "            # math_txt = math_.text.strip()\n",
    "            # math_txt += '_'\n",
    "            \n",
    "        if not math_txt[:-1] in msub_list:\n",
    "            msub_list.append(math_txt[:-1])\n",
    "        \n",
    "    f.write('\\n'.join(msub_list))\n",
    "    f.write('\\n')\n",
    "    f.write('------------------------\\n')\n",
    "\n",
    "    f.write('## msup ##\\n')\n",
    "    msup_list = []\n",
    "    for math in html.cssselect('msup'):\n",
    "        math_txt = ''\n",
    "        for math_ in math.cssselect('mi'):\n",
    "            math_txt += math_.text.strip()\n",
    "            math_txt += '_'\n",
    "        if not math_txt[:-1] in msup_list:\n",
    "            msup_list.append(math_txt[:-1])\n",
    "    f.write('\\n'.join(msup_list))\n",
    "    f.write('\\n')\n",
    "    f.write('------------------------\\n')\n",
    "\n",
    "    f.write('## msubsup ##\\n')\n",
    "    msubsup_list = []\n",
    "    for math in html.cssselect('msubsup'):\n",
    "        math_txt = ''\n",
    "        for math_ in math.cssselect('mi'):\n",
    "            math_txt += math_.text.strip()\n",
    "            math_txt += '_'\n",
    "        if not math_txt[:-1] in msubsup_list:\n",
    "            msubsup_list.append(math_txt[:-1])\n",
    "    f.write('\\n'.join(msubsup_list))\n",
    "    f.write('\\n')\n",
    "    f.write('------------------------\\n')\n"
   ]
  },
  {
   "cell_type": "code",
   "execution_count": 165,
   "metadata": {},
   "outputs": [],
   "source": [
    "tree = lxml.html.parse(document_path)\n",
    "html = tree.getroot()"
   ]
  },
  {
   "cell_type": "code",
   "execution_count": 166,
   "metadata": {},
   "outputs": [],
   "source": [
    "a = html.cssselect('math')\n",
    "# a_0_msub = a[0].cssselect('msub')\n",
    "# a_0_msub_msup = a[0].cssselect(regex)\n",
    "# a_0_msub[0].drop_tree()\n",
    "# a_0_msub_mi = [msub.cssselect('mi') for msub in a_0_msub]\n",
    "# a_0_msub_mi_x = [a_0_msub_mi_x[i].text for a_0_msub_mi_x in a_0_msub_mi for i, _ in enumerate(a_0_msub_mi_x)]\n",
    "# print([b_.cssselect('mi').text.strip() for b_ in b[0]])\n",
    "# a_0 = a_0_msub[0]"
   ]
  },
  {
   "cell_type": "code",
   "execution_count": 216,
   "metadata": {},
   "outputs": [
    {
     "data": {
      "text/plain": "'subscript𝑥𝑡1subscript𝑓𝑡subscript𝑥𝑡subscript𝑢𝑡subscript𝑒𝑡'"
     },
     "execution_count": 216,
     "metadata": {},
     "output_type": "execute_result"
    }
   ],
   "source": [
    "a[0].getchildren()[0].getchildren()[1].text_content()"
   ]
  },
  {
   "cell_type": "code",
   "execution_count": 51,
   "metadata": {},
   "outputs": [
    {
     "name": "stdout",
     "output_type": "stream",
     "text": "xt+1\ntext length : 135239\n"
    }
   ],
   "source": [
    "print(a_0_msub[0].text_content())\n",
    "print('text length : {}'.format(len(html.text_content())))"
   ]
  },
  {
   "cell_type": "code",
   "execution_count": 54,
   "metadata": {},
   "outputs": [],
   "source": [
    "x = [x for x in a_0_msub[0].iterchildren()]"
   ]
  },
  {
   "cell_type": "code",
   "execution_count": 218,
   "metadata": {},
   "outputs": [
    {
     "data": {
      "text/plain": "['<div',\n 'class=\"ltx_page_main\">',\n '<div',\n 'class=\"ltx_page_content\">',\n '<article',\n 'class=\"ltx_document',\n 'ltx_authors_1line\">',\n '<h1',\n 'class=\"ltx_title',\n 'ltx_title_document\">A',\n 'Tour',\n 'of',\n 'Reinforcement',\n 'Learning',\n '<br',\n 'class=\"ltx_break\"><span',\n 'id=\"id1\"',\n 'class=\"ltx_text\"',\n 'style=\"font-size:144%;\">The',\n 'View',\n 'from',\n 'Continuous',\n 'Control</span>',\n '</h1>',\n '<div',\n 'class=\"ltx_authors\">',\n '<span',\n 'class=\"ltx_creator',\n 'ltx_role_author\">',\n '<span',\n 'class=\"ltx_personname\">Benjamin',\n 'Recht',\n '<br',\n 'class=\"ltx_break\">Department',\n 'of',\n 'Electrical',\n 'Engineering',\n 'and',\n 'Computer',\n 'Sciences',\n '<br',\n 'class=\"ltx_break\">University',\n 'of',\n 'California,',\n 'Berkeley',\n '</span></span>',\n '</div>',\n '<div',\n 'class=\"ltx_date',\n 'ltx_role_creation\">June',\n '25,',\n '2018</div>',\n '<div',\n 'class=\"ltx_abstract\">',\n '<h6',\n 'class=\"ltx_title',\n 'ltx_title_abstract\">Abstract</h6>',\n '<p',\n 'id=\"id2\"',\n 'class=\"ltx_p\">This',\n 'manuscript',\n 'surveys',\n 'reinforcement',\n 'learning',\n 'from',\n 'the',\n 'perspective',\n 'of',\n 'optimization',\n 'and',\n 'control',\n 'with',\n 'a',\n 'focus',\n 'on',\n 'continuous',\n 'control',\n 'applications.',\n 'It',\n 'surveys',\n 'the',\n 'general',\n 'formulation,',\n 'terminology,',\n 'and',\n 'typical',\n 'experimental',\n 'implementations',\n 'of',\n 'reinforcement',\n 'learning',\n 'and',\n 'reviews',\n 'competing',\n 'solution',\n 'paradigms.</p>',\n '<p',\n 'id=\"id3\"',\n 'class=\"ltx_p\">In',\n 'order',\n 'to',\n 'compare',\n 'the',\n 'relative',\n 'merits',\n 'of',\n 'various',\n 'techniques,',\n 'this',\n 'survey',\n 'presents',\n 'a',\n 'case',\n 'study',\n 'of',\n 'the',\n 'Linear',\n 'Quadratic',\n 'Regulator',\n '(LQR)',\n 'with',\n 'unknown',\n 'dynamics,',\n 'perhaps',\n 'the',\n 'simplest',\n 'and',\n 'best',\n 'studied',\n 'problem',\n 'in',\n 'optimal',\n 'control.',\n 'The',\n 'manuscript',\n 'describes',\n 'how',\n 'merging',\n 'techniques',\n 'from',\n 'learning',\n 'theory',\n 'and',\n 'control',\n 'can',\n 'provide',\n 'non-asymptotic',\n 'characterizations',\n 'of',\n 'LQR',\n 'performance',\n 'and',\n 'shows',\n 'that',\n 'these',\n 'characterizations',\n 'tend',\n 'to',\n 'match',\n 'experimental',\n 'behavior.',\n 'In',\n 'turn,',\n 'when',\n 'revisiting',\n 'more',\n 'complex',\n 'applications,',\n 'many',\n 'of',\n 'the',\n 'observed',\n 'phenomena',\n 'in',\n 'LQR',\n 'persist.',\n 'In',\n 'particular,',\n 'theory',\n 'and',\n 'experiment',\n 'demonstrate',\n 'the',\n 'role',\n 'and',\n 'importance',\n 'of',\n 'models',\n 'and',\n 'the',\n 'cost',\n 'of',\n 'generality',\n 'in',\n 'reinforcement',\n 'learning',\n 'algorithms.</p>',\n '<p',\n 'id=\"id4\"',\n 'class=\"ltx_p\">This',\n 'survey',\n 'concludes',\n 'with',\n 'a',\n 'discussion',\n 'of',\n 'some',\n 'of',\n 'the',\n 'challenges',\n 'in',\n 'designing',\n 'learning',\n 'systems',\n 'that',\n 'safely',\n 'and',\n 'reliably',\n 'interact',\n 'with',\n 'complex',\n 'and',\n 'uncertain',\n 'environments',\n 'and',\n 'how',\n 'tools',\n 'from',\n 'reinforcement',\n 'learning',\n 'and',\n 'controls',\n 'might',\n 'be',\n 'combined',\n 'to',\n 'approach',\n 'these',\n 'challenges.</p>',\n '</div>',\n '<section',\n 'id=\"S1\"',\n 'class=\"ltx_section\">',\n '<h2',\n 'class=\"ltx_title',\n 'ltx_title_section\">',\n '<span',\n 'class=\"ltx_tag',\n 'ltx_tag_section\">1',\n '</span>Introduction</h2>',\n '<div',\n 'id=\"S1.p1\"',\n 'class=\"ltx_para\">',\n '<p',\n 'id=\"S1.p1.1\"',\n 'class=\"ltx_p\">Reinforcement',\n 'learning',\n '(RL)',\n 'is',\n 'the',\n 'subfield',\n 'of',\n 'machine',\n 'learning',\n 'that',\n 'studies',\n 'how',\n 'to',\n 'use',\n 'past',\n 'data',\n 'to',\n 'enhance',\n 'the',\n 'future',\n 'manipulation',\n 'of',\n 'a',\n 'dynamical',\n 'system.',\n 'A',\n 'controls',\n 'engineer',\n 'might',\n 'be',\n 'puzzled',\n 'by',\n 'such',\n 'a',\n 'definition',\n 'and',\n 'interject',\n 'that',\n 'this',\n 'is',\n 'precisely',\n 'the',\n 'scope',\n 'of',\n 'control',\n 'theory.',\n 'That',\n 'the',\n 'RL',\n 'and',\n 'controls',\n 'communities',\n 'remain',\n 'practically',\n 'disjoint',\n 'has',\n 'lead',\n 'to',\n 'the',\n 'co-development',\n 'of',\n 'vastly',\n 'different',\n 'approaches',\n 'to',\n 'the',\n 'same',\n 'problems.',\n 'However,',\n 'it',\n 'should',\n 'be',\n 'impossible',\n 'for',\n 'a',\n 'controls',\n 'engineer',\n 'not',\n 'to',\n 'be',\n 'impressed',\n 'by',\n 'the',\n 'recent',\n 'successes',\n 'of',\n 'the',\n 'RL',\n 'community',\n 'such',\n 'as',\n 'solving',\n 'Go',\n '<cite',\n 'class=\"ltx_cite',\n 'ltx_citemacro_cite\">[<a',\n 'href=\"#bib.bib68\"',\n 'title=\"\"',\n 'class=\"ltx_ref\"><span',\n 'class=\"ltx_text\"',\n 'style=\"font-size:90%;\">68</span></a>]</cite>.</p>',\n '</div>',\n '<div',\n 'id=\"S1.p2\"',\n 'class=\"ltx_para\">',\n '<p',\n 'id=\"S1.p2.1\"',\n 'class=\"ltx_p\">Indeed,',\n 'given',\n 'this',\n 'dramatic',\n 'recent',\n 'progress',\n 'in',\n 'reinforcement',\n 'learning,',\n 'a',\n 'tremendous',\n 'opportunity',\n 'lies',\n 'in',\n 'deploying',\n 'its',\n 'data-driven',\n 'systems',\n 'in',\n 'more',\n 'demanding',\n 'interactive',\n 'tasks',\n 'including',\n 'self-driving',\n 'vehicles,',\n 'distributed',\n 'sensor',\n 'networks,',\n 'and',\n 'agile',\n 'robotic',\n 'systems.',\n 'In',\n 'order',\n 'for',\n 'RL',\n 'to',\n 'expand',\n 'into',\n 'such',\n 'technologies,',\n 'however,',\n 'it',\n 'is',\n 'critical',\n 'for',\n 'the',\n 'methods',\n 'to',\n 'be',\n 'safe',\n 'and',\n 'reliable.',\n 'Failure',\n 'of',\n 'such',\n 'RL',\n 'systems',\n 'has',\n 'severe',\n 'societal',\n 'and',\n 'economic',\n 'consequences',\n 'including',\n 'the',\n 'loss',\n 'of',\n 'human',\n 'life.',\n 'How',\n 'can',\n 'we',\n 'guarantee',\n 'that',\n 'our',\n 'new',\n 'data-driven',\n 'automated',\n 'systems',\n 'are',\n 'robust?',\n 'These',\n 'sort',\n 'of',\n 'reliability',\n 'concerns',\n 'are',\n 'at',\n 'the',\n 'core',\n 'of',\n 'controls',\n 'engineering,',\n 'and',\n 'reinforcement',\n 'learning',\n 'practitioners',\n 'might',\n 'be',\n 'able',\n 'to',\n 'make',\n 'their',\n 'methods',\n 'robust',\n 'by',\n 'applying',\n 'appropriate',\n 'controls',\n 'tools',\n 'for',\n 'engineering',\n 'systems',\n 'to',\n 'match',\n 'prescribed',\n 'safety',\n 'guarantees.</p>',\n '</div>',\n '<div',\n 'id=\"S1.p3\"',\n 'class=\"ltx_para\">',\n '<p',\n 'id=\"S1.p3.1\"',\n 'class=\"ltx_p\">This',\n 'survey',\n 'aims',\n 'to',\n 'provide',\n 'a',\n 'language',\n 'for',\n 'the',\n 'control',\n 'and',\n 'reinforcement',\n 'learning',\n 'communities',\n 'to',\n 'begin',\n 'communicating,',\n 'highlighting',\n 'what',\n 'each',\n 'can',\n 'learn',\n 'from',\n 'the',\n 'other.',\n 'Controls',\n 'is',\n 'the',\n 'theory',\n 'of',\n 'designing',\n 'complex',\n 'actions',\n 'from',\n 'well-specified',\n 'models,',\n 'while',\n 'reinforcement',\n 'learning',\n 'often',\n 'makes',\n 'intricate,',\n 'model-free',\n 'predictions',\n 'from',\n 'data',\n 'alone.',\n 'Yet,',\n 'both',\n 'RL',\n 'and',\n 'control',\n 'aim',\n 'to',\n 'design',\n 'systems',\n 'that',\n 'use',\n 'richly',\n 'structured',\n 'perception,',\n 'perform',\n 'planning',\n 'and',\n 'control',\n 'that',\n 'adequately',\n 'adapts',\n 'to',\n 'environmental',\n 'changes,',\n 'and',\n 'exploit',\n 'safeguards',\n 'when',\n 'surprised',\n 'by',\n 'a',\n 'new',\n 'scenario.',\n 'Understanding',\n 'how',\n 'to',\n 'properly',\n 'analyze,',\n 'predict,',\n 'and',\n 'certify',\n 'such',\n 'systems',\n 'requires',\n 'insights',\n 'from',\n 'current',\n 'machine',\n 'learning',\n 'practice',\n 'and',\n 'from',\n 'the',\n 'applied',\n 'mathematics',\n 'of',\n 'optimization,',\n 'statistics,',\n 'and',\n 'control',\n 'theory.',\n 'With',\n 'a',\n 'focus',\n 'on',\n 'problems',\n 'in',\n 'continuous',\n 'control,',\n 'I',\n 'will',\n 'try',\n 'to',\n 'disentangle',\n 'the',\n 'similarities',\n 'and',\n 'differences',\n 'of',\n 'methods',\n 'of',\n 'the',\n 'dueling',\n 'perspectives',\n 'and',\n 'present',\n 'a',\n 'set',\n 'of',\n 'challenging',\n 'problems',\n 'whose',\n 'solution',\n 'requires',\n 'significant',\n 'input',\n 'from',\n 'both',\n 'sets',\n 'of',\n 'practitioners.</p>',\n '</div>',\n '<div',\n 'id=\"S1.p4\"',\n 'class=\"ltx_para\">',\n '<p',\n 'id=\"S1.p4.1\"',\n 'class=\"ltx_p\">I',\n 'will',\n 'first',\n 'focus',\n 'on',\n 'casting',\n 'RL',\n 'problems',\n 'in',\n 'an',\n 'optimization',\n 'framework,',\n 'establishing',\n 'the',\n 'sorts',\n 'of',\n 'methodological',\n 'tools',\n 'brought',\n 'to',\n 'bear',\n 'in',\n 'contemporary',\n 'RL.',\n 'I',\n 'will',\n 'then',\n 'lay',\n 'out',\n 'the',\n 'main',\n 'solution',\n 'techniques',\n 'of',\n 'RL',\n 'including',\n 'the',\n 'dichotomy',\n 'between',\n 'the',\n 'model-free',\n 'and',\n 'model-based',\n 'methodologies.',\n 'I',\n 'will',\n 'then',\n 'try',\n 'to',\n 'put',\n 'RL',\n 'and',\n 'controls',\n 'techniques',\n 'on',\n 'the',\n 'same',\n 'footing',\n 'through',\n 'a',\n 'case',\n 'study',\n 'of',\n 'the',\n 'linear',\n 'quadratic',\n 'regulator',\n '(LQR)',\n 'with',\n 'unknown',\n 'dynamics.',\n 'This',\n 'baseline',\n 'will',\n 'illuminate',\n 'the',\n 'various',\n 'tradeoffs',\n 'associated',\n 'with',\n 'techniques',\n 'from',\n 'RL',\n 'and',\n 'control.',\n 'In',\n 'particular,',\n 'we',\n 'will',\n 'see',\n 'that',\n 'the',\n 'so-called',\n '“model-free”',\n 'methods',\n 'popular',\n 'in',\n 'deep',\n 'reinforcement',\n 'learning',\n 'are',\n 'considerably',\n 'less',\n 'effective',\n 'in',\n 'both',\n 'theory',\n 'and',\n 'practice',\n 'than',\n 'simple',\n 'model-based',\n 'schemes',\n 'when',\n 'applied',\n 'to',\n 'LQR.',\n 'Perhaps',\n 'surprisingly,',\n 'I',\n 'will',\n 'also',\n 'show',\n 'cases',\n 'where',\n 'these',\n 'observations',\n 'continue',\n 'to',\n 'hold',\n 'on',\n 'more',\n 'challenging',\n 'nonlinear',\n 'applications.',\n 'I',\n 'will',\n 'then',\n 'argue',\n 'that',\n 'model-free',\n 'and',\n 'model-based',\n 'perspectives',\n 'can',\n 'be',\n 'unified,',\n 'combining',\n 'their',\n 'relative',\n 'merits.',\n 'This',\n 'will',\n 'lead',\n 'to',\n 'a',\n 'concluding',\n 'discussion',\n 'of',\n 'some',\n 'of',\n 'the',\n 'challenges',\n 'at',\n 'the',\n 'interface',\n 'of',\n 'control',\n 'and',\n 'learning',\n 'that',\n 'must',\n 'be',\n 'solved',\n 'before',\n 'we',\n 'can',\n 'build',\n 'robust,',\n 'safe',\n 'learning',\n 'systems',\n 'that',\n 'interact',\n 'with',\n 'an',\n 'uncertain',\n 'physical',\n 'environment',\n 'and',\n 'that',\n 'will',\n 'surely',\n 'require',\n 'tools',\n 'from',\n '<em',\n 'id=\"S1.p4.1.1\"',\n 'class=\"ltx_emph',\n 'ltx_font_italic\">both</em>',\n 'the',\n 'machine',\n 'learning',\n 'and',\n 'controls',\n 'community.</p>',\n '</div>',\n '</section>',\n '<section',\n 'id=\"S2\"',\n 'class=\"ltx_section\">',\n '<h2',\n 'class=\"ltx_title',\n 'ltx_title_section\">',\n '<span',\n 'class=\"ltx_tag',\n 'ltx_tag_section\">2',\n '</span>What',\n 'is',\n 'reinforcement',\n 'learning?</h2>',\n '<div',\n 'id=\"S2.p1\"',\n 'class=\"ltx_para\">',\n '<p',\n 'id=\"S2.p1.1\"',\n 'class=\"ltx_p\">Reinforcement',\n 'learning',\n 'is',\n 'the',\n 'study',\n 'of',\n 'how',\n 'to',\n 'use',\n 'past',\n 'data',\n 'to',\n 'enhance',\n 'the',\n 'future',\n 'manipulation',\n 'of',\n 'a',\n 'dynamical',\n 'system.',\n 'How',\n 'does',\n 'this',\n 'differ',\n 'from',\n 'ordinary',\n 'machine',\n 'learning?',\n 'The',\n 'main',\n 'view',\n 'of',\n 'this',\n 'survey',\n 'is',\n 'of',\n 'reinforcement',\n 'learning',\n 'as',\n 'optimal',\n 'control',\n 'when',\n 'the',\n 'dynamics',\n 'are',\n 'unknown.',\n 'Our',\n 'goal',\n 'will',\n 'be',\n 'to',\n 'find',\n 'a',\n 'set',\n 'of',\n 'inputs',\n 'that',\n 'drives',\n 'a',\n 'dynamical',\n 'system',\n 'to',\n 'maximize',\n 'some',\n 'objective',\n 'beginning',\n 'with',\n 'minimal',\n 'knowledge',\n 'of',\n 'how',\n 'the',\n 'system',\n 'responds',\n 'to',\n 'inputs.</p>',\n '</div>',\n '<div',\n 'id=\"S2.p2\"',\n 'class=\"ltx_para\">',\n '<p',\n 'id=\"S2.p2.1\"',\n 'class=\"ltx_p\">In',\n 'the',\n 'classic',\n 'optimal',\n 'control',\n 'problem,',\n 'we',\n 'begin',\n 'with',\n 'a',\n 'dynamical',\n 'system',\n 'governed',\n 'by',\n 'the',\n 'difference',\n 'equation',\n '<math',\n 'id=\"S2.p2.1.m1.1\"',\n 'class=\"ltx_Math\"',\n 'alttext=\"x_{t+1}=f_{t}(x_{t},u_{t},e_{t})\"',\n 'display=\"inline\"><semantics',\n 'id=\"S2.p2.1.m1.1a\"><mrow',\n 'id=\"S2.p2.1.m1.1.16\"',\n 'xref=\"S2.p2.1.m1.1.16.cmml\">MATH_0<mo',\n 'id=\"S2.p2.1.m1.1.3\"',\n 'xref=\"S2.p2.1.m1.1.3.cmml\">=</mo><mrow',\n 'id=\"S2.p2.1.m1.1.16.2\"',\n 'xref=\"S2.p2.1.m1.1.16.2.cmml\">MATH_1<mo',\n 'id=\"S2.p2.1.m1.1.16.2.1\"',\n 'xref=\"S2.p2.1.m1.1.16.2.1.cmml\">\\u2062</mo><mrow',\n 'id=\"S2.p2.1.m1.1.16.2.3\"',\n 'xref=\"S2.p2.1.m1.1.16.2.3.1.cmml\"><mo',\n 'stretchy=\"false\"',\n 'id=\"S2.p2.1.m1.1.6\"',\n 'xref=\"S2.p2.1.m1.1.16.2.3.1.cmml\">(</mo>MATH_2<mo',\n 'id=\"S2.p2.1.m1.1.9\"',\n 'xref=\"S2.p2.1.m1.1.16.2.3.1.cmml\">,</mo>MATH_3<mo',\n 'id=\"S2.p2.1.m1.1.12\"',\n 'xref=\"S2.p2.1.m1.1.16.2.3.1.cmml\">,</mo>MATH_4<mo',\n 'stretchy=\"false\"',\n 'id=\"S2.p2.1.m1.1.15\"',\n 'xref=\"S2.p2.1.m1.1.16.2.3.1.cmml\">)</mo></mrow></mrow></mrow><annotation-xml',\n 'encoding=\"MathML-Content\"',\n 'id=\"S2.p2.1.m1.1b\"><apply',\n 'id=\"S2.p2.1.m1.1.16.cmml\"',\n 'xref=\"S2.p2.1.m1.1.16\"><eq',\n 'id=\"S2.p2.1.m1.1.3.cmml\"',\n 'xref=\"S2.p2.1.m1.1.3\"></eq><apply',\n 'id=\"S2.p2.1.m1.1.16.1.cmml\"',\n ...]"
     },
     "execution_count": 218,
     "metadata": {},
     "output_type": "execute_result"
    }
   ],
   "source": [
    "doc.body.split()"
   ]
  },
  {
   "cell_type": "code",
   "execution_count": 65,
   "metadata": {},
   "outputs": [
    {
     "data": {
      "text/plain": "1"
     },
     "execution_count": 65,
     "metadata": {},
     "output_type": "execute_result"
    }
   ],
   "source": [
    "len(x[0].text_content())"
   ]
  },
  {
   "cell_type": "code",
   "execution_count": 96,
   "metadata": {
    "collapsed": false,
    "pycharm": {
     "is_executing": false,
     "name": "#%%\n"
    }
   },
   "outputs": [],
   "source": [
    "a_0_mi = a[0].cssselect('mi')"
   ]
  },
  {
   "cell_type": "code",
   "execution_count": 108,
   "metadata": {
    "collapsed": false,
    "pycharm": {
     "is_executing": false,
     "name": "#%%\n"
    }
   },
   "outputs": [
    {
     "name": "stdout",
     "output_type": "stream",
     "text": [
      "<mi id=\"S2.p2.1.m1.1.10\" xref=\"S2.p2.1.m1.1.10.cmml\">u</mi>\n",
      "<class 'str'>\n",
      "the variable is represented by <mi id=\"S2.p2.1.m1.1.10\" xref=\"S2.p2.1.m1.1.10.cmml\">u</mi>.\n"
     ]
    }
   ],
   "source": [
    "html_tostring = lxml.html.tostring(a_0_mi[0], encoding='unicode')\n",
    "print(html_tostring)\n",
    "print(type(html_tostring))\n",
    "text = 'the variable is represented by ' + html_tostring + '.'\n",
    "print(text)"
   ]
  },
  {
   "cell_type": "code",
   "execution_count": 92,
   "metadata": {},
   "outputs": [
    {
     "data": {
      "text/plain": "1"
     },
     "execution_count": 92,
     "metadata": {},
     "output_type": "execute_result"
    }
   ],
   "source": [
    "len(a[0].text_content())"
   ]
  },
  {
   "cell_type": "code",
   "execution_count": 70,
   "metadata": {},
   "outputs": [
    {
     "name": "stdout",
     "output_type": "stream",
     "text": "x\n"
    }
   ],
   "source": [
    "a = [a for a in a_0.iterchildren()]                      \n",
    "print(a[0].text_content())"
   ]
  },
  {
   "cell_type": "code",
   "execution_count": 8,
   "metadata": {
    "pycharm": {
     "is_executing": false
    }
   },
   "outputs": [
    {
     "name": "stdout",
     "output_type": "stream",
     "text": [
      "--- msubsup ---\n",
      "[[], [], [], [], [('T', '𝐯', '<mo>-')], [], [], [], [], [], [], [], [], [], [], [], [], [], [], [], [], [], [], []]\n",
      "--- msup ---\n",
      "[[], [], [], [], [], [], [], [('R', 'T', '=')], [], [], [('x', '′', '<mtd columnalign=\"center\"><msup><mi>y')], [], [], [], [], [], [], [], [], [], [], [], [], []]\n",
      "--- msub ---\n"
     ]
    }
   ],
   "source": [
    "msubsupRegexp = re.compile(r'<msubsup><mi>(.*?)</mi><m.*?>(.*?)</m.*?><m.*?>(.*?)</m.*?></msubsup>', re.DOTALL)\n",
    "msupRegexp = re.compile(r'<msup><mi>(.*?)</mi><m.*?>(.*?)</m.*?><m.*?>(.*?)</m.*?></msup>', re.DOTALL)\n",
    "msubRegexp = re.compile(r'<msup><mi>(.*?)</mi><m.*?>(.*?)</m.*?><m.*?>(.*?)</m.*?></msub>', re.DOTALL)\n",
    "\n",
    "print('--- msubsup ---')\n",
    "print([msubsupRegexp.findall(formula[1]) for formula in doc.formulae])\n",
    "\n",
    "print('--- msup ---')\n",
    "print([msupRegexp.findall(formula[1]) for formula in doc.formulae])\n",
    "\n",
    "print('--- msub ---')\n",
    "# このプログラム，msubを抽出するときに数十秒で計算が終わらない．\n",
    "# jupyter notebookでプログレスバーを出しながら計算するか．\n",
    "# print([msubRegexp.findall(formula[1]) for formula in tqdm(doc.formulae)])\n",
    "# print(formulae[0][1])"
   ]
  },
  {
   "cell_type": "markdown",
   "metadata": {},
   "source": [
    "解析対象は，LaTeXMLによって生成したXML形式のファイルとする．\n",
    "アノテーションは著者がmanualで行った．\n",
    "\n",
    "関数と変数の分離については行わないものとする．\n",
    "そもそも人が見て判断しても，f(x+b)が関数なのか乗算なのかは文章を読まなければ判断しかねるため．\n",
    "（f(x)というように１文字のみを引数にとる場合はfが関数であるというルールにしてもいいと思うが）"
   ]
  },
  {
   "cell_type": "code",
   "execution_count": 37,
   "metadata": {},
   "outputs": [],
   "source": [
    "import xml.etree.ElementTree as ET\n",
    "with open(document_path, 'r') as documentOpend:\n",
    "    document = documentOpend.read()"
   ]
  },
  {
   "cell_type": "code",
   "execution_count": 86,
   "metadata": {},
   "outputs": [
    {
     "name": "stdout",
     "output_type": "stream",
     "text": [
      "<!DOCTYPE html>\n",
      "<html lang=\"en\" xmlns=\"http://www.w3.org/1999/xhtml\" xml:lang=\"en\">\n",
      "  <head>\n",
      "    <meta name=\"generator\" content=\"HTML Tidy for HTML5 for Linux version 5.1.25\" />\n",
      "    <meta charset=\"utf-8\" />\n",
      "    <meta content=\"2D_computer_graphics\" name=\"docid\" />\n",
      "    <meta content=\"articles/math-pages/wpmath0000001.dat\" name=\"datfile\" />\n",
      "    <meta content=\"1124\" name=\"offset\" />\n",
      "    <title>\n",
      "      2D computer graphics\n",
      "    </title>\n",
      "    <script src=\"https://cdn.mathjax.org/mathjax/latest/MathJax.js?config=TeX-AMS-MML_SVG.js\" type=\"text/javascript\">\n",
      "    </script>\n",
      "    <style type=\"text/css\">\n",
      "    /*<![CDATA[*/\n",
      "    code{white-space: pre;}\n",
      "    /*]]>*/\n",
      "    </style><!--[if lt IE 9]>\n",
      "    <script src=\"http://html5shim.googlecode.com/svn/trunk/html5.js\"></script>\n",
      "  <![endif]-->\n",
      "  </head>\n",
      "  <body>\n",
      "    <blockquote>\n",
      "      <blockquote>\n",
      "        <h1>\n",
      "          2D computer graphics\n",
      "        </h1>\n",
      "        <hr />\n",
      "        <p>\n",
      "          <strong>2D computer graphics</strong> is the <a class=\"uri\" href=\"computer\n"
     ]
    }
   ],
   "source": [
    "print(document[:1000])"
   ]
  },
  {
   "cell_type": "code",
   "execution_count": 208,
   "metadata": {},
   "outputs": [],
   "source": [
    "tree = ET.parse(document_path)\n",
    "root = tree.getroot()\n",
    "# root = ET.fromstring(document)\n",
    "xmlNameSpace = re.findall('({.*})', root.tag)[0]"
   ]
  },
  {
   "cell_type": "code",
   "execution_count": 213,
   "metadata": {},
   "outputs": [
    {
     "name": "stdout",
     "output_type": "stream",
     "text": [
      "{http://www.w3.org/1999/xhtml}math\n",
      "--> T\n",
      "--> δ\n",
      "{http://www.w3.org/1999/xhtml}math\n",
      "--> T\n",
      "--> δ\n",
      "--> f\n",
      "--> 𝐯\n",
      "--> f\n",
      "--> 𝐯\n",
      "--> δ\n",
      "{http://www.w3.org/1999/xhtml}math\n",
      "--> T\n",
      "--> 𝐯\n",
      "--> v\n",
      "--> x\n",
      "--> v\n",
      "--> y\n",
      "--> v\n",
      "--> z\n",
      "{http://www.w3.org/1999/xhtml}math\n",
      "--> T\n",
      "--> 𝐯\n",
      "--> 𝐩\n",
      "--> v\n",
      "--> x\n",
      "--> v\n",
      "--> y\n",
      "--> v\n",
      "--> z\n",
      "--> p\n",
      "--> x\n",
      "--> p\n",
      "--> y\n",
      "--> p\n",
      "--> z\n",
      "--> p\n",
      "--> x\n",
      "--> v\n",
      "--> x\n",
      "--> p\n",
      "--> y\n",
      "--> v\n",
      "--> y\n",
      "--> p\n",
      "--> z\n",
      "--> v\n",
      "--> z\n",
      "--> 𝐩\n",
      "--> 𝐯\n",
      "{http://www.w3.org/1999/xhtml}math\n",
      "--> T\n",
      "--> 𝐯\n",
      "--> T\n",
      "--> 𝐯\n",
      "{http://www.w3.org/1999/xhtml}math\n",
      "--> T\n",
      "--> 𝐮\n",
      "--> T\n",
      "--> 𝐯\n",
      "--> T\n",
      "--> 𝐮\n",
      "--> 𝐯\n",
      "{http://www.w3.org/1999/xhtml}math\n",
      "--> R\n",
      "--> cos\n",
      "--> θ\n",
      "--> sin\n",
      "--> θ\n",
      "--> sin\n",
      "--> θ\n",
      "--> cos\n",
      "--> θ\n",
      "{http://www.w3.org/1999/xhtml}math\n",
      "--> R\n",
      "--> T\n",
      "--> R\n",
      "--> R\n",
      "{http://www.w3.org/1999/xhtml}math\n",
      "--> S\n",
      "--> O\n",
      "--> n\n",
      "{http://www.w3.org/1999/xhtml}math\n",
      "--> R\n",
      "--> θ\n",
      "--> cos\n",
      "--> θ\n",
      "--> sin\n",
      "--> θ\n",
      "--> sin\n",
      "--> θ\n",
      "--> cos\n",
      "--> θ\n",
      "{http://www.w3.org/1999/xhtml}math\n",
      "--> x\n",
      "--> y\n",
      "--> cos\n",
      "--> θ\n",
      "--> sin\n",
      "--> θ\n",
      "--> sin\n",
      "--> θ\n",
      "--> cos\n",
      "--> θ\n",
      "--> x\n",
      "--> y\n",
      "{http://www.w3.org/1999/xhtml}math\n",
      "--> x\n",
      "--> x\n",
      "--> cos\n",
      "--> θ\n",
      "--> y\n",
      "--> sin\n",
      "--> θ\n",
      "{http://www.w3.org/1999/xhtml}math\n",
      "--> y\n",
      "--> x\n",
      "--> sin\n",
      "--> θ\n",
      "--> y\n",
      "--> cos\n",
      "--> θ\n",
      "{http://www.w3.org/1999/xhtml}math\n",
      "--> R\n",
      "--> θ\n",
      "--> cos\n",
      "--> θ\n",
      "--> sin\n",
      "--> θ\n",
      "--> sin\n",
      "--> θ\n",
      "--> cos\n",
      "--> θ\n",
      "{http://www.w3.org/1999/xhtml}math\n",
      "--> R\n",
      "{http://www.w3.org/1999/xhtml}math\n",
      "--> R\n",
      "{http://www.w3.org/1999/xhtml}math\n",
      "--> R\n",
      "{http://www.w3.org/1999/xhtml}math\n",
      "--> S\n",
      "--> v\n",
      "--> v\n",
      "--> x\n",
      "--> v\n",
      "--> y\n",
      "--> v\n",
      "--> z\n",
      "{http://www.w3.org/1999/xhtml}math\n",
      "--> S\n",
      "--> v\n",
      "--> p\n",
      "--> v\n",
      "--> x\n",
      "--> v\n",
      "--> y\n",
      "--> v\n",
      "--> z\n",
      "--> p\n",
      "--> x\n",
      "--> p\n",
      "--> y\n",
      "--> p\n",
      "--> z\n",
      "--> v\n",
      "--> x\n",
      "--> p\n",
      "--> x\n",
      "--> v\n",
      "--> y\n",
      "--> p\n",
      "--> y\n",
      "--> v\n",
      "--> z\n",
      "--> p\n",
      "--> z\n",
      "{http://www.w3.org/1999/xhtml}math\n",
      "--> S\n",
      "--> v\n",
      "--> v\n",
      "--> x\n",
      "--> v\n",
      "--> y\n",
      "--> v\n",
      "--> z\n",
      "{http://www.w3.org/1999/xhtml}math\n",
      "--> S\n",
      "--> v\n",
      "--> p\n",
      "--> v\n",
      "--> x\n",
      "--> v\n",
      "--> y\n",
      "--> v\n",
      "--> z\n",
      "--> p\n",
      "--> x\n",
      "--> p\n",
      "--> y\n",
      "--> p\n",
      "--> z\n",
      "--> v\n",
      "--> x\n",
      "--> p\n",
      "--> x\n",
      "--> v\n",
      "--> y\n",
      "--> p\n",
      "--> y\n",
      "--> v\n",
      "--> z\n",
      "--> p\n",
      "--> z\n",
      "{http://www.w3.org/1999/xhtml}math\n",
      "--> S\n",
      "--> v\n",
      "--> s\n",
      "{http://www.w3.org/1999/xhtml}math\n",
      "--> S\n",
      "--> v\n",
      "--> p\n",
      "--> s\n",
      "--> p\n",
      "--> x\n",
      "--> p\n",
      "--> y\n",
      "--> p\n",
      "--> z\n",
      "--> p\n",
      "--> x\n",
      "--> p\n",
      "--> y\n",
      "--> p\n",
      "--> z\n",
      "--> s\n",
      "{http://www.w3.org/1999/xhtml}math\n",
      "--> s\n",
      "--> p\n",
      "--> x\n",
      "--> s\n",
      "--> p\n",
      "--> y\n",
      "--> s\n",
      "--> p\n",
      "--> z\n"
     ]
    }
   ],
   "source": [
    "for xmlMathElement in root.iter(xmlNameSpace+'math'):\n",
    "    print(xmlMath.tag)\n",
    "    for mathElement in xmlMathElement.iter(xmlNameSpace+'mi'):\n",
    "        print('-->', mathElement.text.strip())"
   ]
  },
  {
   "cell_type": "code",
   "execution_count": 184,
   "metadata": {},
   "outputs": [
    {
     "name": "stdout",
     "output_type": "stream",
     "text": [
      "{http://www.w3.org/1999/xhtml}math\n",
      "{http://www.w3.org/1999/xhtml}math\n",
      "{http://www.w3.org/1999/xhtml}math\n",
      "{http://www.w3.org/1999/xhtml}math\n",
      "{http://www.w3.org/1999/xhtml}math\n",
      "{http://www.w3.org/1999/xhtml}math\n",
      "{http://www.w3.org/1999/xhtml}math\n",
      "{http://www.w3.org/1999/xhtml}math\n",
      "{http://www.w3.org/1999/xhtml}math\n",
      "{http://www.w3.org/1999/xhtml}math\n",
      "{http://www.w3.org/1999/xhtml}math\n",
      "{http://www.w3.org/1999/xhtml}math\n",
      "{http://www.w3.org/1999/xhtml}math\n",
      "{http://www.w3.org/1999/xhtml}math\n",
      "{http://www.w3.org/1999/xhtml}math\n",
      "{http://www.w3.org/1999/xhtml}math\n",
      "{http://www.w3.org/1999/xhtml}math\n",
      "{http://www.w3.org/1999/xhtml}math\n",
      "{http://www.w3.org/1999/xhtml}math\n",
      "{http://www.w3.org/1999/xhtml}math\n",
      "{http://www.w3.org/1999/xhtml}math\n",
      "{http://www.w3.org/1999/xhtml}math\n",
      "{http://www.w3.org/1999/xhtml}math\n",
      "{http://www.w3.org/1999/xhtml}math\n"
     ]
    }
   ],
   "source": [
    "for math in root.iter('{http://www.w3.org/1999/xhtml}math'):\n",
    "    print(math.tag)"
   ]
  },
  {
   "cell_type": "code",
   "execution_count": 164,
   "metadata": {},
   "outputs": [
    {
     "name": "stdout",
     "output_type": "stream",
     "text": [
      "0 {http://www.w3.org/1999/xhtml}a {'href': 'Euclidean_geometry', 'title': 'wikilink'} \n",
      "a\n",
      "1 {http://www.w3.org/1999/xhtml}strong {} \n",
      "a\n",
      "2 {http://www.w3.org/1999/xhtml}a {'href': 'Euclidean_group', 'title': 'wikilink'} \n",
      "a\n",
      "3 {http://www.w3.org/1999/xhtml}a {'href': 'vector_space', 'title': 'wikilink'} \n",
      "a\n",
      "4 {http://www.w3.org/1999/xhtml}a {'href': 'Origin_(mathematics)', 'title': 'wikilink'} \n",
      "a\n",
      "5 {http://www.w3.org/1999/xhtml}a {'href': 'coordinate_system', 'title': 'wikilink'} \n",
      "a\n",
      "6 {http://www.w3.org/1999/xhtml}strong {} \n",
      "a\n",
      "7 {http://www.w3.org/1999/xhtml}a {'href': 'operator_(mathematics)', 'title': 'wikilink'} \n",
      "a\n",
      "8 {http://www.w3.org/1999/xhtml}math {'display': 'inline', 'id': '2D_computer_graphics:0'} \n",
      "a\n",
      "9 {http://www.w3.org/1999/xhtml}math {'display': 'inline', 'id': '2D_computer_graphics:1'} \n",
      "a\n"
     ]
    }
   ],
   "source": [
    "for i, child in enumerate(root[1][0][0][8]):\n",
    "    print(i, child.tag, child.attrib, '\\n')"
   ]
  },
  {
   "cell_type": "code",
   "execution_count": 125,
   "metadata": {},
   "outputs": [
    {
     "name": "stdout",
     "output_type": "stream",
     "text": [
      "{http://www.w3.org/1999/xhtml}semantics {}\n"
     ]
    }
   ],
   "source": [
    "for child in root[1][0][0][8][8]:\n",
    "    print(child.tag, child.attrib)"
   ]
  },
  {
   "cell_type": "code",
   "execution_count": 131,
   "metadata": {},
   "outputs": [],
   "source": [
    "for child in root.findall(\"{http://www.w3.org/1999/xhtml}math\"):\n",
    "    print(child.tag)"
   ]
  },
  {
   "cell_type": "code",
   "execution_count": 33,
   "metadata": {},
   "outputs": [],
   "source": [
    "for value in root.iter('value'):\n",
    "    print(value.attrib)"
   ]
  },
  {
   "cell_type": "markdown",
   "metadata": {},
   "source": [
    "- identifierの持っている文字情報自体をDefenition retrieval に活用できないか．\n",
    "- これは，Wikipediaのような汎用的な文書ではなく，化学プロセスを対象とした論文といった，専門性の高い文書だからこそ取れるアプローチであるといえる．\n",
    "- 前提として，半径をRadiusの頭文字Rを用いて表したり，速度をVelocityの頭文字であるVを用いて表すように，科学文書では，，Identifierを表すのに，Definitionである英単語の一部を用いることが多い，\n",
    "- "
   ]
  },
  {
   "cell_type": "code",
   "execution_count": null,
   "metadata": {},
   "outputs": [],
   "source": [
    "import xnl.etree.ElementTree as etree"
   ]
  },
  {
   "cell_type": "code",
   "execution_count": null,
   "metadata": {},
   "outputs": [],
   "source": []
  },
  {
   "cell_type": "code",
   "execution_count": null,
   "metadata": {},
   "outputs": [],
   "source": []
  }
 ],
 "metadata": {
  "kernelspec": {
   "display_name": "Python 3",
   "language": "python",
   "name": "python3"
  },
  "language_info": {
   "codemirror_mode": {
    "name": "ipython",
    "version": 3
   },
   "file_extension": ".py",
   "mimetype": "text/x-python",
   "name": "python",
   "nbconvert_exporter": "python",
   "pygments_lexer": "ipython3",
   "version": "3.8.1-final"
  },
  "pycharm": {
   "stem_cell": {
    "cell_type": "raw",
    "source": [],
    "metadata": {
     "collapsed": false
    }
   }
  }
 },
 "nbformat": 4,
 "nbformat_minor": 4
}