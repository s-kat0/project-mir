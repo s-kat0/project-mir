{
 "cells": [
  {
   "cell_type": "code",
   "execution_count": 252,
   "metadata": {},
   "outputs": [],
   "source": [
    "import lxml.html\n",
    "import time\n",
    "import re\n",
    "from tqdm import tqdm\n",
    "from stanfordnlp.server import CoreNLPClient\n",
    "\n",
    "class WikiDocument:\n",
    "    def __init__(self, path=''):\n",
    "        self.path = path\n",
    "        self.title = ''\n",
    "        self.namespace = ''\n",
    "        self.document_id = 0\n",
    "        self.text =''\n",
    "        self.body = ''\n",
    "        # Holds all formulas found within the document.\n",
    "        # The key of the HashMap is the replacement string in the document and the value contains the TeX String\n",
    "        self.formulae = [] # [{'hash': foo1, 'src':foo2}, ...]\n",
    "        # Stores all unique identifiers found in this document\n",
    "        self.identifiers = []\n",
    "        self.sentences = []\n",
    "        self.tagged_sentence_list = []\n",
    "        self.description_candidate = []\n",
    "        \n",
    "    def processor(self):\n",
    "        title_regexp = re.compile(r'(?:<title>)(.*?)(?:</title>)', re.DOTALL)\n",
    "        namespace_regexp = re.compile(r'(?:<ns>)(.*?)(?:</ns>)', re.DOTALL)\n",
    "        id_regexp = re.compile(r'(?:<revision>.*?<id>)(\\d+)(?:</id>)', re.DOTALL)\n",
    "        text_regexp = re.compile(r'(?:<text.*?>)(.*?)(?:</text>)', re.DOTALL)\n",
    "        body_regexp = re.compile(r'(?:<body.*?>)(.*?)(?:</body>)', re.DOTALL)\n",
    "        annotation_xml_regexp = re.compile(r'(?:<annotation-xml.*?>)(.*?)(?:</annotation-xml>)', re.DOTALL)\n",
    "        annotation_regexp = re.compile(r'(?:<annotation.*?>)(.*?)(?:</annotation>)', re.DOTALL)\n",
    "        \n",
    "        with open(doc.path, 'r') as document_open:\n",
    "            document_read = document_open.read()\n",
    "            title = title_regexp.findall(document_read)\n",
    "            namespace = namespace_regexp.findall(document_read)\n",
    "            document_id = id_regexp.findall(document_read)\n",
    "            text = text_regexp.findall(document_read)\n",
    "            body = body_regexp.findall(document_read)\n",
    "        \n",
    "        if title: \n",
    "            self.title = title[0]\n",
    "        if namespace:\n",
    "            self.namespace = namespace[0]\n",
    "        if document_id:\n",
    "            self.document_id = document_id[0]\n",
    "        if text:\n",
    "            self.text = text[0]\n",
    "        if body:\n",
    "            body = body[0]\n",
    "            # remove annotation-xml tag and anntation tag\n",
    "            body = annotation_xml_regexp.sub('', body)\n",
    "            body = annotation_regexp.sub('', body)\n",
    "            self.body = body\n",
    "        print(\"process document\")    \n",
    "        \n",
    "    def extract_identifiers(self):\n",
    "        tree = lxml.html.parse(self.path)\n",
    "        html = tree.getroot()\n",
    "        print('Number of math components is {}'.format(len(html.cssselect('math'))))\n",
    "        identifiers = []\n",
    "\n",
    "        def is_identifier(math_component):\n",
    "            is_mi = (math_component.tag == 'mi')\n",
    "            is_math_component_len_1 = (len(math_component.text_content())==1)\n",
    "            is_italic = (math_component.get('mathvariant')=='italic')\n",
    "            return is_mi and (is_math_component_len_1 or is_italic)\n",
    "\n",
    "        for html_math in html.cssselect('math'):\n",
    "            # variable with subscript\n",
    "            for html_math_msub in html_math.cssselect('msub'):\n",
    "                html_math_msub_component = [x for x in html_math_msub.iterchildren()]\n",
    "                math_txt = '_'.join([x.text_content() for x in html_math_msub_component])\n",
    "                if is_identifier(html_math_msub_component[0]) and (not math_txt in identifiers):\n",
    "                    identifiers.append(math_txt)\n",
    "                html_math_msub.drop_tree()\n",
    "                # replace identifier by 'MATH_'+str(id)\n",
    "                reg_string = lxml.html.tostring(html_math_msub, encoding='unicode')\n",
    "                if is_identifier(html_math_msub_component[0]):\n",
    "                    doc.body = doc.body.replace(reg_string, 'MATH{:04d}'.format(identifiers.index(math_txt)))\n",
    "                else:\n",
    "                    doc.body = doc.body.replace(reg_string, math_txt)\n",
    "\n",
    "            # variable with superscript\n",
    "            for html_math_msup in html_math.cssselect('msup'):\n",
    "                html_math_msup_component = [x for x in html_math_msup.iterchildren()]\n",
    "                math_txt = '^'.join([x.text_content() for x in html_math_msup_component])\n",
    "                if is_identifier(html_math_msup_component[0]) and (not math_txt in identifiers):\n",
    "                    identifiers.append(math_txt)\n",
    "                html_math_msup.drop_tree()\n",
    "                reg_string = lxml.html.tostring(html_math_msup, encoding='unicode')\n",
    "                if is_identifier(html_math_msup_component[0]):\n",
    "                    doc.body = doc.body.replace(reg_string, 'MATH{:04d}'.format(identifiers.index(math_txt)))\n",
    "                else:\n",
    "                    doc.body = doc.body.replace(reg_string, math_txt)\n",
    "                \n",
    "            # variable with subscript and superscript\n",
    "            for html_math_msubsup in html_math.cssselect('msubsup'):\n",
    "                html_math_msubsup_component = [x for x in html_math_msubsup.iterchildren()]\n",
    "                math_txt = [x.text_content() for x in html_math_msubsup_component]\n",
    "                math_txt = math_txt[0] + '_' + math_txt[1] + '^' + math_txt[2]\n",
    "                if is_identifier(html_math_msubsup) and (not math_txt in identifiers):\n",
    "                    identifiers.append(math_txt)\n",
    "                html_math_msubsup.drop_tree()\n",
    "                reg_string = lxml.html.tostring(html_math_msubsup, encoding='unicode')\n",
    "                if is_identifier(html_math_msubsup):\n",
    "                    doc.body = doc.body.replace(reg_string, 'MATH{:04d}'.format(identifiers.index(math_txt)))\n",
    "                else:\n",
    "                    doc.body = doc.body.replace(reg_string, math_txt)\n",
    "\n",
    "            # variable without subscript and superscript\n",
    "            for html_math_mi in html_math.cssselect('mi'):\n",
    "                math_txt = html_math_mi.text_content()\n",
    "                if is_identifier(html_math_mi) and (not math_txt in identifiers):\n",
    "                    identifiers.append(math_txt)\n",
    "                html_math_mi.drop_tree()\n",
    "                reg_string = lxml.html.tostring(html_math_mi, encoding='unicode')\n",
    "                if is_identifier(html_math_mi):\n",
    "                    doc.body = doc.body.replace(reg_string, 'MATH{:04d}'.format(identifiers.index(math_txt)))\n",
    "                else:\n",
    "                    doc.body = doc.body.replace(reg_string, math_txt)\n",
    "        \n",
    "        self.identifiers = identifiers\n",
    "        self.text = lxml.html.fromstring(doc.body).text_content()\n",
    "\n",
    "    def extract_sentences(self):\n",
    "        # this extract sentences which contain identifier from text\n",
    "        sentences = [[]]*len(self.identifiers)\n",
    "        for i, identifier in enumerate(self.identifiers):\n",
    "            sentences[i] = re.findall(r'.*?'+identifier+r'.*?\\.', self.text)\n",
    "        self.sentences = sentences\n",
    "        \n",
    "    def POS_tagging(self):\n",
    "        tagged_sentence_list = [[]]*len(self.identifiers)\n",
    "        with CoreNLPClient(annotators=['tokenize','ssplit','pos'], timeout=600000, memory='16G') as client:\n",
    "            for i, sentence in enumerate(self.sentences):\n",
    "                if sentence:\n",
    "                    for text in sentence:\n",
    "                        # submit the request to the server\n",
    "                        ann = client.annotate(text)\n",
    "                        sentence = ann.sentence[0]\n",
    "                        word_pos = [(token.word, token.pos) for token in sentence.token]\n",
    "                    tagged_sentence_list[i].append(word_pos)\n",
    "        self.tagged_sentence_list = tagged_sentence_list\n",
    "    \n",
    "    def extract_description(self):\n",
    "        count_identifiers = len(self.identifiers)\n",
    "        math_id=range(count_identifiers)\n",
    "        description_candidate = [[]] * count_identifiers\n",
    "        reg_description = re.compile(r'(NN[PS]{0,2}|NP)')\n",
    "        for math_id_ in math_id:\n",
    "            tagged_sentence_list_i = self.tagged_sentence_list[math_id_]\n",
    "            identifier = self.identifiers[math_id_]\n",
    "            if not tagged_sentence_list_i:\n",
    "                continue\n",
    "\n",
    "            description_candidate_ = []\n",
    "            for tagged_sentence_list_i_ in tagged_sentence_list_i:\n",
    "                indexes_target = [n for n, v in enumerate(tagged_sentence_list_i_) if v == (identifier, 'NN')]\n",
    "                for index_target in indexes_target:\n",
    "                    # 1. <description> <identifier>\n",
    "                    description=[]\n",
    "                    for i in range(index_target-1, -1, -1):\n",
    "                        (description_, pos_) = word_pos[i]\n",
    "                        if (not 'MATH' in description_) and reg_description.fullmatch(pos_):\n",
    "                            description.append(description_)\n",
    "                        else:\n",
    "                            break\n",
    "                    if description:\n",
    "                        description_candidate_.append((' '.join(description), ' '.join(description) + ' ' + identifier))\n",
    "\n",
    "                    # 2. <identifier> is <description>\n",
    "                    # 3. <identifier> is the <description>\n",
    "                    description=[]\n",
    "                    if word_pos[index_target+1][0]=='is':\n",
    "                        mid_pattern = ' is '\n",
    "                        if word_pos[index_target+2][0]=='the':\n",
    "                            index_start = index_target+3\n",
    "                            mid_pattern+='the '\n",
    "                        else:\n",
    "                            index_start = idnex_target+2\n",
    "                        for i in range(index_start, len(word_pos)):\n",
    "                            (description_, pos_) = word_pos[i]\n",
    "                            if (not 'MATH' in description_) and reg_description.fullmatch(pos_):\n",
    "                                description.append(description_)\n",
    "                            else:\n",
    "                                break\n",
    "                        if description:\n",
    "                            description_candidate_.append((' '.join(description), identifier + mid_pattern + ' '.join(description)))\n",
    "\n",
    "                    # 4. let <identifier> be the <description>\n",
    "                    if (word_pos[index_target-1][0]=='let') and (word_pos[index_target+1][0]=='be') and (word_pos[index_target+2][0]=='the'):\n",
    "                        for i in range(index_target+3, len(word_pos)):\n",
    "                            (description_, pos_) = word_pos[i]\n",
    "                            if (not 'MATH' in description_) and reg_description.fullmatch(pos_):\n",
    "                                description.append(description_)\n",
    "                            else:\n",
    "                                break\n",
    "                        if description:\n",
    "                            description_candidate_.append((' '.join(description), 'let ' + identifier + ' be the ' + ' '.join(description)))\n",
    "\n",
    "                    # 5. <description> is|are denoted by <identifier>\n",
    "                    if (word_pos[index_target-1][0]=='by') and (word_pos[index_target-2][0]=='denoted') and (word_pos[index_target-3][0]==('is' or 'are')):\n",
    "                        for i in range(index_target-4, -1, -1):\n",
    "                            (description_, pos_) = word_pos[i]\n",
    "                            if (not 'MATH' in description_) and reg_description.fullmatch(pos_):\n",
    "                                description.append(description_)\n",
    "                            else:\n",
    "                                break\n",
    "                        if description:\n",
    "                            description_candidate_.append((' '.join(description), ' '.join(description) + ' is|are denoted by ' + identifier))\n",
    "                            description=[]\n",
    "                        \n",
    "                    # 6. <identifier> denotes */DT <description>\n",
    "                    if (word_pos[index_target+1][0]=='denotes') and (word_pos[index_target+2][1]=='DT'):\n",
    "                        for i in range(index_target+3, len(word_pos)):\n",
    "                            (description_, pos_) = word_pos[i]\n",
    "                            if (not 'MATH' in description_) and reg_description.fullmatch(pos_):\n",
    "                                description.append(description_)\n",
    "                            else:\n",
    "                                break\n",
    "                        if description:\n",
    "                            description_candidate_.append((' '.join(description), identifier + ' denotes */DT ' + ' '.join(description)))\n",
    "\n",
    "            description_candidate[math_id_] = description_candidate_\n",
    "        self.description_candidate = description_candidate"
   ]
  },
  {
   "cell_type": "code",
   "execution_count": 253,
   "metadata": {},
   "outputs": [
    {
     "name": "stdout",
     "output_type": "stream",
     "text": "elapsed time : 0.0000591 seconds ---\nprocess document --- 0.0267198 seconds ---\nelapsed time : 0.0278871 seconds ---\nNumber of math components is 235\nelapsed time : 0.5598660 seconds ---\nelapsed time : 27.8405890 seconds ---\nStarting server with command: java -Xmx16G -cp /Users/kato/GoogleDrive/project-mir/data/resources/stanford-corenlp-full-2018-10-05/* edu.stanford.nlp.pipeline.StanfordCoreNLPServer -port 9000 -timeout 600000 -threads 5 -maxCharLength 100000 -quiet True -serverProperties corenlp_server-cc021bc8f4394a15.props -preload tokenize,ssplit,pos\nelapsed time : 92.5149491 seconds ---\nelapsed time : 92.5202160 seconds ---\n"
    }
   ],
   "source": [
    "document_path = 'data/resources/dataset-arXMLiv-08-2019/process-control_physical-model/1806.09460.html'\n",
    "\n",
    "start_time = time.time()\n",
    "doc = WikiDocument(document_path)\n",
    "print(\"elapsed time : {0:.7f} seconds ---\".format(time.time()-start_time))\n",
    "\n",
    "doc.processor()\n",
    "print(\"elapsed time : {0:.7f} seconds ---\".format(time.time()-start_time))\n",
    "\n",
    "doc.extract_identifiers()\n",
    "print(\"elapsed time : {0:.7f} seconds ---\".format(time.time()-start_time))\n",
    "\n",
    "doc.extract_sentences()\n",
    "print(\"elapsed time : {0:.7f} seconds ---\".format(time.time()-start_time))\n",
    "\n",
    "doc.POS_tagging()\n",
    "print(\"elapsed time : {0:.7f} seconds ---\".format(time.time()-start_time))\n",
    "\n",
    "doc.extract_description()\n",
    "print(\"elapsed time : {0:.7f} seconds ---\".format(time.time()-start_time)) "
   ]
  },
  {
   "cell_type": "code",
   "execution_count": 254,
   "metadata": {},
   "outputs": [],
   "source": [
    "import pickle"
   ]
  },
  {
   "cell_type": "code",
   "execution_count": 260,
   "metadata": {},
   "outputs": [],
   "source": [
    "with open('doc_1806.09460.binaryfile', 'wb') as f:\n",
    "    pickle.dump(doc, f)"
   ]
  },
  {
   "cell_type": "code",
   "execution_count": null,
   "metadata": {},
   "outputs": [],
   "source": [
    "# load pickle file\n",
    "# with open('doc.binaryfile', 'rb') as f:\n",
    "#     doc = pickle.load(doc)"
   ]
  },
  {
   "cell_type": "code",
   "execution_count": null,
   "metadata": {},
   "outputs": [],
   "source": []
  },
  {
   "cell_type": "code",
   "execution_count": 198,
   "metadata": {},
   "outputs": [
    {
     "name": "stdout",
     "output_type": "stream",
     "text": "Starting server with command: java -Xmx16G -cp /Users/kato/GoogleDrive/project-mir/data/resources/stanford-corenlp-full-2018-10-05/* edu.stanford.nlp.pipeline.StanfordCoreNLPServer -port 9000 -timeout 60000 -threads 5 -maxCharLength 100000 -quiet True -serverProperties corenlp_server-9c2dc7003f5e4c53.props -preload tokenize,ssplit,pos\n---\nfirst token of first sentence\nword: \"In\"\npos: \"IN\"\nvalue: \"In\"\nbefore: \"\"\nafter: \" \"\noriginalText: \"In\"\nbeginChar: 0\nendChar: 2\ntokenBeginIndex: 0\ntokenEndIndex: 1\nhasXmlContext: false\nisNewline: false\n\n---\npart of speech tag of token\nIN\n"
    }
   ],
   "source": [
    "text = doc.sentences[0][0]\n",
    "if text:\n",
    "with CoreNLPClient(annotators=['tokenize','ssplit','pos'], timeout=60000, memory='16G') as client:\n",
    "    # submit the request to the server\n",
    "    ann = client.annotate(text)\n",
    "\n",
    "    sentence = ann.sentence[0]\n",
    "    word_pos = [(token.word, token.pos) for token in sentence.token]\n"
   ]
  },
  {
   "cell_type": "code",
   "execution_count": 204,
   "metadata": {},
   "outputs": [
    {
     "data": {
      "text/plain": "'classic'"
     },
     "execution_count": 204,
     "metadata": {},
     "output_type": "execute_result"
    }
   ],
   "source": [
    "\n",
    "sentence.token[2].word"
   ]
  },
  {
   "cell_type": "code",
   "execution_count": 115,
   "metadata": {},
   "outputs": [
    {
     "name": "stdout",
     "output_type": "stream",
     "text": "[('In', 'IN'), ('the', 'DT'), ('classic', 'JJ'), ('optimal', 'JJ'), ('control', 'NN'), ('problem', 'NN'), (',', ','), ('we', 'PRP'), ('begin', 'VBP'), ('with', 'IN'), ('a', 'DT'), ('dynamical', 'JJ'), ('system', 'NN'), ('governed', 'VBN'), ('by', 'IN'), ('the', 'DT'), ('difference', 'NN'), ('equation', 'NN'), ('MATH0000', 'NN'), ('=', 'JJ'), ('MATH0001', 'NN'), ('-LRB-', '-LRB-'), ('MATH0002', 'NN'), (',', ','), ('MATH0003', 'NN'), (',', ','), ('MATH0004', 'NN'), ('-RRB-', '-RRB-'), ('where', 'WRB'), ('MATH0002', 'NN'), ('is', 'VBZ'), ('the', 'DT'), ('state', 'NN'), ('of', 'IN'), ('the', 'DT'), ('system', 'NN'), (',', ','), ('MATH0003', 'NN'), ('is', 'VBZ'), ('the', 'DT'), ('control', 'NN'), ('action', 'NN'), (',', ','), ('and', 'CC'), ('MATH0004', 'NN'), ('is', 'VBZ'), ('a', 'DT'), ('random', 'JJ'), ('disturbance', 'NN'), ('.', '.')]\n"
    }
   ],
   "source": [
    "# text.split()\n",
    "word_pos = [(token.word, token.pos) for token in sentence.token]\n",
    "#token.pos\n",
    "print(word_pos)\n",
    "indexes_target = [n for n, v in enumerate(word_pos) if v == ('MATH0002', 'NN')]\n"
   ]
  },
  {
   "cell_type": "code",
   "execution_count": 124,
   "metadata": {},
   "outputs": [],
   "source": [
    "index_target = indexes_target[0]\n",
    "i=0\n",
    "description_ = word_pos[index_target-i][0]\n",
    "pos_ = word_pos[index_target-i][1]\n"
   ]
  },
  {
   "cell_type": "code",
   "execution_count": 196,
   "metadata": {},
   "outputs": [],
   "source": [
    "word_pos = [(token.word, token.pos) for token in sentence.token]\n",
    "indexes_target = [n for n, v in enumerate(word_pos) if v == ('MATH0002', 'NN')]\n",
    "# print(index_target)\n",
    "identifier='MATH0002'\n",
    "\n",
    "def extract_description(tagged_sentence_list, identifier):\n",
    "    indexes_target = [n for n, v in enumerate(tagged_sentence_list) if v == (identifier, 'NN')]\n",
    "    description_candidate = []\n",
    "    reg_description = re.compile(r'(NN[PS]{0,2}|NP)')\n",
    "    for index_target in indexes_target:\n",
    "        # patternに合うか判定\n",
    "        # 1. <description> <identifier>\n",
    "        description=[]\n",
    "        for i in range(index_target-1, -1, -1):\n",
    "            (description_, pos_) = word_pos[i]\n",
    "            if (not 'MATH' in description_) and reg_description.fullmatch(pos_):\n",
    "                description.append(description_)\n",
    "            else:\n",
    "                break\n",
    "        if description:\n",
    "            description_candidate.append((' '.join(description), ' '.join(description) + ' ' + identifier))\n",
    "            description=[]\n",
    "\n",
    "        # 2. <identifier> is <description>\n",
    "        # 3. <identifier> is the <description>\n",
    "        if word_pos[index_target+1][0]=='is':\n",
    "            mid_pattern = ' is '\n",
    "            if word_pos[index_target+2][0]=='the':\n",
    "                index_start = index_target+3\n",
    "                mid_pattern+='the '\n",
    "            else:\n",
    "                index_start = idnex_target+2\n",
    "            for i in range(index_start, len(word_pos)):\n",
    "                (description_, pos_) = word_pos[i]\n",
    "                if (not 'MATH' in description_) and reg_description.fullmatch(pos_):\n",
    "                    description.append(description_)\n",
    "                else:\n",
    "                    break\n",
    "            if description:\n",
    "                description_candidate.append((' '.join(description), identifier + mid_pattern + ' '.join(description)))\n",
    "\n",
    "        # 4. let <identifier> be the <description>\n",
    "        if (word_pos[index_target-1][0]=='let') and (word_pos[index_target+1][0]=='be') and (word_pos[index_target+2][0]=='the'):\n",
    "            for i in range(index_target+3, len(word_pos)):\n",
    "                (description_, pos_) = word_pos[i]\n",
    "                if (not 'MATH' in description_) and reg_description.fullmatch(pos_):\n",
    "                    description.append(description_)\n",
    "                else:\n",
    "                    break\n",
    "            if description:\n",
    "                description_candidate.append((' '.join(description), 'let ' + identifier + ' be the ' + ' '.join(description)))\n",
    "\n",
    "        # 5. <description> is|are denoted by <identifier>\n",
    "        if (word_pos[index_target-1][0]=='by') and (word_pos[index_target-2][0]=='denoted') and (word_pos[index_target-3][0]==('is' or 'are')):\n",
    "            for i in range(index_target-4, -1, -1):\n",
    "                (description_, pos_) = word_pos[i]\n",
    "                if (not 'MATH' in description_) and reg_description.fullmatch(pos_):\n",
    "                    description.append(description_)\n",
    "                else:\n",
    "                    break\n",
    "            if description:\n",
    "                description_candidate.append((' '.join(description), ' '.join(description) + ' is|are denoted by ' + identifier))\n",
    "                description=[]\n",
    "            \n",
    "        # 6. <identifier> denotes */DT <description>\n",
    "        if (word_pos[index_target+1][0]=='denotes') and (word_pos[index_target+2][1]=='DT'):\n",
    "            for i in range(index_target+3, len(word_pos)):\n",
    "                (description_, pos_) = word_pos[i]\n",
    "                if (not 'MATH' in description_) and reg_description.fullmatch(pos_):\n",
    "                    description.append(description_)\n",
    "                else:\n",
    "                    break\n",
    "            if description:\n",
    "                description_candidate.append((' '.join(description), identifier + ' denotes */DT ' + ' '.join(description)))\n",
    "    return description_candidate"
   ]
  },
  {
   "cell_type": "code",
   "execution_count": 197,
   "metadata": {},
   "outputs": [
    {
     "data": {
      "text/plain": "[('state', 'MATH0002 is the state')]"
     },
     "execution_count": 197,
     "metadata": {},
     "output_type": "execute_result"
    }
   ],
   "source": [
    "description_candidate"
   ]
  },
  {
   "cell_type": "code",
   "execution_count": 193,
   "metadata": {},
   "outputs": [
    {
     "data": {
      "text/plain": "[('In', 'IN'),\n ('the', 'DT'),\n ('classic', 'JJ'),\n ('optimal', 'JJ'),\n ('control', 'NN'),\n ('problem', 'NN'),\n (',', ','),\n ('we', 'PRP'),\n ('begin', 'VBP'),\n ('with', 'IN'),\n ('a', 'DT'),\n ('dynamical', 'JJ'),\n ('system', 'NN'),\n ('governed', 'VBN'),\n ('by', 'IN'),\n ('the', 'DT'),\n ('difference', 'NN'),\n ('equation', 'NN'),\n ('MATH0000', 'NN'),\n ('=', 'JJ'),\n ('MATH0001', 'NN'),\n ('-LRB-', '-LRB-'),\n ('MATH0002', 'NN'),\n (',', ','),\n ('MATH0003', 'NN'),\n (',', ','),\n ('MATH0004', 'NN'),\n ('-RRB-', '-RRB-'),\n ('where', 'WRB'),\n ('MATH0002', 'NN'),\n ('is', 'VBZ'),\n ('the', 'DT'),\n ('state', 'NN'),\n ('of', 'IN'),\n ('the', 'DT'),\n ('system', 'NN'),\n (',', ','),\n ('MATH0003', 'NN'),\n ('is', 'VBZ'),\n ('the', 'DT'),\n ('control', 'NN'),\n ('action', 'NN'),\n (',', ','),\n ('and', 'CC'),\n ('MATH0004', 'NN'),\n ('is', 'VBZ'),\n ('a', 'DT'),\n ('random', 'JJ'),\n ('disturbance', 'NN'),\n ('.', '.')]"
     },
     "execution_count": 193,
     "metadata": {},
     "output_type": "execute_result"
    }
   ],
   "source": [
    "word_pos"
   ]
  },
  {
   "cell_type": "code",
   "execution_count": 3,
   "metadata": {
    "pycharm": {
     "is_executing": false
    }
   },
   "outputs": [],
   "source": [
    "with open('output.txt', 'w') as f:\n",
    "    f.write(doc.text)"
   ]
  },
  {
   "cell_type": "code",
   "execution_count": null,
   "metadata": {
    "collapsed": false,
    "pycharm": {
     "name": "#%%\n"
    }
   },
   "outputs": [],
   "source": [
    "print('len body')\n",
    "print(len(doc.body))\n",
    "doc.extract_identifiers()\n",
    "with open('output_1.txt', 'w') as f:\n",
    "    f.write('\\n'.join(doc.identifiers))\n",
    "\n",
    "print(doc.identifiers)\n",
    "print('len body after processing')\n",
    "print(len(doc.body))"
   ]
  },
  {
   "cell_type": "code",
   "execution_count": 9,
   "metadata": {
    "pycharm": {
     "is_executing": false
    }
   },
   "outputs": [],
   "source": [
    "tree = lxml.html.fromstring(doc.body)\n",
    "# html = tree.getroot()\n",
    "\n",
    "# doc.body.split()\n",
    "\n",
    "# x = lxml.html.clean.clean_html(tree)\n",
    "\n",
    "\n",
    "# x.text_content().split()\n"
   ]
  },
  {
   "cell_type": "code",
   "execution_count": 11,
   "metadata": {
    "collapsed": false,
    "pycharm": {
     "is_executing": false,
     "name": "#%%\n"
    }
   },
   "outputs": [
    {
     "data": {
      "text/plain": "['A',\n 'Tour',\n 'of',\n 'Reinforcement',\n 'Learning',\n 'The',\n 'View',\n 'from',\n 'Continuous',\n 'Control',\n 'Benjamin',\n 'Recht',\n 'Department',\n 'of',\n 'Electrical',\n 'Engineering',\n 'and',\n 'Computer',\n 'Sciences',\n 'University',\n 'of',\n 'California,',\n 'Berkeley',\n 'June',\n '25,',\n '2018',\n 'Abstract',\n 'This',\n 'manuscript',\n 'surveys',\n 'reinforcement',\n 'learning',\n 'from',\n 'the',\n 'perspective',\n 'of',\n 'optimization',\n 'and',\n 'control',\n 'with',\n 'a',\n 'focus',\n 'on',\n 'continuous',\n 'control',\n 'applications.',\n 'It',\n 'surveys',\n 'the',\n 'general',\n 'formulation,',\n 'terminology,',\n 'and',\n 'typical',\n 'experimental',\n 'implementations',\n 'of',\n 'reinforcement',\n 'learning',\n 'and',\n 'reviews',\n 'competing',\n 'solution',\n 'paradigms.',\n 'In',\n 'order',\n 'to',\n 'compare',\n 'the',\n 'relative',\n 'merits',\n 'of',\n 'various',\n 'techniques,',\n 'this',\n 'survey',\n 'presents',\n 'a',\n 'case',\n 'study',\n 'of',\n 'the',\n 'Linear',\n 'Quadratic',\n 'Regulator',\n '(LQR)',\n 'with',\n 'unknown',\n 'dynamics,',\n 'perhaps',\n 'the',\n 'simplest',\n 'and',\n 'best',\n 'studied',\n 'problem',\n 'in',\n 'optimal',\n 'control.',\n 'The',\n 'manuscript',\n 'describes',\n 'how',\n 'merging',\n 'techniques',\n 'from',\n 'learning',\n 'theory',\n 'and',\n 'control',\n 'can',\n 'provide',\n 'non-asymptotic',\n 'characterizations',\n 'of',\n 'LQR',\n 'performance',\n 'and',\n 'shows',\n 'that',\n 'these',\n 'characterizations',\n 'tend',\n 'to',\n 'match',\n 'experimental',\n 'behavior.',\n 'In',\n 'turn,',\n 'when',\n 'revisiting',\n 'more',\n 'complex',\n 'applications,',\n 'many',\n 'of',\n 'the',\n 'observed',\n 'phenomena',\n 'in',\n 'LQR',\n 'persist.',\n 'In',\n 'particular,',\n 'theory',\n 'and',\n 'experiment',\n 'demonstrate',\n 'the',\n 'role',\n 'and',\n 'importance',\n 'of',\n 'models',\n 'and',\n 'the',\n 'cost',\n 'of',\n 'generality',\n 'in',\n 'reinforcement',\n 'learning',\n 'algorithms.',\n 'This',\n 'survey',\n 'concludes',\n 'with',\n 'a',\n 'discussion',\n 'of',\n 'some',\n 'of',\n 'the',\n 'challenges',\n 'in',\n 'designing',\n 'learning',\n 'systems',\n 'that',\n 'safely',\n 'and',\n 'reliably',\n 'interact',\n 'with',\n 'complex',\n 'and',\n 'uncertain',\n 'environments',\n 'and',\n 'how',\n 'tools',\n 'from',\n 'reinforcement',\n 'learning',\n 'and',\n 'controls',\n 'might',\n 'be',\n 'combined',\n 'to',\n 'approach',\n 'these',\n 'challenges.',\n '1',\n 'Introduction',\n 'Reinforcement',\n 'learning',\n '(RL)',\n 'is',\n 'the',\n 'subfield',\n 'of',\n 'machine',\n 'learning',\n 'that',\n 'studies',\n 'how',\n 'to',\n 'use',\n 'past',\n 'data',\n 'to',\n 'enhance',\n 'the',\n 'future',\n 'manipulation',\n 'of',\n 'a',\n 'dynamical',\n 'system.',\n 'A',\n 'controls',\n 'engineer',\n 'might',\n 'be',\n 'puzzled',\n 'by',\n 'such',\n 'a',\n 'definition',\n 'and',\n 'interject',\n 'that',\n 'this',\n 'is',\n 'precisely',\n 'the',\n 'scope',\n 'of',\n 'control',\n 'theory.',\n 'That',\n 'the',\n 'RL',\n 'and',\n 'controls',\n 'communities',\n 'remain',\n 'practically',\n 'disjoint',\n 'has',\n 'lead',\n 'to',\n 'the',\n 'co-development',\n 'of',\n 'vastly',\n 'different',\n 'approaches',\n 'to',\n 'the',\n 'same',\n 'problems.',\n 'However,',\n 'it',\n 'should',\n 'be',\n 'impossible',\n 'for',\n 'a',\n 'controls',\n 'engineer',\n 'not',\n 'to',\n 'be',\n 'impressed',\n 'by',\n 'the',\n 'recent',\n 'successes',\n 'of',\n 'the',\n 'RL',\n 'community',\n 'such',\n 'as',\n 'solving',\n 'Go',\n '[68].',\n 'Indeed,',\n 'given',\n 'this',\n 'dramatic',\n 'recent',\n 'progress',\n 'in',\n 'reinforcement',\n 'learning,',\n 'a',\n 'tremendous',\n 'opportunity',\n 'lies',\n 'in',\n 'deploying',\n 'its',\n 'data-driven',\n 'systems',\n 'in',\n 'more',\n 'demanding',\n 'interactive',\n 'tasks',\n 'including',\n 'self-driving',\n 'vehicles,',\n 'distributed',\n 'sensor',\n 'networks,',\n 'and',\n 'agile',\n 'robotic',\n 'systems.',\n 'In',\n 'order',\n 'for',\n 'RL',\n 'to',\n 'expand',\n 'into',\n 'such',\n 'technologies,',\n 'however,',\n 'it',\n 'is',\n 'critical',\n 'for',\n 'the',\n 'methods',\n 'to',\n 'be',\n 'safe',\n 'and',\n 'reliable.',\n 'Failure',\n 'of',\n 'such',\n 'RL',\n 'systems',\n 'has',\n 'severe',\n 'societal',\n 'and',\n 'economic',\n 'consequences',\n 'including',\n 'the',\n 'loss',\n 'of',\n 'human',\n 'life.',\n 'How',\n 'can',\n 'we',\n 'guarantee',\n 'that',\n 'our',\n 'new',\n 'data-driven',\n 'automated',\n 'systems',\n 'are',\n 'robust?',\n 'These',\n 'sort',\n 'of',\n 'reliability',\n 'concerns',\n 'are',\n 'at',\n 'the',\n 'core',\n 'of',\n 'controls',\n 'engineering,',\n 'and',\n 'reinforcement',\n 'learning',\n 'practitioners',\n 'might',\n 'be',\n 'able',\n 'to',\n 'make',\n 'their',\n 'methods',\n 'robust',\n 'by',\n 'applying',\n 'appropriate',\n 'controls',\n 'tools',\n 'for',\n 'engineering',\n 'systems',\n 'to',\n 'match',\n 'prescribed',\n 'safety',\n 'guarantees.',\n 'This',\n 'survey',\n 'aims',\n 'to',\n 'provide',\n 'a',\n 'language',\n 'for',\n 'the',\n 'control',\n 'and',\n 'reinforcement',\n 'learning',\n 'communities',\n 'to',\n 'begin',\n 'communicating,',\n 'highlighting',\n 'what',\n 'each',\n 'can',\n 'learn',\n 'from',\n 'the',\n 'other.',\n 'Controls',\n 'is',\n 'the',\n 'theory',\n 'of',\n 'designing',\n 'complex',\n 'actions',\n 'from',\n 'well-specified',\n 'models,',\n 'while',\n 'reinforcement',\n 'learning',\n 'often',\n 'makes',\n 'intricate,',\n 'model-free',\n 'predictions',\n 'from',\n 'data',\n 'alone.',\n 'Yet,',\n 'both',\n 'RL',\n 'and',\n 'control',\n 'aim',\n 'to',\n 'design',\n 'systems',\n 'that',\n 'use',\n 'richly',\n 'structured',\n 'perception,',\n 'perform',\n 'planning',\n 'and',\n 'control',\n 'that',\n 'adequately',\n 'adapts',\n 'to',\n 'environmental',\n 'changes,',\n 'and',\n 'exploit',\n 'safeguards',\n 'when',\n 'surprised',\n 'by',\n 'a',\n 'new',\n 'scenario.',\n 'Understanding',\n 'how',\n 'to',\n 'properly',\n 'analyze,',\n 'predict,',\n 'and',\n 'certify',\n 'such',\n 'systems',\n 'requires',\n 'insights',\n 'from',\n 'current',\n 'machine',\n 'learning',\n 'practice',\n 'and',\n 'from',\n 'the',\n 'applied',\n 'mathematics',\n 'of',\n 'optimization,',\n 'statistics,',\n 'and',\n 'control',\n 'theory.',\n 'With',\n 'a',\n 'focus',\n 'on',\n 'problems',\n 'in',\n 'continuous',\n 'control,',\n 'I',\n 'will',\n 'try',\n 'to',\n 'disentangle',\n 'the',\n 'similarities',\n 'and',\n 'differences',\n 'of',\n 'methods',\n 'of',\n 'the',\n 'dueling',\n 'perspectives',\n 'and',\n 'present',\n 'a',\n 'set',\n 'of',\n 'challenging',\n 'problems',\n 'whose',\n 'solution',\n 'requires',\n 'significant',\n 'input',\n 'from',\n 'both',\n 'sets',\n 'of',\n 'practitioners.',\n 'I',\n 'will',\n 'first',\n 'focus',\n 'on',\n 'casting',\n 'RL',\n 'problems',\n 'in',\n 'an',\n 'optimization',\n 'framework,',\n 'establishing',\n 'the',\n 'sorts',\n 'of',\n 'methodological',\n 'tools',\n 'brought',\n 'to',\n 'bear',\n 'in',\n 'contemporary',\n 'RL.',\n 'I',\n 'will',\n 'then',\n 'lay',\n 'out',\n 'the',\n 'main',\n 'solution',\n 'techniques',\n 'of',\n 'RL',\n 'including',\n 'the',\n 'dichotomy',\n 'between',\n 'the',\n 'model-free',\n 'and',\n 'model-based',\n 'methodologies.',\n 'I',\n 'will',\n 'then',\n 'try',\n 'to',\n 'put',\n 'RL',\n 'and',\n 'controls',\n 'techniques',\n 'on',\n 'the',\n 'same',\n 'footing',\n 'through',\n 'a',\n 'case',\n 'study',\n 'of',\n 'the',\n 'linear',\n 'quadratic',\n 'regulator',\n '(LQR)',\n 'with',\n 'unknown',\n 'dynamics.',\n 'This',\n 'baseline',\n 'will',\n 'illuminate',\n 'the',\n 'various',\n 'tradeoffs',\n 'associated',\n 'with',\n 'techniques',\n 'from',\n 'RL',\n 'and',\n 'control.',\n 'In',\n 'particular,',\n 'we',\n 'will',\n 'see',\n 'that',\n 'the',\n 'so-called',\n '“model-free”',\n 'methods',\n 'popular',\n 'in',\n 'deep',\n 'reinforcement',\n 'learning',\n 'are',\n 'considerably',\n 'less',\n 'effective',\n 'in',\n 'both',\n 'theory',\n 'and',\n 'practice',\n 'than',\n 'simple',\n 'model-based',\n 'schemes',\n 'when',\n 'applied',\n 'to',\n 'LQR.',\n 'Perhaps',\n 'surprisingly,',\n 'I',\n 'will',\n 'also',\n 'show',\n 'cases',\n 'where',\n 'these',\n 'observations',\n 'continue',\n 'to',\n 'hold',\n 'on',\n 'more',\n 'challenging',\n 'nonlinear',\n 'applications.',\n 'I',\n 'will',\n 'then',\n 'argue',\n 'that',\n 'model-free',\n 'and',\n 'model-based',\n 'perspectives',\n 'can',\n 'be',\n 'unified,',\n 'combining',\n 'their',\n 'relative',\n 'merits.',\n 'This',\n 'will',\n 'lead',\n 'to',\n 'a',\n 'concluding',\n 'discussion',\n 'of',\n 'some',\n 'of',\n 'the',\n 'challenges',\n 'at',\n 'the',\n 'interface',\n 'of',\n 'control',\n 'and',\n 'learning',\n 'that',\n 'must',\n 'be',\n 'solved',\n 'before',\n 'we',\n 'can',\n 'build',\n 'robust,',\n 'safe',\n 'learning',\n 'systems',\n 'that',\n 'interact',\n 'with',\n 'an',\n 'uncertain',\n 'physical',\n 'environment',\n 'and',\n 'that',\n 'will',\n 'surely',\n 'require',\n 'tools',\n 'from',\n 'both',\n 'the',\n 'machine',\n 'learning',\n 'and',\n 'controls',\n 'community.',\n '2',\n 'What',\n 'is',\n 'reinforcement',\n 'learning?',\n 'Reinforcement',\n 'learning',\n 'is',\n 'the',\n 'study',\n 'of',\n 'how',\n 'to',\n 'use',\n 'past',\n 'data',\n 'to',\n 'enhance',\n 'the',\n 'future',\n 'manipulation',\n 'of',\n 'a',\n 'dynamical',\n 'system.',\n 'How',\n 'does',\n 'this',\n 'differ',\n 'from',\n 'ordinary',\n 'machine',\n 'learning?',\n 'The',\n 'main',\n 'view',\n 'of',\n 'this',\n 'survey',\n 'is',\n 'of',\n 'reinforcement',\n 'learning',\n 'as',\n 'optimal',\n 'control',\n 'when',\n 'the',\n 'dynamics',\n 'are',\n 'unknown.',\n 'Our',\n 'goal',\n 'will',\n 'be',\n 'to',\n 'find',\n 'a',\n 'set',\n 'of',\n 'inputs',\n 'that',\n 'drives',\n 'a',\n 'dynamical',\n 'system',\n 'to',\n 'maximize',\n 'some',\n 'objective',\n 'beginning',\n 'with',\n 'minimal',\n 'knowledge',\n 'of',\n 'how',\n 'the',\n 'system',\n 'responds',\n 'to',\n 'inputs.',\n 'In',\n 'the',\n 'classic',\n 'optimal',\n 'control',\n 'problem,',\n 'we',\n 'begin',\n 'with',\n 'a',\n 'dynamical',\n 'system',\n 'governed',\n 'by',\n 'the',\n 'difference',\n 'equation',\n 'MATH_0=MATH_1\\u2062(MATH_2,MATH_3,MATH_4)',\n 'where',\n 'MATH_2',\n 'is',\n 'the',\n 'state',\n 'of',\n 'the',\n 'system,',\n 'MATH_3',\n 'is',\n 'the',\n 'control',\n 'action,',\n 'and',\n 'MATH_4',\n 'is',\n 'a',\n 'random',\n 'disturbance.',\n 'MATH_1',\n 'is',\n 'the',\n 'rule',\n 'that',\n 'maps',\n 'the',\n 'current',\n 'state,',\n 'control',\n 'action,',\n 'and',\n 'disturbance',\n 'at',\n 'time',\n 'MATH_5',\n 'to',\n 'a',\n 'new',\n 'state.',\n 'Assume',\n 'that',\n 'at',\n 'every',\n 'time,',\n 'we',\n 'receive',\n 'some',\n 'reward',\n 'MATH_6\\u2062(MATH_2,MATH_3)',\n 'for',\n 'our',\n 'current',\n 'MATH_2',\n 'and',\n 'MATH_3.',\n 'The',\n 'goal',\n 'is',\n 'to',\n 'maximize',\n 'this',\n 'reward.',\n 'In',\n 'terms',\n 'of',\n 'mathematical',\n 'optimization,',\n 'we',\n 'aim',\n 'to',\n 'solve',\n 'the',\n 'problem',\n 'maximizeMATH_7\\u2062[∑MATH_5=0MATH_12MATH_8\\u2062[MATH_2,MATH_3]+MATH_9\\u2062(MATH_10)]subject',\n 'toMATH_0=MATH_1\\u2062(MATH_2,MATH_3,MATH_4)(MATH_11',\n 'given).',\n '(2.1)',\n 'That',\n 'is,',\n 'we',\n 'aim',\n 'to',\n 'maximize',\n 'the',\n 'expected',\n 'reward',\n 'over',\n 'MATH_12',\n 'time',\n 'steps',\n 'with',\n 'respect',\n 'to',\n 'the',\n 'control',\n 'sequence',\n 'MATH_3,',\n 'subject',\n 'to',\n 'the',\n 'dynamics',\n 'specified',\n 'by',\n 'the',\n 'state',\n 'transition',\n 'rule',\n 'MATH_1.',\n 'The',\n 'expected',\n 'value',\n 'is',\n 'over',\n 'the',\n 'disturbance,',\n 'and',\n 'assumes',\n 'that',\n 'MATH_3',\n 'is',\n 'to',\n 'be',\n 'chosen',\n 'having',\n 'only',\n 'seen',\n 'the',\n 'states',\n 'MATH_11',\n 'through',\n 'MATH_2',\n ...]"
     },
     "execution_count": 11,
     "metadata": {},
     "output_type": "execute_result"
    }
   ],
   "source": [
    "lxml.html.fromstring(doc.body).text_content().split()"
   ]
  },
  {
   "cell_type": "code",
   "execution_count": 234,
   "metadata": {},
   "outputs": [],
   "source": [
    "with open('output_x.txt', 'w') as f:\n",
    "    f.write(lxml.html.tostring(x, method='text', encoding='unicode'))"
   ]
  },
  {
   "cell_type": "code",
   "execution_count": 117,
   "metadata": {},
   "outputs": [
    {
     "data": {
      "text/plain": "'asdf;lkjdsaf'"
     },
     "execution_count": 117,
     "metadata": {},
     "output_type": "execute_result"
    }
   ],
   "source": [
    "x"
   ]
  },
  {
   "cell_type": "code",
   "execution_count": null,
   "metadata": {
    "collapsed": false,
    "pycharm": {
     "name": "#%%\n"
    }
   },
   "outputs": [],
   "source": [
    "# extract math content from a document\n",
    "formulaRegexp = re.compile(r'<math(.*?)>(.*?)</math>', re.DOTALL)\n",
    "formulae = formulaRegexp.findall(doc.body)\n",
    "\n",
    "doc.formulae = [(s[0], re.sub(r'\\n\\s+', '', s[1])) for s in formulae]\n",
    "doc.identifiers=[re.findall(r'<mi>(.*?)</mi>', formula[1]) for formula in doc.formulae]"
   ]
  },
  {
   "cell_type": "code",
   "execution_count": 109,
   "metadata": {
    "collapsed": false,
    "pycharm": {
     "is_executing": false,
     "name": "#%%\n"
    }
   },
   "outputs": [
    {
     "name": "stdout",
     "output_type": "stream",
     "text": [
      "804995\n"
     ]
    }
   ],
   "source": [
    "print(len(doc.body))\n"
   ]
  },
  {
   "cell_type": "code",
   "execution_count": null,
   "metadata": {
    "collapsed": false,
    "pycharm": {
     "name": "#%%\n"
    }
   },
   "outputs": [],
   "source": [
    "with open('output1.txt', 'w') as f:\n",
    "    f.write(' '.join(doc.body.split()))"
   ]
  },
  {
   "cell_type": "code",
   "execution_count": null,
   "metadata": {
    "collapsed": false,
    "pycharm": {
     "name": "#%%\n"
    }
   },
   "outputs": [],
   "source": [
    "tree = lxml.html.parse(document_path)\n",
    "html = tree.getroot()\n",
    "\n",
    "path_w = 'output.txt'\n",
    "with open(path_w, mode='w') as f:\n",
    "    f.write('## msub ##\\n')\n",
    "    msub_list = []\n",
    "    for math in html.cssselect('msub'):\n",
    "        math_txt = ''\n",
    "        for math_ in math.cssselect('mi'):\n",
    "            math_txt = '_'.join([x.text_content() for x in x])\n",
    "            # math_txt = '_'.join(math_txt)\n",
    "            # math_txt = math_.text.strip()\n",
    "            # math_txt += '_'\n",
    "            \n",
    "        if not math_txt[:-1] in msub_list:\n",
    "            msub_list.append(math_txt[:-1])\n",
    "        \n",
    "    f.write('\\n'.join(msub_list))\n",
    "    f.write('\\n')\n",
    "    f.write('------------------------\\n')\n",
    "\n",
    "    f.write('## msup ##\\n')\n",
    "    msup_list = []\n",
    "    for math in html.cssselect('msup'):\n",
    "        math_txt = ''\n",
    "        for math_ in math.cssselect('mi'):\n",
    "            math_txt += math_.text.strip()\n",
    "            math_txt += '_'\n",
    "        if not math_txt[:-1] in msup_list:\n",
    "            msup_list.append(math_txt[:-1])\n",
    "    f.write('\\n'.join(msup_list))\n",
    "    f.write('\\n')\n",
    "    f.write('------------------------\\n')\n",
    "\n",
    "    f.write('## msubsup ##\\n')\n",
    "    msubsup_list = []\n",
    "    for math in html.cssselect('msubsup'):\n",
    "        math_txt = ''\n",
    "        for math_ in math.cssselect('mi'):\n",
    "            math_txt += math_.text.strip()\n",
    "            math_txt += '_'\n",
    "        if not math_txt[:-1] in msubsup_list:\n",
    "            msubsup_list.append(math_txt[:-1])\n",
    "    f.write('\\n'.join(msubsup_list))\n",
    "    f.write('\\n')\n",
    "    f.write('------------------------\\n')\n"
   ]
  },
  {
   "cell_type": "code",
   "execution_count": null,
   "metadata": {
    "collapsed": false,
    "pycharm": {
     "name": "#%%\n"
    }
   },
   "outputs": [],
   "source": [
    "tree = lxml.html.parse(document_path)\n",
    "html = tree.getroot()"
   ]
  },
  {
   "cell_type": "code",
   "execution_count": null,
   "metadata": {
    "collapsed": false,
    "pycharm": {
     "name": "#%%\n"
    }
   },
   "outputs": [],
   "source": [
    "a = html.cssselect('math')\n",
    "# a_0_msub = a[0].cssselect('msub')\n",
    "# a_0_msub_msup = a[0].cssselect(regex)\n",
    "# a_0_msub[0].drop_tree()\n",
    "# a_0_msub_mi = [msub.cssselect('mi') for msub in a_0_msub]\n",
    "# a_0_msub_mi_x = [a_0_msub_mi_x[i].text for a_0_msub_mi_x in a_0_msub_mi for i, _ in enumerate(a_0_msub_mi_x)]\n",
    "# print([b_.cssselect('mi').text.strip() for b_ in b[0]])\n",
    "# a_0 = a_0_msub[0]"
   ]
  },
  {
   "cell_type": "code",
   "execution_count": null,
   "metadata": {
    "collapsed": false,
    "pycharm": {
     "name": "#%%\n"
    }
   },
   "outputs": [],
   "source": [
    "a[0].getchildren()[0].getchildren()[1].text_content()"
   ]
  },
  {
   "cell_type": "code",
   "execution_count": null,
   "metadata": {
    "collapsed": false,
    "pycharm": {
     "name": "#%%\n"
    }
   },
   "outputs": [],
   "source": [
    "print(a_0_msub[0].text_content())\n",
    "print('text length : {}'.format(len(html.text_content())))"
   ]
  },
  {
   "cell_type": "code",
   "execution_count": null,
   "metadata": {
    "collapsed": false,
    "pycharm": {
     "name": "#%%\n"
    }
   },
   "outputs": [],
   "source": [
    "x = [x for x in a_0_msub[0].iterchildren()]"
   ]
  },
  {
   "cell_type": "code",
   "execution_count": null,
   "metadata": {
    "collapsed": false,
    "pycharm": {
     "name": "#%%\n"
    }
   },
   "outputs": [],
   "source": [
    "doc.body.split()"
   ]
  },
  {
   "cell_type": "code",
   "execution_count": null,
   "metadata": {
    "collapsed": false,
    "pycharm": {
     "name": "#%%\n"
    }
   },
   "outputs": [],
   "source": [
    "len(x[0].text_content())"
   ]
  },
  {
   "cell_type": "code",
   "execution_count": null,
   "metadata": {
    "collapsed": false,
    "pycharm": {
     "name": "#%%\n"
    }
   },
   "outputs": [],
   "source": [
    "a_0_mi = a[0].cssselect('mi')"
   ]
  },
  {
   "cell_type": "code",
   "execution_count": null,
   "metadata": {
    "collapsed": false,
    "pycharm": {
     "name": "#%%\n"
    }
   },
   "outputs": [],
   "source": [
    "html_tostring = lxml.html.tostring(a_0_mi[0], encoding='unicode')\n",
    "print(html_tostring)\n",
    "print(type(html_tostring))\n",
    "text = 'the variable is represented by ' + html_tostring + '.'\n",
    "print(text)"
   ]
  },
  {
   "cell_type": "code",
   "execution_count": null,
   "metadata": {
    "collapsed": false,
    "pycharm": {
     "name": "#%%\n"
    }
   },
   "outputs": [],
   "source": [
    "len(a[0].text_content())"
   ]
  },
  {
   "cell_type": "code",
   "execution_count": null,
   "metadata": {
    "collapsed": false,
    "pycharm": {
     "name": "#%%\n"
    }
   },
   "outputs": [],
   "source": [
    "a = [a for a in a_0.iterchildren()]                      \n",
    "print(a[0].text_content())"
   ]
  },
  {
   "cell_type": "code",
   "execution_count": 37,
   "metadata": {
    "collapsed": false,
    "pycharm": {
     "is_executing": false,
     "name": "#%%\n"
    }
   },
   "outputs": [],
   "source": [
    "msubsupRegexp = re.compile(r'<msubsup><mi>(.*?)</mi><m.*?>(.*?)</m.*?><m.*?>(.*?)</m.*?></msubsup>', re.DOTALL)\n",
    "msupRegexp = re.compile(r'<msup><mi>(.*?)</mi><m.*?>(.*?)</m.*?><m.*?>(.*?)</m.*?></msup>', re.DOTALL)\n",
    "msubRegexp = re.compile(r'<msup><mi>(.*?)</mi><m.*?>(.*?)</m.*?><m.*?>(.*?)</m.*?></msub>', re.DOTALL)\n",
    "\n",
    "print('--- msubsup ---')\n",
    "print([msubsupRegexp.findall(formula[1]) for formula in doc.formulae])\n",
    "\n",
    "print('--- msup ---')\n",
    "print([msupRegexp.findall(formula[1]) for formula in doc.formulae])\n",
    "\n",
    "print('--- msub ---')\n",
    "# このプログラム，msubを抽出するときに数十秒で計算が終わらない．\n",
    "# jupyter notebookでプログレスバーを出しながら計算するか．\n",
    "# print([msubRegexp.findall(formula[1]) for formula in tqdm(doc.formulae)])\n",
    "# print(formulae[0][1])"
   ]
  },
  {
   "cell_type": "code",
   "execution_count": 44,
   "metadata": {
    "pycharm": {
     "is_executing": false
    }
   },
   "outputs": [
    {
     "ename": "TypeError",
     "evalue": "sequence item 0: expected str instance, list found",
     "output_type": "error",
     "traceback": [
      "\u001b[0;31m---------------------------------------------------------------------------\u001b[0m",
      "\u001b[0;31mTypeError\u001b[0m                                 Traceback (most recent call last)",
      "\u001b[0;32m<ipython-input-44-8c891c0c4a10>\u001b[0m in \u001b[0;36m<module>\u001b[0;34m\u001b[0m\n\u001b[1;32m     18\u001b[0m             \u001b[0mmsub_list\u001b[0m\u001b[0;34m.\u001b[0m\u001b[0mappend\u001b[0m\u001b[0;34m(\u001b[0m\u001b[0mmath_txt\u001b[0m\u001b[0;34m[\u001b[0m\u001b[0;34m:\u001b[0m\u001b[0;34m-\u001b[0m\u001b[0;36m1\u001b[0m\u001b[0;34m]\u001b[0m\u001b[0;34m)\u001b[0m\u001b[0;34m\u001b[0m\u001b[0;34m\u001b[0m\u001b[0m\n\u001b[1;32m     19\u001b[0m \u001b[0;34m\u001b[0m\u001b[0m\n\u001b[0;32m---> 20\u001b[0;31m     \u001b[0mf\u001b[0m\u001b[0;34m.\u001b[0m\u001b[0mwrite\u001b[0m\u001b[0;34m(\u001b[0m\u001b[0;34m'\\n'\u001b[0m\u001b[0;34m.\u001b[0m\u001b[0mjoin\u001b[0m\u001b[0;34m(\u001b[0m\u001b[0mmsub_list\u001b[0m\u001b[0;34m)\u001b[0m\u001b[0;34m)\u001b[0m\u001b[0;34m\u001b[0m\u001b[0;34m\u001b[0m\u001b[0m\n\u001b[0m\u001b[1;32m     21\u001b[0m     \u001b[0mf\u001b[0m\u001b[0;34m.\u001b[0m\u001b[0mwrite\u001b[0m\u001b[0;34m(\u001b[0m\u001b[0;34m'\\n'\u001b[0m\u001b[0;34m)\u001b[0m\u001b[0;34m\u001b[0m\u001b[0;34m\u001b[0m\u001b[0m\n\u001b[1;32m     22\u001b[0m     \u001b[0mf\u001b[0m\u001b[0;34m.\u001b[0m\u001b[0mwrite\u001b[0m\u001b[0;34m(\u001b[0m\u001b[0;34m'------------------------\\n'\u001b[0m\u001b[0;34m)\u001b[0m\u001b[0;34m\u001b[0m\u001b[0;34m\u001b[0m\u001b[0m\n",
      "\u001b[0;31mTypeError\u001b[0m: sequence item 0: expected str instance, list found"
     ]
    }
   ],
   "source": [
    "tree = lxml.html.parse(document_path)\n",
    "html = tree.getroot()\n",
    "\n",
    "path_w = 'output.txt'\n",
    "with open(path_w, mode='w') as f:\n",
    "    f.write('## msub ##\\n')\n",
    "    msub_list = []\n",
    "    for math in html.cssselect('msub'):\n",
    "        math_txt = ''\n",
    "        for math_ in math.cssselect('mi'):\n",
    "            math_txt = '_'.join([x.text_content() for x in x])\n",
    "            # math_txt = '_'.join(math_txt)\n",
    "            # math_txt = math_.text.strip()\n",
    "            # math_txt += '_'\n",
    "            \n",
    "        if not math_txt[:-1] in msub_list:\n",
    "            msub_list.append(math_txt[:-1])\n",
    "        \n",
    "    f.write('\\n'.join(msub_list))\n",
    "    f.write('\\n')\n",
    "    f.write('------------------------\\n')\n",
    "\n",
    "    f.write('## msup ##\\n')\n",
    "    msup_list = []\n",
    "    for math in html.cssselect('msup'):\n",
    "        math_txt = ''\n",
    "        for math_ in math.cssselect('mi'):\n",
    "            math_txt += math_.text.strip()\n",
    "            math_txt += '_'\n",
    "        if not math_txt[:-1] in msup_list:\n",
    "            msup_list.append(math_txt[:-1])\n",
    "    f.write('\\n'.join(msup_list))\n",
    "    f.write('\\n')\n",
    "    f.write('------------------------\\n')\n",
    "\n",
    "    f.write('## msubsup ##\\n')\n",
    "    msubsup_list = []\n",
    "    for math in html.cssselect('msubsup'):\n",
    "        math_txt = ''\n",
    "        for math_ in math.cssselect('mi'):\n",
    "            math_txt += math_.text.strip()\n",
    "            math_txt += '_'\n",
    "        if not math_txt[:-1] in msubsup_list:\n",
    "            msubsup_list.append(math_txt[:-1])\n",
    "    f.write('\\n'.join(msubsup_list))\n",
    "    f.write('\\n')\n",
    "    f.write('------------------------\\n')\n"
   ]
  },
  {
   "cell_type": "code",
   "execution_count": 165,
   "metadata": {},
   "outputs": [],
   "source": [
    "tree = lxml.html.parse(document_path)\n",
    "html = tree.getroot()"
   ]
  },
  {
   "cell_type": "code",
   "execution_count": 166,
   "metadata": {},
   "outputs": [],
   "source": [
    "a = html.cssselect('math')\n",
    "# a_0_msub = a[0].cssselect('msub')\n",
    "# a_0_msub_msup = a[0].cssselect(regex)\n",
    "# a_0_msub[0].drop_tree()\n",
    "# a_0_msub_mi = [msub.cssselect('mi') for msub in a_0_msub]\n",
    "# a_0_msub_mi_x = [a_0_msub_mi_x[i].text for a_0_msub_mi_x in a_0_msub_mi for i, _ in enumerate(a_0_msub_mi_x)]\n",
    "# print([b_.cssselect('mi').text.strip() for b_ in b[0]])\n",
    "# a_0 = a_0_msub[0]"
   ]
  },
  {
   "cell_type": "code",
   "execution_count": 216,
   "metadata": {},
   "outputs": [
    {
     "data": {
      "text/plain": "'subscript𝑥𝑡1subscript𝑓𝑡subscript𝑥𝑡subscript𝑢𝑡subscript𝑒𝑡'"
     },
     "execution_count": 216,
     "metadata": {},
     "output_type": "execute_result"
    }
   ],
   "source": [
    "a[0].getchildren()[0].getchildren()[1].text_content()"
   ]
  },
  {
   "cell_type": "code",
   "execution_count": 51,
   "metadata": {},
   "outputs": [
    {
     "name": "stdout",
     "output_type": "stream",
     "text": "xt+1\ntext length : 135239\n"
    }
   ],
   "source": [
    "print(a_0_msub[0].text_content())\n",
    "print('text length : {}'.format(len(html.text_content())))"
   ]
  },
  {
   "cell_type": "code",
   "execution_count": 54,
   "metadata": {},
   "outputs": [],
   "source": [
    "x = [x for x in a_0_msub[0].iterchildren()]"
   ]
  },
  {
   "cell_type": "code",
   "execution_count": 218,
   "metadata": {},
   "outputs": [
    {
     "data": {
      "text/plain": "['<div',\n 'class=\"ltx_page_main\">',\n '<div',\n 'class=\"ltx_page_content\">',\n '<article',\n 'class=\"ltx_document',\n 'ltx_authors_1line\">',\n '<h1',\n 'class=\"ltx_title',\n 'ltx_title_document\">A',\n 'Tour',\n 'of',\n 'Reinforcement',\n 'Learning',\n '<br',\n 'class=\"ltx_break\"><span',\n 'id=\"id1\"',\n 'class=\"ltx_text\"',\n 'style=\"font-size:144%;\">The',\n 'View',\n 'from',\n 'Continuous',\n 'Control</span>',\n '</h1>',\n '<div',\n 'class=\"ltx_authors\">',\n '<span',\n 'class=\"ltx_creator',\n 'ltx_role_author\">',\n '<span',\n 'class=\"ltx_personname\">Benjamin',\n 'Recht',\n '<br',\n 'class=\"ltx_break\">Department',\n 'of',\n 'Electrical',\n 'Engineering',\n 'and',\n 'Computer',\n 'Sciences',\n '<br',\n 'class=\"ltx_break\">University',\n 'of',\n 'California,',\n 'Berkeley',\n '</span></span>',\n '</div>',\n '<div',\n 'class=\"ltx_date',\n 'ltx_role_creation\">June',\n '25,',\n '2018</div>',\n '<div',\n 'class=\"ltx_abstract\">',\n '<h6',\n 'class=\"ltx_title',\n 'ltx_title_abstract\">Abstract</h6>',\n '<p',\n 'id=\"id2\"',\n 'class=\"ltx_p\">This',\n 'manuscript',\n 'surveys',\n 'reinforcement',\n 'learning',\n 'from',\n 'the',\n 'perspective',\n 'of',\n 'optimization',\n 'and',\n 'control',\n 'with',\n 'a',\n 'focus',\n 'on',\n 'continuous',\n 'control',\n 'applications.',\n 'It',\n 'surveys',\n 'the',\n 'general',\n 'formulation,',\n 'terminology,',\n 'and',\n 'typical',\n 'experimental',\n 'implementations',\n 'of',\n 'reinforcement',\n 'learning',\n 'and',\n 'reviews',\n 'competing',\n 'solution',\n 'paradigms.</p>',\n '<p',\n 'id=\"id3\"',\n 'class=\"ltx_p\">In',\n 'order',\n 'to',\n 'compare',\n 'the',\n 'relative',\n 'merits',\n 'of',\n 'various',\n 'techniques,',\n 'this',\n 'survey',\n 'presents',\n 'a',\n 'case',\n 'study',\n 'of',\n 'the',\n 'Linear',\n 'Quadratic',\n 'Regulator',\n '(LQR)',\n 'with',\n 'unknown',\n 'dynamics,',\n 'perhaps',\n 'the',\n 'simplest',\n 'and',\n 'best',\n 'studied',\n 'problem',\n 'in',\n 'optimal',\n 'control.',\n 'The',\n 'manuscript',\n 'describes',\n 'how',\n 'merging',\n 'techniques',\n 'from',\n 'learning',\n 'theory',\n 'and',\n 'control',\n 'can',\n 'provide',\n 'non-asymptotic',\n 'characterizations',\n 'of',\n 'LQR',\n 'performance',\n 'and',\n 'shows',\n 'that',\n 'these',\n 'characterizations',\n 'tend',\n 'to',\n 'match',\n 'experimental',\n 'behavior.',\n 'In',\n 'turn,',\n 'when',\n 'revisiting',\n 'more',\n 'complex',\n 'applications,',\n 'many',\n 'of',\n 'the',\n 'observed',\n 'phenomena',\n 'in',\n 'LQR',\n 'persist.',\n 'In',\n 'particular,',\n 'theory',\n 'and',\n 'experiment',\n 'demonstrate',\n 'the',\n 'role',\n 'and',\n 'importance',\n 'of',\n 'models',\n 'and',\n 'the',\n 'cost',\n 'of',\n 'generality',\n 'in',\n 'reinforcement',\n 'learning',\n 'algorithms.</p>',\n '<p',\n 'id=\"id4\"',\n 'class=\"ltx_p\">This',\n 'survey',\n 'concludes',\n 'with',\n 'a',\n 'discussion',\n 'of',\n 'some',\n 'of',\n 'the',\n 'challenges',\n 'in',\n 'designing',\n 'learning',\n 'systems',\n 'that',\n 'safely',\n 'and',\n 'reliably',\n 'interact',\n 'with',\n 'complex',\n 'and',\n 'uncertain',\n 'environments',\n 'and',\n 'how',\n 'tools',\n 'from',\n 'reinforcement',\n 'learning',\n 'and',\n 'controls',\n 'might',\n 'be',\n 'combined',\n 'to',\n 'approach',\n 'these',\n 'challenges.</p>',\n '</div>',\n '<section',\n 'id=\"S1\"',\n 'class=\"ltx_section\">',\n '<h2',\n 'class=\"ltx_title',\n 'ltx_title_section\">',\n '<span',\n 'class=\"ltx_tag',\n 'ltx_tag_section\">1',\n '</span>Introduction</h2>',\n '<div',\n 'id=\"S1.p1\"',\n 'class=\"ltx_para\">',\n '<p',\n 'id=\"S1.p1.1\"',\n 'class=\"ltx_p\">Reinforcement',\n 'learning',\n '(RL)',\n 'is',\n 'the',\n 'subfield',\n 'of',\n 'machine',\n 'learning',\n 'that',\n 'studies',\n 'how',\n 'to',\n 'use',\n 'past',\n 'data',\n 'to',\n 'enhance',\n 'the',\n 'future',\n 'manipulation',\n 'of',\n 'a',\n 'dynamical',\n 'system.',\n 'A',\n 'controls',\n 'engineer',\n 'might',\n 'be',\n 'puzzled',\n 'by',\n 'such',\n 'a',\n 'definition',\n 'and',\n 'interject',\n 'that',\n 'this',\n 'is',\n 'precisely',\n 'the',\n 'scope',\n 'of',\n 'control',\n 'theory.',\n 'That',\n 'the',\n 'RL',\n 'and',\n 'controls',\n 'communities',\n 'remain',\n 'practically',\n 'disjoint',\n 'has',\n 'lead',\n 'to',\n 'the',\n 'co-development',\n 'of',\n 'vastly',\n 'different',\n 'approaches',\n 'to',\n 'the',\n 'same',\n 'problems.',\n 'However,',\n 'it',\n 'should',\n 'be',\n 'impossible',\n 'for',\n 'a',\n 'controls',\n 'engineer',\n 'not',\n 'to',\n 'be',\n 'impressed',\n 'by',\n 'the',\n 'recent',\n 'successes',\n 'of',\n 'the',\n 'RL',\n 'community',\n 'such',\n 'as',\n 'solving',\n 'Go',\n '<cite',\n 'class=\"ltx_cite',\n 'ltx_citemacro_cite\">[<a',\n 'href=\"#bib.bib68\"',\n 'title=\"\"',\n 'class=\"ltx_ref\"><span',\n 'class=\"ltx_text\"',\n 'style=\"font-size:90%;\">68</span></a>]</cite>.</p>',\n '</div>',\n '<div',\n 'id=\"S1.p2\"',\n 'class=\"ltx_para\">',\n '<p',\n 'id=\"S1.p2.1\"',\n 'class=\"ltx_p\">Indeed,',\n 'given',\n 'this',\n 'dramatic',\n 'recent',\n 'progress',\n 'in',\n 'reinforcement',\n 'learning,',\n 'a',\n 'tremendous',\n 'opportunity',\n 'lies',\n 'in',\n 'deploying',\n 'its',\n 'data-driven',\n 'systems',\n 'in',\n 'more',\n 'demanding',\n 'interactive',\n 'tasks',\n 'including',\n 'self-driving',\n 'vehicles,',\n 'distributed',\n 'sensor',\n 'networks,',\n 'and',\n 'agile',\n 'robotic',\n 'systems.',\n 'In',\n 'order',\n 'for',\n 'RL',\n 'to',\n 'expand',\n 'into',\n 'such',\n 'technologies,',\n 'however,',\n 'it',\n 'is',\n 'critical',\n 'for',\n 'the',\n 'methods',\n 'to',\n 'be',\n 'safe',\n 'and',\n 'reliable.',\n 'Failure',\n 'of',\n 'such',\n 'RL',\n 'systems',\n 'has',\n 'severe',\n 'societal',\n 'and',\n 'economic',\n 'consequences',\n 'including',\n 'the',\n 'loss',\n 'of',\n 'human',\n 'life.',\n 'How',\n 'can',\n 'we',\n 'guarantee',\n 'that',\n 'our',\n 'new',\n 'data-driven',\n 'automated',\n 'systems',\n 'are',\n 'robust?',\n 'These',\n 'sort',\n 'of',\n 'reliability',\n 'concerns',\n 'are',\n 'at',\n 'the',\n 'core',\n 'of',\n 'controls',\n 'engineering,',\n 'and',\n 'reinforcement',\n 'learning',\n 'practitioners',\n 'might',\n 'be',\n 'able',\n 'to',\n 'make',\n 'their',\n 'methods',\n 'robust',\n 'by',\n 'applying',\n 'appropriate',\n 'controls',\n 'tools',\n 'for',\n 'engineering',\n 'systems',\n 'to',\n 'match',\n 'prescribed',\n 'safety',\n 'guarantees.</p>',\n '</div>',\n '<div',\n 'id=\"S1.p3\"',\n 'class=\"ltx_para\">',\n '<p',\n 'id=\"S1.p3.1\"',\n 'class=\"ltx_p\">This',\n 'survey',\n 'aims',\n 'to',\n 'provide',\n 'a',\n 'language',\n 'for',\n 'the',\n 'control',\n 'and',\n 'reinforcement',\n 'learning',\n 'communities',\n 'to',\n 'begin',\n 'communicating,',\n 'highlighting',\n 'what',\n 'each',\n 'can',\n 'learn',\n 'from',\n 'the',\n 'other.',\n 'Controls',\n 'is',\n 'the',\n 'theory',\n 'of',\n 'designing',\n 'complex',\n 'actions',\n 'from',\n 'well-specified',\n 'models,',\n 'while',\n 'reinforcement',\n 'learning',\n 'often',\n 'makes',\n 'intricate,',\n 'model-free',\n 'predictions',\n 'from',\n 'data',\n 'alone.',\n 'Yet,',\n 'both',\n 'RL',\n 'and',\n 'control',\n 'aim',\n 'to',\n 'design',\n 'systems',\n 'that',\n 'use',\n 'richly',\n 'structured',\n 'perception,',\n 'perform',\n 'planning',\n 'and',\n 'control',\n 'that',\n 'adequately',\n 'adapts',\n 'to',\n 'environmental',\n 'changes,',\n 'and',\n 'exploit',\n 'safeguards',\n 'when',\n 'surprised',\n 'by',\n 'a',\n 'new',\n 'scenario.',\n 'Understanding',\n 'how',\n 'to',\n 'properly',\n 'analyze,',\n 'predict,',\n 'and',\n 'certify',\n 'such',\n 'systems',\n 'requires',\n 'insights',\n 'from',\n 'current',\n 'machine',\n 'learning',\n 'practice',\n 'and',\n 'from',\n 'the',\n 'applied',\n 'mathematics',\n 'of',\n 'optimization,',\n 'statistics,',\n 'and',\n 'control',\n 'theory.',\n 'With',\n 'a',\n 'focus',\n 'on',\n 'problems',\n 'in',\n 'continuous',\n 'control,',\n 'I',\n 'will',\n 'try',\n 'to',\n 'disentangle',\n 'the',\n 'similarities',\n 'and',\n 'differences',\n 'of',\n 'methods',\n 'of',\n 'the',\n 'dueling',\n 'perspectives',\n 'and',\n 'present',\n 'a',\n 'set',\n 'of',\n 'challenging',\n 'problems',\n 'whose',\n 'solution',\n 'requires',\n 'significant',\n 'input',\n 'from',\n 'both',\n 'sets',\n 'of',\n 'practitioners.</p>',\n '</div>',\n '<div',\n 'id=\"S1.p4\"',\n 'class=\"ltx_para\">',\n '<p',\n 'id=\"S1.p4.1\"',\n 'class=\"ltx_p\">I',\n 'will',\n 'first',\n 'focus',\n 'on',\n 'casting',\n 'RL',\n 'problems',\n 'in',\n 'an',\n 'optimization',\n 'framework,',\n 'establishing',\n 'the',\n 'sorts',\n 'of',\n 'methodological',\n 'tools',\n 'brought',\n 'to',\n 'bear',\n 'in',\n 'contemporary',\n 'RL.',\n 'I',\n 'will',\n 'then',\n 'lay',\n 'out',\n 'the',\n 'main',\n 'solution',\n 'techniques',\n 'of',\n 'RL',\n 'including',\n 'the',\n 'dichotomy',\n 'between',\n 'the',\n 'model-free',\n 'and',\n 'model-based',\n 'methodologies.',\n 'I',\n 'will',\n 'then',\n 'try',\n 'to',\n 'put',\n 'RL',\n 'and',\n 'controls',\n 'techniques',\n 'on',\n 'the',\n 'same',\n 'footing',\n 'through',\n 'a',\n 'case',\n 'study',\n 'of',\n 'the',\n 'linear',\n 'quadratic',\n 'regulator',\n '(LQR)',\n 'with',\n 'unknown',\n 'dynamics.',\n 'This',\n 'baseline',\n 'will',\n 'illuminate',\n 'the',\n 'various',\n 'tradeoffs',\n 'associated',\n 'with',\n 'techniques',\n 'from',\n 'RL',\n 'and',\n 'control.',\n 'In',\n 'particular,',\n 'we',\n 'will',\n 'see',\n 'that',\n 'the',\n 'so-called',\n '“model-free”',\n 'methods',\n 'popular',\n 'in',\n 'deep',\n 'reinforcement',\n 'learning',\n 'are',\n 'considerably',\n 'less',\n 'effective',\n 'in',\n 'both',\n 'theory',\n 'and',\n 'practice',\n 'than',\n 'simple',\n 'model-based',\n 'schemes',\n 'when',\n 'applied',\n 'to',\n 'LQR.',\n 'Perhaps',\n 'surprisingly,',\n 'I',\n 'will',\n 'also',\n 'show',\n 'cases',\n 'where',\n 'these',\n 'observations',\n 'continue',\n 'to',\n 'hold',\n 'on',\n 'more',\n 'challenging',\n 'nonlinear',\n 'applications.',\n 'I',\n 'will',\n 'then',\n 'argue',\n 'that',\n 'model-free',\n 'and',\n 'model-based',\n 'perspectives',\n 'can',\n 'be',\n 'unified,',\n 'combining',\n 'their',\n 'relative',\n 'merits.',\n 'This',\n 'will',\n 'lead',\n 'to',\n 'a',\n 'concluding',\n 'discussion',\n 'of',\n 'some',\n 'of',\n 'the',\n 'challenges',\n 'at',\n 'the',\n 'interface',\n 'of',\n 'control',\n 'and',\n 'learning',\n 'that',\n 'must',\n 'be',\n 'solved',\n 'before',\n 'we',\n 'can',\n 'build',\n 'robust,',\n 'safe',\n 'learning',\n 'systems',\n 'that',\n 'interact',\n 'with',\n 'an',\n 'uncertain',\n 'physical',\n 'environment',\n 'and',\n 'that',\n 'will',\n 'surely',\n 'require',\n 'tools',\n 'from',\n '<em',\n 'id=\"S1.p4.1.1\"',\n 'class=\"ltx_emph',\n 'ltx_font_italic\">both</em>',\n 'the',\n 'machine',\n 'learning',\n 'and',\n 'controls',\n 'community.</p>',\n '</div>',\n '</section>',\n '<section',\n 'id=\"S2\"',\n 'class=\"ltx_section\">',\n '<h2',\n 'class=\"ltx_title',\n 'ltx_title_section\">',\n '<span',\n 'class=\"ltx_tag',\n 'ltx_tag_section\">2',\n '</span>What',\n 'is',\n 'reinforcement',\n 'learning?</h2>',\n '<div',\n 'id=\"S2.p1\"',\n 'class=\"ltx_para\">',\n '<p',\n 'id=\"S2.p1.1\"',\n 'class=\"ltx_p\">Reinforcement',\n 'learning',\n 'is',\n 'the',\n 'study',\n 'of',\n 'how',\n 'to',\n 'use',\n 'past',\n 'data',\n 'to',\n 'enhance',\n 'the',\n 'future',\n 'manipulation',\n 'of',\n 'a',\n 'dynamical',\n 'system.',\n 'How',\n 'does',\n 'this',\n 'differ',\n 'from',\n 'ordinary',\n 'machine',\n 'learning?',\n 'The',\n 'main',\n 'view',\n 'of',\n 'this',\n 'survey',\n 'is',\n 'of',\n 'reinforcement',\n 'learning',\n 'as',\n 'optimal',\n 'control',\n 'when',\n 'the',\n 'dynamics',\n 'are',\n 'unknown.',\n 'Our',\n 'goal',\n 'will',\n 'be',\n 'to',\n 'find',\n 'a',\n 'set',\n 'of',\n 'inputs',\n 'that',\n 'drives',\n 'a',\n 'dynamical',\n 'system',\n 'to',\n 'maximize',\n 'some',\n 'objective',\n 'beginning',\n 'with',\n 'minimal',\n 'knowledge',\n 'of',\n 'how',\n 'the',\n 'system',\n 'responds',\n 'to',\n 'inputs.</p>',\n '</div>',\n '<div',\n 'id=\"S2.p2\"',\n 'class=\"ltx_para\">',\n '<p',\n 'id=\"S2.p2.1\"',\n 'class=\"ltx_p\">In',\n 'the',\n 'classic',\n 'optimal',\n 'control',\n 'problem,',\n 'we',\n 'begin',\n 'with',\n 'a',\n 'dynamical',\n 'system',\n 'governed',\n 'by',\n 'the',\n 'difference',\n 'equation',\n '<math',\n 'id=\"S2.p2.1.m1.1\"',\n 'class=\"ltx_Math\"',\n 'alttext=\"x_{t+1}=f_{t}(x_{t},u_{t},e_{t})\"',\n 'display=\"inline\"><semantics',\n 'id=\"S2.p2.1.m1.1a\"><mrow',\n 'id=\"S2.p2.1.m1.1.16\"',\n 'xref=\"S2.p2.1.m1.1.16.cmml\">MATH_0<mo',\n 'id=\"S2.p2.1.m1.1.3\"',\n 'xref=\"S2.p2.1.m1.1.3.cmml\">=</mo><mrow',\n 'id=\"S2.p2.1.m1.1.16.2\"',\n 'xref=\"S2.p2.1.m1.1.16.2.cmml\">MATH_1<mo',\n 'id=\"S2.p2.1.m1.1.16.2.1\"',\n 'xref=\"S2.p2.1.m1.1.16.2.1.cmml\">\\u2062</mo><mrow',\n 'id=\"S2.p2.1.m1.1.16.2.3\"',\n 'xref=\"S2.p2.1.m1.1.16.2.3.1.cmml\"><mo',\n 'stretchy=\"false\"',\n 'id=\"S2.p2.1.m1.1.6\"',\n 'xref=\"S2.p2.1.m1.1.16.2.3.1.cmml\">(</mo>MATH_2<mo',\n 'id=\"S2.p2.1.m1.1.9\"',\n 'xref=\"S2.p2.1.m1.1.16.2.3.1.cmml\">,</mo>MATH_3<mo',\n 'id=\"S2.p2.1.m1.1.12\"',\n 'xref=\"S2.p2.1.m1.1.16.2.3.1.cmml\">,</mo>MATH_4<mo',\n 'stretchy=\"false\"',\n 'id=\"S2.p2.1.m1.1.15\"',\n 'xref=\"S2.p2.1.m1.1.16.2.3.1.cmml\">)</mo></mrow></mrow></mrow><annotation-xml',\n 'encoding=\"MathML-Content\"',\n 'id=\"S2.p2.1.m1.1b\"><apply',\n 'id=\"S2.p2.1.m1.1.16.cmml\"',\n 'xref=\"S2.p2.1.m1.1.16\"><eq',\n 'id=\"S2.p2.1.m1.1.3.cmml\"',\n 'xref=\"S2.p2.1.m1.1.3\"></eq><apply',\n 'id=\"S2.p2.1.m1.1.16.1.cmml\"',\n ...]"
     },
     "execution_count": 218,
     "metadata": {},
     "output_type": "execute_result"
    }
   ],
   "source": [
    "doc.body.split()"
   ]
  },
  {
   "cell_type": "code",
   "execution_count": 65,
   "metadata": {},
   "outputs": [
    {
     "data": {
      "text/plain": "1"
     },
     "execution_count": 65,
     "metadata": {},
     "output_type": "execute_result"
    }
   ],
   "source": [
    "len(x[0].text_content())"
   ]
  },
  {
   "cell_type": "code",
   "execution_count": 96,
   "metadata": {
    "collapsed": false,
    "pycharm": {
     "is_executing": false,
     "name": "#%%\n"
    }
   },
   "outputs": [],
   "source": [
    "a_0_mi = a[0].cssselect('mi')"
   ]
  },
  {
   "cell_type": "code",
   "execution_count": 108,
   "metadata": {
    "collapsed": false,
    "pycharm": {
     "is_executing": false,
     "name": "#%%\n"
    }
   },
   "outputs": [
    {
     "name": "stdout",
     "output_type": "stream",
     "text": [
      "<mi id=\"S2.p2.1.m1.1.10\" xref=\"S2.p2.1.m1.1.10.cmml\">u</mi>\n",
      "<class 'str'>\n",
      "the variable is represented by <mi id=\"S2.p2.1.m1.1.10\" xref=\"S2.p2.1.m1.1.10.cmml\">u</mi>.\n"
     ]
    }
   ],
   "source": [
    "html_tostring = lxml.html.tostring(a_0_mi[0], encoding='unicode')\n",
    "print(html_tostring)\n",
    "print(type(html_tostring))\n",
    "text = 'the variable is represented by ' + html_tostring + '.'\n",
    "print(text)"
   ]
  },
  {
   "cell_type": "code",
   "execution_count": 92,
   "metadata": {},
   "outputs": [
    {
     "data": {
      "text/plain": "1"
     },
     "execution_count": 92,
     "metadata": {},
     "output_type": "execute_result"
    }
   ],
   "source": [
    "len(a[0].text_content())"
   ]
  },
  {
   "cell_type": "code",
   "execution_count": 70,
   "metadata": {},
   "outputs": [
    {
     "name": "stdout",
     "output_type": "stream",
     "text": "x\n"
    }
   ],
   "source": [
    "a = [a for a in a_0.iterchildren()]                      \n",
    "print(a[0].text_content())"
   ]
  },
  {
   "cell_type": "code",
   "execution_count": 8,
   "metadata": {
    "pycharm": {
     "is_executing": false
    }
   },
   "outputs": [
    {
     "name": "stdout",
     "output_type": "stream",
     "text": [
      "--- msubsup ---\n",
      "[[], [], [], [], [('T', '𝐯', '<mo>-')], [], [], [], [], [], [], [], [], [], [], [], [], [], [], [], [], [], [], []]\n",
      "--- msup ---\n",
      "[[], [], [], [], [], [], [], [('R', 'T', '=')], [], [], [('x', '′', '<mtd columnalign=\"center\"><msup><mi>y')], [], [], [], [], [], [], [], [], [], [], [], [], []]\n",
      "--- msub ---\n"
     ]
    }
   ],
   "source": [
    "msubsupRegexp = re.compile(r'<msubsup><mi>(.*?)</mi><m.*?>(.*?)</m.*?><m.*?>(.*?)</m.*?></msubsup>', re.DOTALL)\n",
    "msupRegexp = re.compile(r'<msup><mi>(.*?)</mi><m.*?>(.*?)</m.*?><m.*?>(.*?)</m.*?></msup>', re.DOTALL)\n",
    "msubRegexp = re.compile(r'<msup><mi>(.*?)</mi><m.*?>(.*?)</m.*?><m.*?>(.*?)</m.*?></msub>', re.DOTALL)\n",
    "\n",
    "print('--- msubsup ---')\n",
    "print([msubsupRegexp.findall(formula[1]) for formula in doc.formulae])\n",
    "\n",
    "print('--- msup ---')\n",
    "print([msupRegexp.findall(formula[1]) for formula in doc.formulae])\n",
    "\n",
    "print('--- msub ---')\n",
    "# このプログラム，msubを抽出するときに数十秒で計算が終わらない．\n",
    "# jupyter notebookでプログレスバーを出しながら計算するか．\n",
    "# print([msubRegexp.findall(formula[1]) for formula in tqdm(doc.formulae)])\n",
    "# print(formulae[0][1])"
   ]
  },
  {
   "cell_type": "markdown",
   "metadata": {},
   "source": [
    "解析対象は，LaTeXMLによって生成したXML形式のファイルとする．\n",
    "アノテーションは著者がmanualで行った．\n",
    "\n",
    "関数と変数の分離については行わないものとする．\n",
    "そもそも人が見て判断しても，f(x+b)が関数なのか乗算なのかは文章を読まなければ判断しかねるため．\n",
    "（f(x)というように１文字のみを引数にとる場合はfが関数であるというルールにしてもいいと思うが）"
   ]
  },
  {
   "cell_type": "code",
   "execution_count": 37,
   "metadata": {},
   "outputs": [],
   "source": [
    "import xml.etree.ElementTree as ET\n",
    "with open(document_path, 'r') as documentOpend:\n",
    "    document = documentOpend.read()"
   ]
  },
  {
   "cell_type": "code",
   "execution_count": 86,
   "metadata": {},
   "outputs": [
    {
     "name": "stdout",
     "output_type": "stream",
     "text": [
      "<!DOCTYPE html>\n",
      "<html lang=\"en\" xmlns=\"http://www.w3.org/1999/xhtml\" xml:lang=\"en\">\n",
      "  <head>\n",
      "    <meta name=\"generator\" content=\"HTML Tidy for HTML5 for Linux version 5.1.25\" />\n",
      "    <meta charset=\"utf-8\" />\n",
      "    <meta content=\"2D_computer_graphics\" name=\"docid\" />\n",
      "    <meta content=\"articles/math-pages/wpmath0000001.dat\" name=\"datfile\" />\n",
      "    <meta content=\"1124\" name=\"offset\" />\n",
      "    <title>\n",
      "      2D computer graphics\n",
      "    </title>\n",
      "    <script src=\"https://cdn.mathjax.org/mathjax/latest/MathJax.js?config=TeX-AMS-MML_SVG.js\" type=\"text/javascript\">\n",
      "    </script>\n",
      "    <style type=\"text/css\">\n",
      "    /*<![CDATA[*/\n",
      "    code{white-space: pre;}\n",
      "    /*]]>*/\n",
      "    </style><!--[if lt IE 9]>\n",
      "    <script src=\"http://html5shim.googlecode.com/svn/trunk/html5.js\"></script>\n",
      "  <![endif]-->\n",
      "  </head>\n",
      "  <body>\n",
      "    <blockquote>\n",
      "      <blockquote>\n",
      "        <h1>\n",
      "          2D computer graphics\n",
      "        </h1>\n",
      "        <hr />\n",
      "        <p>\n",
      "          <strong>2D computer graphics</strong> is the <a class=\"uri\" href=\"computer\n"
     ]
    }
   ],
   "source": [
    "print(document[:1000])"
   ]
  },
  {
   "cell_type": "code",
   "execution_count": 208,
   "metadata": {},
   "outputs": [],
   "source": [
    "tree = ET.parse(document_path)\n",
    "root = tree.getroot()\n",
    "# root = ET.fromstring(document)\n",
    "xmlNameSpace = re.findall('({.*})', root.tag)[0]"
   ]
  },
  {
   "cell_type": "code",
   "execution_count": 213,
   "metadata": {},
   "outputs": [
    {
     "name": "stdout",
     "output_type": "stream",
     "text": [
      "{http://www.w3.org/1999/xhtml}math\n",
      "--> T\n",
      "--> δ\n",
      "{http://www.w3.org/1999/xhtml}math\n",
      "--> T\n",
      "--> δ\n",
      "--> f\n",
      "--> 𝐯\n",
      "--> f\n",
      "--> 𝐯\n",
      "--> δ\n",
      "{http://www.w3.org/1999/xhtml}math\n",
      "--> T\n",
      "--> 𝐯\n",
      "--> v\n",
      "--> x\n",
      "--> v\n",
      "--> y\n",
      "--> v\n",
      "--> z\n",
      "{http://www.w3.org/1999/xhtml}math\n",
      "--> T\n",
      "--> 𝐯\n",
      "--> 𝐩\n",
      "--> v\n",
      "--> x\n",
      "--> v\n",
      "--> y\n",
      "--> v\n",
      "--> z\n",
      "--> p\n",
      "--> x\n",
      "--> p\n",
      "--> y\n",
      "--> p\n",
      "--> z\n",
      "--> p\n",
      "--> x\n",
      "--> v\n",
      "--> x\n",
      "--> p\n",
      "--> y\n",
      "--> v\n",
      "--> y\n",
      "--> p\n",
      "--> z\n",
      "--> v\n",
      "--> z\n",
      "--> 𝐩\n",
      "--> 𝐯\n",
      "{http://www.w3.org/1999/xhtml}math\n",
      "--> T\n",
      "--> 𝐯\n",
      "--> T\n",
      "--> 𝐯\n",
      "{http://www.w3.org/1999/xhtml}math\n",
      "--> T\n",
      "--> 𝐮\n",
      "--> T\n",
      "--> 𝐯\n",
      "--> T\n",
      "--> 𝐮\n",
      "--> 𝐯\n",
      "{http://www.w3.org/1999/xhtml}math\n",
      "--> R\n",
      "--> cos\n",
      "--> θ\n",
      "--> sin\n",
      "--> θ\n",
      "--> sin\n",
      "--> θ\n",
      "--> cos\n",
      "--> θ\n",
      "{http://www.w3.org/1999/xhtml}math\n",
      "--> R\n",
      "--> T\n",
      "--> R\n",
      "--> R\n",
      "{http://www.w3.org/1999/xhtml}math\n",
      "--> S\n",
      "--> O\n",
      "--> n\n",
      "{http://www.w3.org/1999/xhtml}math\n",
      "--> R\n",
      "--> θ\n",
      "--> cos\n",
      "--> θ\n",
      "--> sin\n",
      "--> θ\n",
      "--> sin\n",
      "--> θ\n",
      "--> cos\n",
      "--> θ\n",
      "{http://www.w3.org/1999/xhtml}math\n",
      "--> x\n",
      "--> y\n",
      "--> cos\n",
      "--> θ\n",
      "--> sin\n",
      "--> θ\n",
      "--> sin\n",
      "--> θ\n",
      "--> cos\n",
      "--> θ\n",
      "--> x\n",
      "--> y\n",
      "{http://www.w3.org/1999/xhtml}math\n",
      "--> x\n",
      "--> x\n",
      "--> cos\n",
      "--> θ\n",
      "--> y\n",
      "--> sin\n",
      "--> θ\n",
      "{http://www.w3.org/1999/xhtml}math\n",
      "--> y\n",
      "--> x\n",
      "--> sin\n",
      "--> θ\n",
      "--> y\n",
      "--> cos\n",
      "--> θ\n",
      "{http://www.w3.org/1999/xhtml}math\n",
      "--> R\n",
      "--> θ\n",
      "--> cos\n",
      "--> θ\n",
      "--> sin\n",
      "--> θ\n",
      "--> sin\n",
      "--> θ\n",
      "--> cos\n",
      "--> θ\n",
      "{http://www.w3.org/1999/xhtml}math\n",
      "--> R\n",
      "{http://www.w3.org/1999/xhtml}math\n",
      "--> R\n",
      "{http://www.w3.org/1999/xhtml}math\n",
      "--> R\n",
      "{http://www.w3.org/1999/xhtml}math\n",
      "--> S\n",
      "--> v\n",
      "--> v\n",
      "--> x\n",
      "--> v\n",
      "--> y\n",
      "--> v\n",
      "--> z\n",
      "{http://www.w3.org/1999/xhtml}math\n",
      "--> S\n",
      "--> v\n",
      "--> p\n",
      "--> v\n",
      "--> x\n",
      "--> v\n",
      "--> y\n",
      "--> v\n",
      "--> z\n",
      "--> p\n",
      "--> x\n",
      "--> p\n",
      "--> y\n",
      "--> p\n",
      "--> z\n",
      "--> v\n",
      "--> x\n",
      "--> p\n",
      "--> x\n",
      "--> v\n",
      "--> y\n",
      "--> p\n",
      "--> y\n",
      "--> v\n",
      "--> z\n",
      "--> p\n",
      "--> z\n",
      "{http://www.w3.org/1999/xhtml}math\n",
      "--> S\n",
      "--> v\n",
      "--> v\n",
      "--> x\n",
      "--> v\n",
      "--> y\n",
      "--> v\n",
      "--> z\n",
      "{http://www.w3.org/1999/xhtml}math\n",
      "--> S\n",
      "--> v\n",
      "--> p\n",
      "--> v\n",
      "--> x\n",
      "--> v\n",
      "--> y\n",
      "--> v\n",
      "--> z\n",
      "--> p\n",
      "--> x\n",
      "--> p\n",
      "--> y\n",
      "--> p\n",
      "--> z\n",
      "--> v\n",
      "--> x\n",
      "--> p\n",
      "--> x\n",
      "--> v\n",
      "--> y\n",
      "--> p\n",
      "--> y\n",
      "--> v\n",
      "--> z\n",
      "--> p\n",
      "--> z\n",
      "{http://www.w3.org/1999/xhtml}math\n",
      "--> S\n",
      "--> v\n",
      "--> s\n",
      "{http://www.w3.org/1999/xhtml}math\n",
      "--> S\n",
      "--> v\n",
      "--> p\n",
      "--> s\n",
      "--> p\n",
      "--> x\n",
      "--> p\n",
      "--> y\n",
      "--> p\n",
      "--> z\n",
      "--> p\n",
      "--> x\n",
      "--> p\n",
      "--> y\n",
      "--> p\n",
      "--> z\n",
      "--> s\n",
      "{http://www.w3.org/1999/xhtml}math\n",
      "--> s\n",
      "--> p\n",
      "--> x\n",
      "--> s\n",
      "--> p\n",
      "--> y\n",
      "--> s\n",
      "--> p\n",
      "--> z\n"
     ]
    }
   ],
   "source": [
    "for xmlMathElement in root.iter(xmlNameSpace+'math'):\n",
    "    print(xmlMath.tag)\n",
    "    for mathElement in xmlMathElement.iter(xmlNameSpace+'mi'):\n",
    "        print('-->', mathElement.text.strip())"
   ]
  },
  {
   "cell_type": "code",
   "execution_count": 184,
   "metadata": {},
   "outputs": [
    {
     "name": "stdout",
     "output_type": "stream",
     "text": [
      "{http://www.w3.org/1999/xhtml}math\n",
      "{http://www.w3.org/1999/xhtml}math\n",
      "{http://www.w3.org/1999/xhtml}math\n",
      "{http://www.w3.org/1999/xhtml}math\n",
      "{http://www.w3.org/1999/xhtml}math\n",
      "{http://www.w3.org/1999/xhtml}math\n",
      "{http://www.w3.org/1999/xhtml}math\n",
      "{http://www.w3.org/1999/xhtml}math\n",
      "{http://www.w3.org/1999/xhtml}math\n",
      "{http://www.w3.org/1999/xhtml}math\n",
      "{http://www.w3.org/1999/xhtml}math\n",
      "{http://www.w3.org/1999/xhtml}math\n",
      "{http://www.w3.org/1999/xhtml}math\n",
      "{http://www.w3.org/1999/xhtml}math\n",
      "{http://www.w3.org/1999/xhtml}math\n",
      "{http://www.w3.org/1999/xhtml}math\n",
      "{http://www.w3.org/1999/xhtml}math\n",
      "{http://www.w3.org/1999/xhtml}math\n",
      "{http://www.w3.org/1999/xhtml}math\n",
      "{http://www.w3.org/1999/xhtml}math\n",
      "{http://www.w3.org/1999/xhtml}math\n",
      "{http://www.w3.org/1999/xhtml}math\n",
      "{http://www.w3.org/1999/xhtml}math\n",
      "{http://www.w3.org/1999/xhtml}math\n"
     ]
    }
   ],
   "source": [
    "for math in root.iter('{http://www.w3.org/1999/xhtml}math'):\n",
    "    print(math.tag)"
   ]
  },
  {
   "cell_type": "code",
   "execution_count": 164,
   "metadata": {},
   "outputs": [
    {
     "name": "stdout",
     "output_type": "stream",
     "text": [
      "0 {http://www.w3.org/1999/xhtml}a {'href': 'Euclidean_geometry', 'title': 'wikilink'} \n",
      "a\n",
      "1 {http://www.w3.org/1999/xhtml}strong {} \n",
      "a\n",
      "2 {http://www.w3.org/1999/xhtml}a {'href': 'Euclidean_group', 'title': 'wikilink'} \n",
      "a\n",
      "3 {http://www.w3.org/1999/xhtml}a {'href': 'vector_space', 'title': 'wikilink'} \n",
      "a\n",
      "4 {http://www.w3.org/1999/xhtml}a {'href': 'Origin_(mathematics)', 'title': 'wikilink'} \n",
      "a\n",
      "5 {http://www.w3.org/1999/xhtml}a {'href': 'coordinate_system', 'title': 'wikilink'} \n",
      "a\n",
      "6 {http://www.w3.org/1999/xhtml}strong {} \n",
      "a\n",
      "7 {http://www.w3.org/1999/xhtml}a {'href': 'operator_(mathematics)', 'title': 'wikilink'} \n",
      "a\n",
      "8 {http://www.w3.org/1999/xhtml}math {'display': 'inline', 'id': '2D_computer_graphics:0'} \n",
      "a\n",
      "9 {http://www.w3.org/1999/xhtml}math {'display': 'inline', 'id': '2D_computer_graphics:1'} \n",
      "a\n"
     ]
    }
   ],
   "source": [
    "for i, child in enumerate(root[1][0][0][8]):\n",
    "    print(i, child.tag, child.attrib, '\\n')"
   ]
  },
  {
   "cell_type": "code",
   "execution_count": 125,
   "metadata": {},
   "outputs": [
    {
     "name": "stdout",
     "output_type": "stream",
     "text": [
      "{http://www.w3.org/1999/xhtml}semantics {}\n"
     ]
    }
   ],
   "source": [
    "for child in root[1][0][0][8][8]:\n",
    "    print(child.tag, child.attrib)"
   ]
  },
  {
   "cell_type": "code",
   "execution_count": 131,
   "metadata": {},
   "outputs": [],
   "source": [
    "for child in root.findall(\"{http://www.w3.org/1999/xhtml}math\"):\n",
    "    print(child.tag)"
   ]
  },
  {
   "cell_type": "code",
   "execution_count": 33,
   "metadata": {},
   "outputs": [],
   "source": [
    "for value in root.iter('value'):\n",
    "    print(value.attrib)"
   ]
  },
  {
   "cell_type": "markdown",
   "metadata": {},
   "source": [
    "- identifierの持っている文字情報自体をDefenition retrieval に活用できないか．\n",
    "- これは，Wikipediaのような汎用的な文書ではなく，化学プロセスを対象とした論文といった，専門性の高い文書だからこそ取れるアプローチであるといえる．\n",
    "- 前提として，半径をRadiusの頭文字Rを用いて表したり，速度をVelocityの頭文字であるVを用いて表すように，科学文書では，，Identifierを表すのに，Definitionである英単語の一部を用いることが多い，\n",
    "- "
   ]
  },
  {
   "cell_type": "code",
   "execution_count": null,
   "metadata": {},
   "outputs": [],
   "source": [
    "import xnl.etree.ElementTree as etree"
   ]
  },
  {
   "cell_type": "code",
   "execution_count": null,
   "metadata": {},
   "outputs": [],
   "source": []
  },
  {
   "cell_type": "code",
   "execution_count": null,
   "metadata": {},
   "outputs": [],
   "source": []
  }
 ],
 "metadata": {
  "kernelspec": {
   "display_name": "Python 3",
   "language": "python",
   "name": "python3"
  },
  "language_info": {
   "codemirror_mode": {
    "name": "ipython",
    "version": 3
   },
   "file_extension": ".py",
   "mimetype": "text/x-python",
   "name": "python",
   "nbconvert_exporter": "python",
   "pygments_lexer": "ipython3",
   "version": "3.8.1-final"
  },
  "pycharm": {
   "stem_cell": {
    "cell_type": "raw",
    "source": [],
    "metadata": {
     "collapsed": false
    }
   }
  }
 },
 "nbformat": 4,
 "nbformat_minor": 4
}