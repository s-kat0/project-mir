{
 "cells": [
  {
   "cell_type": "code",
   "execution_count": 1,
   "outputs": [],
   "source": [
    "import lxml.html\n",
    "import time\n",
    "import re\n",
    "from tqdm import tqdm\n",
    "from stanfordnlp.server import CoreNLPClient\n",
    "import pickle\n",
    "from projectmir.xmldocument import XMLDocument\n",
    "from projectmir.functions import find_identifier_definition\n",
    "\n",
    "from pathlib import Path\n",
    "\n"
   ],
   "metadata": {
    "collapsed": false,
    "pycharm": {
     "name": "#%%\n",
     "is_executing": false
    }
   }
  },
  {
   "cell_type": "code",
   "execution_count": 2,
   "outputs": [
    {
     "name": "stderr",
     "text": [
      "5it [01:52, 22.51s/it]\n"
     ],
     "output_type": "stream"
    },
    {
     "name": "stdout",
     "text": [
      "elapsed time : 0.0001562 seconds ---\n",
      "process document\n",
      "elapsed time : 0.0775740 seconds ---\n",
      "Number of math components is 278\n",
      "elapsed time : 1.5491769 seconds ---\n",
      "elapsed time : 4.1357479 seconds ---\n",
      "Starting server with command: java -Xmx16G -cp /Users/kato/GoogleDrive/project-mir/data/resources/stanford-corenlp-full-2018-10-05/* edu.stanford.nlp.pipeline.StanfordCoreNLPServer -port 9000 -timeout 600000 -threads 5 -maxCharLength 100000 -quiet True -serverProperties corenlp_server-117166a372f84172.props -preload tokenize,ssplit,pos\n",
      "elapsed time : 9.3793600 seconds ---\n",
      "elapsed time : 9.4315441 seconds ---\n",
      "elapsed time : 0.0000069 seconds ---\n",
      "process document\n",
      "elapsed time : 0.0246732 seconds ---\n",
      "Number of math components is 68\n",
      "elapsed time : 0.1343839 seconds ---\n",
      "elapsed time : 46.1531560 seconds ---\n",
      "Starting server with command: java -Xmx16G -cp /Users/kato/GoogleDrive/project-mir/data/resources/stanford-corenlp-full-2018-10-05/* edu.stanford.nlp.pipeline.StanfordCoreNLPServer -port 9000 -timeout 600000 -threads 5 -maxCharLength 100000 -quiet True -serverProperties corenlp_server-877159669e4a4582.props -preload tokenize,ssplit,pos\n",
      "elapsed time : 48.9655671 seconds ---\n",
      "elapsed time : 48.9724371 seconds ---\n",
      "elapsed time : 0.0000329 seconds ---\n",
      "process document\n",
      "elapsed time : 0.0215268 seconds ---\n",
      "Number of math components is 111\n",
      "elapsed time : 0.1170888 seconds ---\n",
      "elapsed time : 6.4832220 seconds ---\n",
      "Starting server with command: java -Xmx16G -cp /Users/kato/GoogleDrive/project-mir/data/resources/stanford-corenlp-full-2018-10-05/* edu.stanford.nlp.pipeline.StanfordCoreNLPServer -port 9000 -timeout 600000 -threads 5 -maxCharLength 100000 -quiet True -serverProperties corenlp_server-4655c9658c794822.props -preload tokenize,ssplit,pos\n",
      "elapsed time : 9.3834641 seconds ---\n",
      "elapsed time : 9.3880389 seconds ---\n",
      "elapsed time : 0.0000072 seconds ---\n",
      "process document\n",
      "elapsed time : 0.0248933 seconds ---\n",
      "Number of math components is 75\n",
      "elapsed time : 0.1281552 seconds ---\n",
      "elapsed time : 0.7250900 seconds ---\n",
      "Starting server with command: java -Xmx16G -cp /Users/kato/GoogleDrive/project-mir/data/resources/stanford-corenlp-full-2018-10-05/* edu.stanford.nlp.pipeline.StanfordCoreNLPServer -port 9000 -timeout 600000 -threads 5 -maxCharLength 100000 -quiet True -serverProperties corenlp_server-0d9b81d6d9c44303.props -preload tokenize,ssplit,pos\n",
      "elapsed time : 3.3429551 seconds ---\n",
      "elapsed time : 3.3442910 seconds ---\n",
      "elapsed time : 0.0000069 seconds ---\n",
      "process document\n",
      "elapsed time : 0.0477698 seconds ---\n",
      "Number of math components is 235\n",
      "elapsed time : 0.6235509 seconds ---\n",
      "elapsed time : 35.1362150 seconds ---\n",
      "Starting server with command: java -Xmx16G -cp /Users/kato/GoogleDrive/project-mir/data/resources/stanford-corenlp-full-2018-10-05/* edu.stanford.nlp.pipeline.StanfordCoreNLPServer -port 9000 -timeout 600000 -threads 5 -maxCharLength 100000 -quiet True -serverProperties corenlp_server-e38dd45de7e24c72.props -preload tokenize,ssplit,pos\n",
      "elapsed time : 41.2768090 seconds ---\n",
      "elapsed time : 41.3946800 seconds ---\n"
     ],
     "output_type": "stream"
    }
   ],
   "source": [
    "p_path = './data/resources/dataset-arXMLiv-08-2019/process-control_physical-model/'\n",
    "p = Path(p_path)\n",
    "x= list(p.glob('*.html'))\n",
    "document_IDs = [x_.name[:-5] for x_ in x]\n",
    "\n",
    "doc = [[]]*len(document_IDs)\n",
    "for i, document_ID in tqdm(enumerate(document_IDs)):\n",
    "    document_path = p_path + document_ID + '.html'\n",
    "    doc_ = find_identifier_definition(document_path)\n",
    "    doc[i] = doc_\n",
    "#     start_time = time.time()\n",
    "#     doc_ = XMLDocument(document_path)\n",
    "#     print(\"elapsed time : {0:.7f} seconds ---\".format(time.time()-start_time))\n",
    "\n",
    "#     doc_.processor()\n",
    "#     print(\"elapsed time : {0:.7f} seconds ---\".format(time.time()-start_time))\n",
    "\n",
    "#     doc_.extract_identifiers()\n",
    "#     print(\"elapsed time : {0:.7f} seconds ---\".format(time.time()-start_time))\n",
    "\n",
    "#     doc_.extract_sentences()\n",
    "#     print(\"elapsed time : {0:.7f} seconds ---\".format(time.time()-start_time))\n",
    "\n",
    "#     doc_.POS_tagging()\n",
    "#     print(\"elapsed time : {0:.7f} seconds ---\".format(time.time()-start_time))\n",
    "\n",
    "#     doc_.pattern_based_extract_description()\n",
    "#     print(\"elapsed time : {0:.7f} seconds ---\".format(time.time()-start_time))\n",
    "    \n",
    "#     doc[i] = doc_"
   ],
   "metadata": {
    "collapsed": false,
    "pycharm": {
     "name": "#%%\n",
     "is_executing": false
    }
   }
  },
  {
   "cell_type": "code",
   "execution_count": 3,
   "outputs": [],
   "source": [
    "# with open('doc_1806.09460.binaryfile', 'rb') as f:\n",
    "#     doc = pickle.load(f)\n",
    "with open('./output/docs.binaryfile', 'wb') as f:\n",
    "    pickle.dump(doc, f)"
   ],
   "metadata": {
    "collapsed": false,
    "pycharm": {
     "name": "#%%\n",
     "is_executing": false
    }
   }
  },
  {
   "cell_type": "code",
   "execution_count": 4,
   "outputs": [
    {
     "data": {
      "text/plain": "['1502.00338', '1903.01808', '1806.08999', '0808.0311', '1806.09460']"
     },
     "metadata": {},
     "output_type": "execute_result",
     "execution_count": 4
    }
   ],
   "source": [
    "document_IDs"
   ],
   "metadata": {
    "collapsed": false,
    "pycharm": {
     "name": "#%%\n",
     "is_executing": false
    }
   }
  },
  {
   "cell_type": "code",
   "execution_count": 5,
   "outputs": [
    {
     "data": {
      "text/plain": "['./data/resources/dataset-arXMLiv-08-2019/process-control_physical-model/1502.00338.html',\n './data/resources/dataset-arXMLiv-08-2019/process-control_physical-model/1903.01808.html',\n './data/resources/dataset-arXMLiv-08-2019/process-control_physical-model/1806.08999.html',\n './data/resources/dataset-arXMLiv-08-2019/process-control_physical-model/0808.0311.html',\n './data/resources/dataset-arXMLiv-08-2019/process-control_physical-model/1806.09460.html']"
     },
     "metadata": {},
     "output_type": "execute_result",
     "execution_count": 5
    }
   ],
   "source": [
    "[doc[i].path for i in range(5)]"
   ],
   "metadata": {
    "collapsed": false,
    "pycharm": {
     "name": "#%%\n",
     "is_executing": false
    }
   }
  },
  {
   "cell_type": "code",
   "execution_count": 6,
   "outputs": [],
   "source": [
    "with open('identifiers_1.txt', 'w') as f:\n",
    "    f.write('\\n'.join(doc[1].identifiers))"
   ],
   "metadata": {
    "collapsed": false,
    "pycharm": {
     "name": "#%%\n",
     "is_executing": false
    }
   }
  },
  {
   "cell_type": "code",
   "execution_count": 7,
   "outputs": [
    {
     "data": {
      "text/plain": "111"
     },
     "metadata": {},
     "output_type": "execute_result",
     "execution_count": 7
    }
   ],
   "source": [
    "len(doc[4].sentences)"
   ],
   "metadata": {
    "collapsed": false,
    "pycharm": {
     "name": "#%%\n",
     "is_executing": false
    }
   }
  },
  {
   "cell_type": "code",
   "execution_count": 8,
   "outputs": [
    {
     "data": {
      "text/plain": "111"
     },
     "metadata": {},
     "output_type": "execute_result",
     "execution_count": 8
    }
   ],
   "source": [
    "len(doc[4].identifiers)"
   ],
   "metadata": {
    "collapsed": false,
    "pycharm": {
     "name": "#%%\n",
     "is_executing": false
    }
   }
  },
  {
   "cell_type": "code",
   "execution_count": 9,
   "outputs": [
    {
     "data": {
      "text/plain": "111"
     },
     "metadata": {},
     "output_type": "execute_result",
     "execution_count": 9
    }
   ],
   "source": [
    "len(doc[4].tagged_sentence_list)"
   ],
   "metadata": {
    "collapsed": false,
    "pycharm": {
     "name": "#%%\n",
     "is_executing": false
    }
   }
  },
  {
   "cell_type": "code",
   "execution_count": 10,
   "outputs": [],
   "source": [
    "sentences = doc[4].sentences\n",
    "tagged_sentence_list = doc[4].tagged_sentence_list"
   ],
   "metadata": {
    "collapsed": false,
    "pycharm": {
     "name": "#%%\n",
     "is_executing": false
    }
   }
  },
  {
   "cell_type": "code",
   "execution_count": 11,
   "outputs": [],
   "source": [
    "sentences[1][1]\n",
    "import numpy as np"
   ],
   "metadata": {
    "collapsed": false,
    "pycharm": {
     "name": "#%%\n",
     "is_executing": false
    }
   }
  },
  {
   "cell_type": "code",
   "execution_count": 12,
   "outputs": [
    {
     "data": {
      "text/plain": "(111,)"
     },
     "metadata": {},
     "output_type": "execute_result",
     "execution_count": 12
    }
   ],
   "source": [
    "np.shape(sentences)"
   ],
   "metadata": {
    "collapsed": false,
    "pycharm": {
     "name": "#%%\n",
     "is_executing": false
    }
   }
  },
  {
   "cell_type": "code",
   "execution_count": 13,
   "outputs": [],
   "source": [
    "A = [(1,2), (3,4)]"
   ],
   "metadata": {
    "collapsed": false,
    "pycharm": {
     "name": "#%%\n",
     "is_executing": false
    }
   }
  },
  {
   "cell_type": "code",
   "execution_count": 14,
   "outputs": [],
   "source": [
    "B = []"
   ],
   "metadata": {
    "collapsed": false,
    "pycharm": {
     "name": "#%%\n",
     "is_executing": false
    }
   }
  },
  {
   "cell_type": "code",
   "execution_count": 15,
   "outputs": [],
   "source": [
    "B.append(A)"
   ],
   "metadata": {
    "collapsed": false,
    "pycharm": {
     "name": "#%%\n",
     "is_executing": false
    }
   }
  },
  {
   "cell_type": "code",
   "execution_count": 16,
   "outputs": [
    {
     "data": {
      "text/plain": "[[(1, 2), (3, 4)]]"
     },
     "metadata": {},
     "output_type": "execute_result",
     "execution_count": 16
    }
   ],
   "source": [
    "B"
   ],
   "metadata": {
    "collapsed": false,
    "pycharm": {
     "name": "#%%\n",
     "is_executing": false
    }
   }
  },
  {
   "cell_type": "code",
   "execution_count": 17,
   "outputs": [
    {
     "data": {
      "text/plain": "(408,)"
     },
     "metadata": {},
     "output_type": "execute_result",
     "execution_count": 17
    }
   ],
   "source": [
    "np.shape(tagged_sentence_list[0])"
   ],
   "metadata": {
    "collapsed": false,
    "pycharm": {
     "name": "#%%\n",
     "is_executing": false
    }
   }
  },
  {
   "cell_type": "code",
   "execution_count": 18,
   "outputs": [
    {
     "traceback": [
      "\u001b[0;31m---------------------------------------------------------------------------\u001b[0m",
      "\u001b[0;31mValueError\u001b[0m                                Traceback (most recent call last)",
      "\u001b[0;32m<ipython-input-18-cb28bb0faf25>\u001b[0m in \u001b[0;36m<module>\u001b[0;34m\u001b[0m\n\u001b[0;32m----> 1\u001b[0;31m \u001b[0;32mfor\u001b[0m \u001b[0mmath_id\u001b[0m\u001b[0;34m,\u001b[0m \u001b[0;34m(\u001b[0m\u001b[0msentence_i\u001b[0m\u001b[0;34m,\u001b[0m \u001b[0mtagged_sentence_list_i\u001b[0m\u001b[0;34m)\u001b[0m \u001b[0;32min\u001b[0m \u001b[0mzip\u001b[0m\u001b[0;34m(\u001b[0m\u001b[0msentences\u001b[0m\u001b[0;34m,\u001b[0m \u001b[0mtagged_sentence_list\u001b[0m\u001b[0;34m)\u001b[0m\u001b[0;34m:\u001b[0m\u001b[0;34m\u001b[0m\u001b[0;34m\u001b[0m\u001b[0m\n\u001b[0m\u001b[1;32m      2\u001b[0m     \u001b[0midentifier\u001b[0m \u001b[0;34m=\u001b[0m \u001b[0;34m'MATH{:04d}'\u001b[0m\u001b[0;34m.\u001b[0m\u001b[0mformat\u001b[0m\u001b[0;34m(\u001b[0m\u001b[0mmath_id_\u001b[0m\u001b[0;34m)\u001b[0m\u001b[0;34m\u001b[0m\u001b[0;34m\u001b[0m\u001b[0m\n\u001b[1;32m      3\u001b[0m \u001b[0;34m\u001b[0m\u001b[0m\n\u001b[1;32m      4\u001b[0m     \u001b[0;32mif\u001b[0m \u001b[0;32mnot\u001b[0m \u001b[0mtagged_sentence_list_i\u001b[0m\u001b[0;34m:\u001b[0m\u001b[0;34m\u001b[0m\u001b[0;34m\u001b[0m\u001b[0m\n\u001b[1;32m      5\u001b[0m         \u001b[0;32mcontinue\u001b[0m\u001b[0;34m\u001b[0m\u001b[0;34m\u001b[0m\u001b[0m\n",
      "\u001b[0;31mValueError\u001b[0m: too many values to unpack (expected 2)"
     ],
     "ename": "ValueError",
     "evalue": "too many values to unpack (expected 2)",
     "output_type": "error"
    }
   ],
   "source": [
    "for math_id, (sentence_i, tagged_sentence_list_i) in zip(sentences, tagged_sentence_list):\n",
    "    identifier = 'MATH{:04d}'.format(math_id_)\n",
    "    \n",
    "    if not tagged_sentence_list_i:\n",
    "        continue\n",
    "        \n",
    "    description_candidate_ = []\n",
    "    for tagged_sentence_list_i_ in tagged_sentence_list_i:\n",
    "        indexes_target = [n for n, v in enumerate(tagged_sentence_list_i_) if v == (identifier, 'NN')]\n",
    "        for index_target in indexes_target:\n",
    "            # 1. <description> <identifier>\n",
    "            description=[]\n",
    "            for i in range(index_target-1, -1, -1):\n",
    "                (description_, pos_) = tagged_sentence_list_i_[i]\n",
    "                if (not 'MATH' in description_) and reg_description.fullmatch(pos_):\n",
    "                    description.append(description_)\n",
    "                else:\n",
    "                    break\n",
    "            if description:\n",
    "                description_candidate_.append((' '.join(description), ' '.join(description) + ' ' + identifier))\n",
    "\n",
    "            # 2. <identifier> is <description>\n",
    "            # 3. <identifier> is the <description>\n",
    "            description=[]\n",
    "            if tagged_sentence_list_i_[index_target+1][0]=='is':\n",
    "                mid_pattern = ' is '\n",
    "                if tagged_sentence_list_i_[index_target+2][0]=='the':\n",
    "                    index_start = index_target+3\n",
    "                    mid_pattern+='the '\n",
    "                else:\n",
    "                    index_start = index_target+2\n",
    "                for i in range(index_start, len(tagged_sentence_list_i_)):\n",
    "                    (description_, pos_) = tagged_sentence_list_i_[i]\n",
    "                    if (not 'MATH' in description_) and reg_description.fullmatch(pos_):\n",
    "                        description.append(description_)\n",
    "                    else:\n",
    "                        break\n",
    "                if description:\n",
    "                    description_candidate_.append((' '.join(description), identifier + mid_pattern + ' '.join(description)))\n",
    "\n",
    "            # 4. let <identifier> be the <description>\n",
    "            if (tagged_sentence_list_i_[index_target-1][0]=='let') and (tagged_sentence_list_i_[index_target+1][0]=='be') and (tagged_sentence_list_i_[index_target+2][0]=='the'):\n",
    "                for i in range(index_target+3, len(tagged_sentence_list_i_)):\n",
    "                    (description_, pos_) = tagged_sentence_list_i_[i]\n",
    "                    if (not 'MATH' in description_) and reg_description.fullmatch(pos_):\n",
    "                        description.append(description_)\n",
    "                    else:\n",
    "                        break\n",
    "                if description:\n",
    "                    description_candidate_.append((' '.join(description), 'let ' + identifier + ' be the ' + ' '.join(description)))\n",
    "\n",
    "            # 5. <description> is|are denoted by <identifier>\n",
    "            if (tagged_sentence_list_i_[index_target-1][0]=='by') and (tagged_sentence_list_i_[index_target-2][0]=='denoted') and (tagged_sentence_list_i_[index_target-3][0]==('is' or 'are')):\n",
    "                for i in range(index_target-4, -1, -1):\n",
    "                    (description_, pos_) = tagged_sentence_list_i_[i]\n",
    "                    if (not 'MATH' in description_) and reg_description.fullmatch(pos_):\n",
    "                        description.append(description_)\n",
    "                    else:\n",
    "                        break\n",
    "                if description:\n",
    "                    description_candidate_.append((' '.join(description), ' '.join(description) + ' is|are denoted by ' + identifier))\n",
    "                    description=[]\n",
    "\n",
    "            # 6. <identifier> denotes */DT <description>\n",
    "            if (tagged_sentence_list_i_[index_target+1][0]=='denotes') and (tagged_sentence_list_i_[index_target+2][1]=='DT'):\n",
    "                for i in range(index_target+3, len(tagged_sentence_list_i_)):\n",
    "                    (description_, pos_) = tagged_sentence_list_i_[i]\n",
    "                    if (not 'MATH' in description_) and reg_description.fullmatch(pos_):\n",
    "                        description.append(description_)\n",
    "                    else:\n",
    "                        break\n",
    "                if description:\n",
    "                    description_candidate_.append((' '.join(description), identifier + ' denotes */DT ' + ' '.join(description)))\n"
   ],
   "metadata": {
    "collapsed": false,
    "pycharm": {
     "name": "#%%\n",
     "is_executing": false
    }
   }
  },
  {
   "cell_type": "code",
   "execution_count": null,
   "outputs": [],
   "source": [
    "\n",
    "X = [[i, j] for i in range(10) for j in range(10,20)]"
   ],
   "metadata": {
    "collapsed": false,
    "pycharm": {
     "name": "#%%\n",
     "is_executing": false
    }
   }
  },
  {
   "cell_type": "code",
   "execution_count": null,
   "outputs": [],
   "source": [
    "for i, (x,y,z) in enumerate(zip([1,2,3],[2,3,4],[3,4,5])):\n",
    "    print(i)\n",
    "    print(x, y, z)"
   ],
   "metadata": {
    "collapsed": false,
    "pycharm": {
     "name": "#%%\n",
     "is_executing": false
    }
   }
  },
  {
   "cell_type": "code",
   "execution_count": null,
   "outputs": [],
   "source": [
    "sum([len(sentence.split()) for sentences_ in sentences for sentence in sentences_ ])"
   ],
   "metadata": {
    "collapsed": false,
    "pycharm": {
     "name": "#%%\n",
     "is_executing": false
    }
   }
  },
  {
   "cell_type": "code",
   "execution_count": null,
   "outputs": [],
   "source": [
    "sum([len(v) for v in tagged_sentence_list])"
   ],
   "metadata": {
    "collapsed": false,
    "pycharm": {
     "name": "#%%\n",
     "is_executing": false
    }
   }
  },
  {
   "cell_type": "code",
   "execution_count": null,
   "outputs": [],
   "source": [
    "tagged_sentence_list[0][0]"
   ],
   "metadata": {
    "collapsed": false,
    "pycharm": {
     "name": "#%%\n",
     "is_executing": false
    }
   }
  },
  {
   "cell_type": "code",
   "execution_count": null,
   "outputs": [],
   "source": [
    "sentences[0][0].split()"
   ],
   "metadata": {
    "collapsed": false,
    "pycharm": {
     "name": "#%%\n",
     "is_executing": false
    }
   }
  },
  {
   "cell_type": "code",
   "execution_count": null,
   "outputs": [],
   "source": [],
   "metadata": {
    "collapsed": false,
    "pycharm": {
     "name": "#%%\n",
     "is_executing": false
    }
   }
  },
  {
   "cell_type": "code",
   "execution_count": null,
   "outputs": [],
   "source": [],
   "metadata": {
    "collapsed": false,
    "pycharm": {
     "name": "#%%\n",
     "is_executing": false
    }
   }
  }
 ],
 "metadata": {
  "kernelspec": {
   "display_name": "Python 3",
   "language": "python",
   "name": "python3"
  },
  "language_info": {
   "codemirror_mode": {
    "name": "ipython",
    "version": 3
   },
   "file_extension": ".py",
   "mimetype": "text/x-python",
   "name": "python",
   "nbconvert_exporter": "python",
   "pygments_lexer": "ipython3",
   "version": "3.8.1"
  },
  "pycharm": {
   "stem_cell": {
    "cell_type": "raw",
    "source": [],
    "metadata": {
     "collapsed": false
    }
   }
  }
 },
 "nbformat": 4,
 "nbformat_minor": 4
}