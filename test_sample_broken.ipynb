{
 "cells": [
  {
   "cell_type": "code",
   "execution_count": 1,
   "metadata": {
    "pycharm": {
     "is_executing": false,
     "name": "#%%\n"
    }
   },
   "outputs": [],
   "source": [
    "import lxml.html\n",
    "import time\n",
    "import re\n",
    "from tqdm import tqdm\n",
    "from stanza.server import CoreNLPClient\n",
    "import pickle\n",
    "from projectmir.xmldocument import XMLDocument\n",
    "from projectmir.functions import find_identifier_definition\n",
    "\n",
    "from pathlib import Path\n",
    "import copy"
   ]
  },
  {
   "cell_type": "code",
   "execution_count": 2,
   "metadata": {
    "tags": []
   },
   "outputs": [
    {
     "output_type": "stream",
     "name": "stderr",
     "text": "0it [00:00, ?it/s]elapsed time : 0.0000250 seconds ---\nprocess document\nelapsed time : 0.0072432 seconds ---\nNumber of math components is 50\nelapsed time : 0.0577810 seconds ---\nelapsed time : 0.1001410 seconds ---\nStarting server with command: java -Xmx16G -cp /Users/kato/GoogleDrive/project-mir/data/resources/stanford-corenlp-full-2018-10-05/* edu.stanford.nlp.pipeline.StanfordCoreNLPServer -port 9000 -timeout 600000 -threads 5 -maxCharLength 100000 -quiet True -serverProperties corenlp_server-4fc81acb37c14ba0.props -preload tokenize,ssplit,pos\nelapsed time : 8.1792812 seconds ---\nStarting server with command: java -Xmx16G -cp /Users/kato/GoogleDrive/project-mir/data/resources/stanford-corenlp-full-2018-10-05/* edu.stanford.nlp.pipeline.StanfordCoreNLPServer -port 9000 -timeout 600000 -threads 5 -maxCharLength 100000 -quiet True -serverProperties corenlp_server-387795e3970d4972.props -preload tokenize,ssplit,pos,lemma,ner,parse,depparse,coref\n1it [00:54, 54.65s/it]extract_noun_phrases\nelapsed time : 54.6511853 seconds ---\nelapsed time : 54.6520391 seconds ---\nelapsed time : 0.0000162 seconds ---\nprocess document\nelapsed time : 0.0122051 seconds ---\nNumber of math components is 50\nelapsed time : 0.0450823 seconds ---\nelapsed time : 0.0949142 seconds ---\nStarting server with command: java -Xmx16G -cp /Users/kato/GoogleDrive/project-mir/data/resources/stanford-corenlp-full-2018-10-05/* edu.stanford.nlp.pipeline.StanfordCoreNLPServer -port 9000 -timeout 600000 -threads 5 -maxCharLength 100000 -quiet True -serverProperties corenlp_server-16d637984a754340.props -preload tokenize,ssplit,pos\nelapsed time : 3.0099263 seconds ---\nStarting server with command: java -Xmx16G -cp /Users/kato/GoogleDrive/project-mir/data/resources/stanford-corenlp-full-2018-10-05/* edu.stanford.nlp.pipeline.StanfordCoreNLPServer -port 9000 -timeout 600000 -threads 5 -maxCharLength 100000 -quiet True -serverProperties corenlp_server-f6e1d67da15a4a3c.props -preload tokenize,ssplit,pos,lemma,ner,parse,depparse,coref\n2it [01:39, 49.88s/it]extract_noun_phrases\nelapsed time : 45.1127963 seconds ---\nelapsed time : 45.1131773 seconds ---\n\n"
    }
   ],
   "source": [
    "# p_path = './data/test_latexml/'\n",
    "# p = Path(p_path)\n",
    "# x= list(p.glob('*.html'))#[2:3]#[0:1]\n",
    "# document_IDs = [x_.name[:-5] for x_ in x]\n",
    "\n",
    "# doc = [[]]*len(document_IDs)\n",
    "# for i, document_ID in tqdm(enumerate(document_IDs)):\n",
    "#     document_path = p_path + document_ID + '.html'\n",
    "#     doc_ = find_identifier_definition(document_path)\n",
    "#     doc[i] = doc_\n",
    "\n",
    "# with open(\"doc.pkl\", \"wb\") as f:\n",
    "#     pickle.dump(doc)"
   ]
  },
  {
   "cell_type": "code",
   "execution_count": 18,
   "metadata": {},
   "outputs": [],
   "source": [
    "with open(\"doc.pkl\", \"rb\") as f:\n",
    "    doc = pickle.load(f)"
   ]
  },
  {
   "cell_type": "code",
   "execution_count": 24,
   "metadata": {
    "tags": []
   },
   "outputs": [
    {
     "output_type": "execute_result",
     "data": {
      "text/plain": "['w_i',\n 'T_i',\n 'Q',\n 'T',\n 'w',\n 'V',\n 'ρ',\n 'C',\n 'U_int',\n 'H',\n 'd',\n 't',\n 'T_ref',\n 'Δ',\n 'N_F']"
     },
     "metadata": {},
     "execution_count": 24
    }
   ],
   "source": [
    "doc[0].identifiers"
   ]
  },
  {
   "cell_type": "code",
   "execution_count": 21,
   "metadata": {
    "tags": []
   },
   "outputs": [
    {
     "output_type": "stream",
     "name": "stdout",
     "text": "U_int\n"
    },
    {
     "output_type": "execute_result",
     "data": {
      "text/plain": "[]"
     },
     "metadata": {},
     "execution_count": 21
    }
   ],
   "source": [
    "i=8\n",
    "print(doc[0].identifiers[i])\n",
    "doc[0].description_candidate[i]"
   ]
  },
  {
   "cell_type": "code",
   "execution_count": 22,
   "metadata": {
    "tags": []
   },
   "outputs": [
    {
     "output_type": "stream",
     "name": "stdout",
     "text": "U_int\n"
    },
    {
     "output_type": "execute_result",
     "data": {
      "text/plain": "['For a pure liquid at low or moderate pressures, the internal energy is approximately equal to the enthalpy, MATH0008≈MATH0009, and MATH0009 depends only on temperature (Sandler, 2006).',\n 'Consequently, in the subsequent development, we assume that MATH0008=MATH0009 and U^_int=MATH0009^ where the caret (^) means per unit mass.']"
     },
     "metadata": {},
     "execution_count": 22
    }
   ],
   "source": [
    "i=8\n",
    "print(doc[0].identifiers[i])\n",
    "doc[0].sentences[i]"
   ]
  },
  {
   "cell_type": "code",
   "execution_count": 19,
   "metadata": {
    "tags": [
     "outputPrepend"
    ]
   },
   "outputs": [
    {
     "name": "stdout",
     "output_type": "stream",
     "text": [
      "w_i\n",
      "0 (NP (DT The) (JJ liquid) (NN inlet) (NN stream))\n",
      "1 (NP  (NP (DT a) (JJ single) (NN component))  (PP (IN with)    (NP      (NP (DT a) (NN mass) (NN flow) (NN rate) (NN MATH0000))      (CC and)      (NP (DT an) (JJ inlet) (NN temperature) (NN MATH0001)))))\n",
      "2 (NP (DT a) (JJ single) (NN component))\n",
      "3 (NP  (NP (DT a) (NN mass) (NN flow) (NN rate) (NN MATH0000))  (CC and)  (NP (DT an) (JJ inlet) (NN temperature) (NN MATH0001)))\n",
      "4 (NP (DT a) (NN mass) (NN flow) (NN rate) (NN MATH0000))\n",
      "5 (NP (DT an) (JJ inlet) (NN temperature) (NN MATH0001))\n",
      "6 (NP (DT The)  (NP    (NP (NN inlet))    (CC and)    (NP (NN outlet) (NN flow) (NNS rates))))\n",
      "7 (NP  (NP (NN inlet))  (CC and)  (NP (NN outlet) (NN flow) (NNS rates)))\n",
      "8 (NP (NN inlet))\n",
      "9 (NP (NN outlet) (NN flow) (NNS rates))\n",
      "10 (NP  (NP (NN MATH0000) (JJ =) (NN MATH0004))  (CC and)  (NP (DT the) (JJ liquid) (NN holdup) (NN MATH0005)))\n",
      "11 (NP (NN MATH0000) (JJ =) (NN MATH0004))\n",
      "12 (NP (DT the) (JJ liquid) (NN holdup) (NN MATH0005))\n",
      "T_i\n",
      "0 (NP (DT The) (JJ liquid) (NN inlet) (NN stream))\n",
      "1 (NP  (NP (DT a) (JJ single) (NN component))  (PP (IN with)    (NP      (NP (DT a) (NN mass) (NN flow) (NN rate) (NN MATH0000))      (CC and)      (NP (DT an) (JJ inlet) (NN temperature) (NN MATH0001)))))\n",
      "2 (NP (DT a) (JJ single) (NN component))\n",
      "3 (NP  (NP (DT a) (NN mass) (NN flow) (NN rate) (NN MATH0000))  (CC and)  (NP (DT an) (JJ inlet) (NN temperature) (NN MATH0001)))\n",
      "4 (NP (DT a) (NN mass) (NN flow) (NN rate) (NN MATH0000))\n",
      "5 (NP (DT an) (JJ inlet) (NN temperature) (NN MATH0001))\n",
      "Q\n",
      "0 (NP (DT The) (NN tank) (NNS contents))\n",
      "1 (NP  (NP (DT an) (JJ electrical) (NN heater))  (SBAR    (WHNP (WDT that))    (S      (VP (VBZ provides)        (NP          (NP (DT a) (NN heating) (NN rate))          (, ,)          (NP (NN MATH0002)))))))\n",
      "2 (NP (DT an) (JJ electrical) (NN heater))\n",
      "3 (NP  (NP (DT a) (NN heating) (NN rate))  (, ,)  (NP (NN MATH0002)))\n",
      "4 (NP (DT a) (NN heating) (NN rate))\n",
      "5 (NP (NN MATH0002))\n",
      "T\n",
      "0 (NP  (NP (NNP Perfect)    (VP (VBG mixing)))  (: :)  (S    (ADVP (RB thus))    (, ,)    (NP (DT the) (NN exit) (NN temperature) (NN MATH0003))    (VP (VBZ is)      (ADVP (RB also))      (NP        (NP (DT the) (NN temperature))        (PP (IN of)          (NP (DT the) (NN tank) (NNS contents))))))  (. .))\n",
      "1 (NP (NNP Perfect)  (VP (VBG mixing)))\n",
      "2 (NP (DT the) (NN exit) (NN temperature) (NN MATH0003))\n",
      "3 (NP  (NP (DT the) (NN temperature))  (PP (IN of)    (NP (DT the) (NN tank) (NNS contents))))\n",
      "4 (NP (DT the) (NN temperature))\n",
      "5 (NP (DT the) (NN tank) (NNS contents))\n",
      "6 (NP  (NP (DT the) (NN liquid))  (PP (IN in)    (NP (DT the) (NN tank))))\n",
      "7 (NP (DT the) (NN liquid))\n",
      "8 (NP (DT the) (NN tank))\n",
      "9 (NP (DT a) (NN temperature) (NN MATH0003))\n",
      "10 (NP  (NP (DT an) (NN enthalpy))  (, ,)  (NP (NN MATH0009) (NN ^)))\n",
      "11 (NP (DT an) (NN enthalpy))\n",
      "12 (NP (NN MATH0009) (NN ^))\n",
      "w\n",
      "0 (NP (DT The)  (NP    (NP (NN inlet))    (CC and)    (NP (NN outlet) (NN flow) (NNS rates))))\n",
      "1 (NP  (NP (NN inlet))  (CC and)  (NP (NN outlet) (NN flow) (NNS rates)))\n",
      "2 (NP (NN inlet))\n",
      "3 (NP (NN outlet) (NN flow) (NNS rates))\n",
      "4 (NP  (NP (NN MATH0000) (JJ =) (NN MATH0004))  (CC and)  (NP (DT the) (JJ liquid) (NN holdup) (NN MATH0005)))\n",
      "5 (NP (NN MATH0000) (JJ =) (NN MATH0004))\n",
      "6 (NP (DT the) (JJ liquid) (NN holdup) (NN MATH0005))\n",
      "V\n",
      "0 (NP (DT The)  (NP    (NP (NN inlet))    (CC and)    (NP (NN outlet) (NN flow) (NNS rates))))\n",
      "1 (NP  (NP (NN inlet))  (CC and)  (NP (NN outlet) (NN flow) (NNS rates)))\n",
      "2 (NP (NN inlet))\n",
      "3 (NP (NN outlet) (NN flow) (NNS rates))\n",
      "4 (NP  (NP (NN MATH0000) (JJ =) (NN MATH0004))  (CC and)  (NP (DT the) (JJ liquid) (NN holdup) (NN MATH0005)))\n",
      "5 (NP (NN MATH0000) (JJ =) (NN MATH0004))\n",
      "6 (NP (DT the) (JJ liquid) (NN holdup) (NN MATH0005))\n",
      "ρ\n",
      "0 (NP  (NP (DT The) (NN density) (NN MATH0006))  (CC and)  (NP    (NP (NN heat) (NN capacity) (NN MATH0007))    (PP (IN of)      (NP (DT the) (NN liquid)))))\n",
      "1 (NP (DT The) (NN density) (NN MATH0006))\n",
      "2 (NP  (NP (NN heat) (NN capacity) (NN MATH0007))  (PP (IN of)    (NP (DT the) (NN liquid))))\n",
      "3 (NP (NN heat) (NN capacity) (NN MATH0007))\n",
      "4 (NP (DT the) (NN liquid))\n",
      "C\n",
      "0 (NP  (NP (DT The) (NN density) (NN MATH0006))  (CC and)  (NP    (NP (NN heat) (NN capacity) (NN MATH0007))    (PP (IN of)      (NP (DT the) (NN liquid)))))\n",
      "1 (NP (DT The) (NN density) (NN MATH0006))\n",
      "2 (NP  (NP (NN heat) (NN capacity) (NN MATH0007))  (PP (IN of)    (NP (DT the) (NN liquid))))\n",
      "3 (NP (NN heat) (NN capacity) (NN MATH0007))\n",
      "4 (NP (DT the) (NN liquid))\n",
      "5 (NP (NN MATH0007))\n",
      "6 (NP  (NP (DT the) (JJ constant) (NN pressure) (NN heat) (NN capacity))  (PRN (-LRB- -LRB-)    (VP (VBN assumed)      (S        (VP (TO to)          (VP (VB be)            (ADJP (JJ constant))))))    (-RRB- -RRB-)))\n",
      "7 (NP (DT the) (JJ constant) (NN pressure) (NN heat) (NN capacity))\n",
      "8 (NP (DT the) (NN MATH0012) (NNS terms))\n",
      "9 (NP (NN MATH0007))\n",
      "10 (NP (NN temperature))\n",
      "U_int\n",
      "0 (NP  (NP (DT a) (JJ pure) (NN liquid))  (PP (IN at)    (NP      (ADJP        (ADJP (JJ low))        (CC or)        (ADJP (JJ moderate)))      (NNS pressures))))\n",
      "1 (NP (DT a) (JJ pure) (NN liquid))\n",
      "2 (NP  (ADJP    (ADJP (JJ low))    (CC or)    (ADJP (JJ moderate)))  (NNS pressures))\n",
      "3 (NP (DT the) (JJ internal) (NN energy))\n",
      "4 (NP (DT the) (NN enthalpy))\n",
      "5 (NP  (NP (NN MATH0008) (CD ≈) (NN MATH0009))  (, ,)  (CC and)  (NP (NN MATH0009)))\n",
      "6 (NP (NN MATH0008) (CD ≈) (NN MATH0009))\n",
      "7 (NP (NN MATH0009))\n",
      "8 (NP  (NP (NN temperature))  (PRN (-LRB- -LRB-)    (NP      (NP (NNP Sandler))      (, ,)      (NP (CD 2006)))    (-RRB- -RRB-)))\n",
      "9 (NP (NN temperature))\n",
      "10 (NP  (NP (NNP Sandler))  (, ,)  (NP (CD 2006)))\n",
      "11 (NP (NNP Sandler))\n",
      "12 (NP (CD 2006))\n",
      "13 (NP (DT the) (JJ subsequent) (NN development))\n",
      "14 (NP (PRP we))\n",
      "15 (NP  (NP (NN MATH0008) (JJ =) (NN MATH0009))  (CC and)  (NP (NNP U) (NNP ^)))\n",
      "16 (NP (NN MATH0008) (JJ =) (NN MATH0009))\n",
      "17 (NP (NNP U) (NNP ^))\n",
      "18 (NP  (NP (NN int) (JJ =) (NN MATH0009) (NN ^))  (SBAR    (WHADVP (WRB where))    (S      (NP        (NP (DT the) (NN caret))        (PRN (-LRB- -LRB-)          (NP (NN ^))          (-RRB- -RRB-)))      (VP (VBZ means)        (PP (IN per)          (NP (NN unit) (NN mass)))))))\n",
      "19 (NP (NN int) (JJ =) (NN MATH0009) (NN ^))\n",
      "20 (NP  (NP (DT the) (NN caret))  (PRN (-LRB- -LRB-)    (NP (NN ^))    (-RRB- -RRB-)))\n",
      "21 (NP (DT the) (NN caret))\n",
      "22 (NP (NN ^))\n",
      "23 (NP (NN unit) (NN mass))\n",
      "H\n",
      "0 (NP  (NP (DT a) (JJ pure) (NN liquid))  (PP (IN at)    (NP      (ADJP        (ADJP (JJ low))        (CC or)        (ADJP (JJ moderate)))      (NNS pressures))))\n",
      "1 (NP (DT a) (JJ pure) (NN liquid))\n",
      "2 (NP  (ADJP    (ADJP (JJ low))    (CC or)    (ADJP (JJ moderate)))  (NNS pressures))\n",
      "3 (NP (DT the) (JJ internal) (NN energy))\n",
      "4 (NP (DT the) (NN enthalpy))\n",
      "5 (NP  (NP (NN MATH0008) (CD ≈) (NN MATH0009))  (, ,)  (CC and)  (NP (NN MATH0009)))\n",
      "6 (NP (NN MATH0008) (CD ≈) (NN MATH0009))\n",
      "7 (NP (NN MATH0009))\n",
      "8 (NP  (NP (NN temperature))  (PRN (-LRB- -LRB-)    (NP      (NP (NNP Sandler))      (, ,)      (NP (CD 2006)))    (-RRB- -RRB-)))\n",
      "9 (NP (NN temperature))\n",
      "10 (NP  (NP (NNP Sandler))  (, ,)  (NP (CD 2006)))\n",
      "11 (NP (NNP Sandler))\n",
      "12 (NP (CD 2006))\n",
      "13 (NP (DT the) (JJ subsequent) (NN development))\n",
      "14 (NP (PRP we))\n",
      "15 (NP  (NP (NN MATH0008) (JJ =) (NN MATH0009))  (CC and)  (NP (NNP U) (NNP ^)))\n",
      "16 (NP (NN MATH0008) (JJ =) (NN MATH0009))\n",
      "17 (NP (NNP U) (NNP ^))\n",
      "18 (NP  (NP (NN int) (JJ =) (NN MATH0009) (NN ^))  (SBAR    (WHADVP (WRB where))    (S      (NP        (NP (DT the) (NN caret))        (PRN (-LRB- -LRB-)          (NP (NN ^))          (-RRB- -RRB-)))      (VP (VBZ means)        (PP (IN per)          (NP (NN unit) (NN mass)))))))\n",
      "19 (NP (NN int) (JJ =) (NN MATH0009) (NN ^))\n",
      "20 (NP  (NP (DT the) (NN caret))  (PRN (-LRB- -LRB-)    (NP (NN ^))    (-RRB- -RRB-)))\n",
      "21 (NP (DT the) (NN caret))\n",
      "22 (NP (NN ^))\n",
      "23 (NP (NN unit) (NN mass))\n",
      "24 (NP  (NP (DT the) (NN liquid))  (PP (IN in)    (NP (DT the) (NN tank))))\n",
      "25 (NP (DT the) (NN liquid))\n",
      "26 (NP (DT the) (NN tank))\n",
      "27 (NP (DT a) (NN temperature) (NN MATH0003))\n",
      "28 (NP  (NP (DT an) (NN enthalpy))  (, ,)  (NP (NN MATH0009) (NN ^)))\n",
      "29 (NP (DT an) (NN enthalpy))\n",
      "30 (NP (NN MATH0009) (NN ^))\n",
      "31 (NP (NN H) (SYM ^)  (S    (VP (SYM _)      (SBAR        (S          (NP (NN ref))          (VP (VBZ is)            (NP              (NP (DT the) (NN value))              (PP (IN of)                (NP (NN MATH0009) (NN ^))))            (PP (IN at)              (NP (NN MATH0012)))))))))\n",
      "32 (NP (NN ref))\n",
      "33 (NP  (NP (DT the) (NN value))  (PP (IN of)    (NP (NN MATH0009) (NN ^))))\n",
      "34 (NP (DT the) (NN value))\n",
      "35 (NP (NN MATH0009) (NN ^))\n",
      "36 (NP (NN MATH0012))\n",
      "d\n",
      "t\n",
      "T_ref\n",
      "0 (NP (NN H) (SYM ^)  (S    (VP (SYM _)      (SBAR        (S          (NP (NN ref))          (VP (VBZ is)            (NP              (NP (DT the) (NN value))              (PP (IN of)                (NP (NN MATH0009) (NN ^))))            (PP (IN at)              (NP (NN MATH0012)))))))))\n",
      "1 (NP (NN ref))\n",
      "2 (NP  (NP (DT the) (NN value))  (PP (IN of)    (NP (NN MATH0009) (NN ^))))\n",
      "3 (NP (DT the) (NN value))\n",
      "4 (NP (NN MATH0009) (NN ^))\n",
      "5 (NP (NN MATH0012))\n",
      "6 (NP (DT the) (NN MATH0012) (NNS terms))\n",
      "7 (NP (NN MATH0007))\n",
      "8 (NP (NN temperature))\n",
      "Δ\n",
      "N_F\n",
      "0 (NP  (NP (DT the) (NNS degrees))  (PP (IN of)    (NP (NN freedom))))\n",
      "1 (NP (DT the) (NNS degrees))\n",
      "2 (NP (NN freedom))\n",
      "3 (NP  (NP (NN MATH0014))  (ADJP (JJ =)    (S      (NP (CD 4-1))      (VP (JJ =)        (NP (CD 3))))))\n",
      "4 (NP (NN MATH0014))\n",
      "5 (NP (CD 4-1))\n",
      "6 (NP (CD 3))\n"
     ]
    }
   ],
   "source": [
    "for i, identifier in enumerate(doc[0].identifiers):\n",
    "    print(identifier)\n",
    "    ii=0\n",
    "    for x in doc[0].candidate_noun_phrases_list[i]:\n",
    "        for x_ in x:\n",
    "            print(ii, x_.replace('\\n', ''))\n",
    "            ii+=1\n",
    "\n"
   ]
  },
  {
   "cell_type": "code",
   "execution_count": 57,
   "metadata": {},
   "outputs": [
    {
     "name": "stdout",
     "output_type": "stream",
     "text": [
      "sigma_d=4.1608100762552915\n",
      "sigma_s=2.4022448175728996\n"
     ]
    }
   ],
   "source": [
    "import math\n",
    "sigma_d = math.sqrt(12/math.log(2))\n",
    "sigma_s = 2 / math.sqrt(math.log(2))\n",
    "a = 1\n",
    "b = 1\n",
    "c = 0.1\n",
    "d = 1\n",
    "print(f'{sigma_d=}')\n",
    "print(f'{sigma_s=}')"
   ]
  },
  {
   "cell_type": "code",
   "execution_count": 58,
   "metadata": {},
   "outputs": [],
   "source": [
    "def rank_based_pagel(D, n, tf):\n",
    "    R_sigma_d = math.exp(- (D**2 - 1) / 2 / sigma_d**2)\n",
    "    R_sigma_s = math.exp(- (n**2 - 1) / 2 / sigma_s**2)\n",
    "    print(f'{R_sigma_d=}, {R_sigma_s=}')\n",
    "    return  (a * R_sigma_d + b * R_sigma_s + c * tf) / (a + b + c)"
   ]
  },
  {
   "cell_type": "code",
   "execution_count": 60,
   "metadata": {},
   "outputs": [],
   "source": [
    "def rank_proposed(D, n, tf, M=0):\n",
    "    R_sigma_d = math.exp(- (D**2 - 1) / 2 / sigma_d**2)\n",
    "    R_sigma_s = math.exp(- (n**2 - 1) / 2 / sigma_s**2)\n",
    "    print(f'{R_sigma_d=}, {R_sigma_s=}')\n",
    "    return  (a * R_sigma_d + b * R_sigma_s + c * tf + d * M) / (a + b + c + d)"
   ]
  },
  {
   "cell_type": "code",
   "execution_count": 61,
   "metadata": {},
   "outputs": [
    {
     "name": "stdout",
     "output_type": "stream",
     "text": [
      "rank proposed by Pagel\n",
      "R_sigma_d=1.0, R_sigma_s=1.0905077326652577\n",
      "1.0430989203167895\n",
      "R_sigma_d=0.7937005259840998, R_sigma_s=1.0905077326652577\n",
      "0.9448610755473131\n",
      "R_sigma_d=1.0, R_sigma_s=1.0905077326652577\n",
      "1.0430989203167895\n",
      "rank proposed in this research\n",
      "R_sigma_d=1.0, R_sigma_s=1.0905077326652577\n",
      "0.7066153976339542\n",
      "R_sigma_d=0.7937005259840998, R_sigma_s=1.0905077326652577\n",
      "0.6400671802094702\n",
      "R_sigma_d=1.0, R_sigma_s=1.0905077326652577\n",
      "0.7066153976339542\n"
     ]
    }
   ],
   "source": [
    "# N_f\n",
    "print('rank proposed by Pagel')\n",
    "print(rank_based_pagel(1, 0, 1))\n",
    "print(rank_based_pagel(3, 0, 1))\n",
    "print(rank_based_pagel(1, 0, 1))\n",
    "\n",
    "print('rank proposed in this research')\n",
    "print(rank_proposed(1, 0, 1, 0))\n",
    "print(rank_proposed(3, 0, 1, 0))\n",
    "print(rank_proposed(1, 0, 1, 0))"
   ]
  },
  {
   "cell_type": "markdown",
   "metadata": {},
   "source": [
    "#### U_int\n",
    "- a pure liquid at low or moderate pressure  \n",
    "- a pure liquid  \n",
    "- low or moderate pressures  \n",
    "- the internal energy  \n",
    "- the enthalpy  \n",
    "- temperature  \n",
    "- the subsequent development  \n",
    "- we  \n",
    "- the caret (^)  \n",
    "- unit mass"
   ]
  },
  {
   "cell_type": "code",
   "execution_count": 62,
   "metadata": {},
   "outputs": [
    {
     "name": "stdout",
     "output_type": "stream",
     "text": [
      "rank proposed by Pagel\n",
      "R_sigma_d=0.09921256574801256, R_sigma_s=1.0905077326652577\n",
      "0.6141525230539382\n",
      "R_sigma_d=0.003582047043768253, R_sigma_s=1.0905077326652577\n",
      "0.5686141808138219\n",
      "R_sigma_d=0.09921256574801256, R_sigma_s=1.0905077326652577\n",
      "0.6141525230539382\n",
      "R_sigma_d=0.363913295710547, R_sigma_s=1.0905077326652577\n",
      "0.7402004897027642\n",
      "R_sigma_d=1.029302236643492, R_sigma_s=1.0905077326652577\n",
      "1.0570523663375\n",
      "R_sigma_d=0.2500000000000001, R_sigma_s=1.0905077326652577\n",
      "0.6859560631739323\n",
      "R_sigma_d=0.7937005259840998, R_sigma_s=1.0\n",
      "0.9017621552305236\n",
      "R_sigma_d=0.9170040432046712, R_sigma_s=1.0\n",
      "0.9604781158117482\n",
      "R_sigma_d=0.2500000000000001, R_sigma_s=1.0\n",
      "0.6428571428571429\n",
      "R_sigma_d=0.003582047043768253, R_sigma_s=1.0\n",
      "0.5255152604970325\n",
      "rank proposed in this research\n",
      "R_sigma_d=0.09921256574801256, R_sigma_s=1.0905077326652577\n",
      "0.4160388059397646\n",
      "R_sigma_d=0.003582047043768253, R_sigma_s=1.0905077326652577\n",
      "0.3851902515190406\n",
      "R_sigma_d=0.09921256574801256, R_sigma_s=1.0905077326652577\n",
      "0.4160388059397646\n",
      "R_sigma_d=0.363913295710547, R_sigma_s=1.0905077326652577\n",
      "0.8240067833470338\n",
      "R_sigma_d=1.029302236643492, R_sigma_s=1.0905077326652577\n",
      "0.7160677320350806\n",
      "R_sigma_d=0.2500000000000001, R_sigma_s=1.0905077326652577\n",
      "0.46467991376298645\n",
      "R_sigma_d=0.7937005259840998, R_sigma_s=1.0\n",
      "0.6108711374142257\n",
      "R_sigma_d=0.9170040432046712, R_sigma_s=1.0\n",
      "0.650646465549894\n",
      "R_sigma_d=0.2500000000000001, R_sigma_s=1.0\n",
      "0.43548387096774194\n",
      "R_sigma_d=0.003582047043768253, R_sigma_s=1.0\n",
      "0.6785748538850865\n"
     ]
    }
   ],
   "source": [
    "# U_int\n",
    "print('rank proposed by Pagel')\n",
    "print(rank_based_pagel(9, 0, 1))\n",
    "print(rank_based_pagel(14, 0, 1))\n",
    "print(rank_based_pagel(9, 0, 1))\n",
    "print(rank_based_pagel(6, 0, 1))\n",
    "print(rank_based_pagel(0, 0, 1))\n",
    "print(rank_based_pagel(7, 0, 1))\n",
    "print(rank_based_pagel(3, 1, 1))\n",
    "print(rank_based_pagel(2, 1, 1))\n",
    "print(rank_based_pagel(7, 1, 1))\n",
    "print(rank_based_pagel(14, 1, 1))\n",
    "\n",
    "print('rank proposed in this research')\n",
    "print(rank_proposed(9, 0, 1))\n",
    "print(rank_proposed(14, 0, 1))\n",
    "print(rank_proposed(9, 0, 1))\n",
    "print(rank_proposed(6, 0, 1, 1))\n",
    "print(rank_proposed(0, 0, 1))\n",
    "print(rank_proposed(7, 0, 1))\n",
    "print(rank_proposed(3, 1, 1))\n",
    "print(rank_proposed(2, 1, 1))\n",
    "print(rank_proposed(7, 1, 1))\n",
    "print(rank_proposed(14, 1, 1, 1))"
   ]
  },
  {
   "cell_type": "code",
   "execution_count": null,
   "metadata": {},
   "outputs": [],
   "source": [
    "with open('extracted_text.txt', 'w') as f:\n",
    "    f.write(x.text)"
   ]
  },
 ],
 "metadata": {
  "kernelspec": {
   "display_name": "Python 3.8.2 64-bit",
   "language": "python",
   "name": "python38264bitc946c5fcbf6e4437bbd7d828cf108b24"
  },
  "language_info": {
   "codemirror_mode": {
    "name": "ipython",
    "version": 3
   },
   "file_extension": ".py",
   "mimetype": "text/x-python",
   "name": "python",
   "nbconvert_exporter": "python",
   "pygments_lexer": "ipython3",
   "version": "3.8.2-final"
  },
  "pycharm": {
   "stem_cell": {
    "cell_type": "raw",
    "metadata": {
     "collapsed": false
    },
    "source": []
   }
  }
 },
 "nbformat": 4,
 "nbformat_minor": 1
}
