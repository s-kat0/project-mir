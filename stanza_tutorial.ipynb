{
 "cells": [
  {
   "cell_type": "code",
   "execution_count": 1,
   "metadata": {},
   "outputs": [],
   "source": [
    "# import stanza\n",
    "# stanza.download('en')"
   ]
  },
  {
   "cell_type": "code",
   "execution_count": 39,
   "outputs": [
    {
     "output_type": "stream",
     "name": "stdout",
     "text": "---\ninput text\n\nChris Manning is a nice person\n---\nstarting up Java Stanford CoreNLP Server...\nStarting server with command: java -Xmx16G -cp /Users/kato/GoogleDrive/project-mir/data/resources/stanford-corenlp-full-2018-10-05/* edu.stanford.nlp.pipeline.StanfordCoreNLPServer -port 9000 -timeout 30000 -threads 5 -maxCharLength 100000 -quiet True -serverProperties corenlp_server-0ddc8e1ba1124284.props -preload tokenize,ssplit,pos,lemma,ner,parse,depparse,coref\n{'sentences': [{'0': {'match': '(NP (NNP Chris) (NNP Manning))\\n', 'namedNodes': []}, '1': {'match': '(NP (DT a) (JJ nice) (NN person))\\n', 'namedNodes': []}}]}\n"
    }
   ],
   "source": [
    "from stanza.server import CoreNLPClient\n",
    "\n",
    "# example text\n",
    "print('---')\n",
    "print('input text')\n",
    "print('')\n",
    "\n",
    "text = \"Chris Manning is a nice person\"#. Chris wrote a simple sentence. He also gives oranges to people.\"\n",
    "\n",
    "print(text)\n",
    "\n",
    "# set up the client\n",
    "print('---')\n",
    "print('starting up Java Stanford CoreNLP Server...')\n",
    "\n",
    "# set up the client\n",
    "with CoreNLPClient(annotators=['tokenize','ssplit','pos','lemma','ner', 'parse', 'depparse','coref'], timeout=30000, memory='16G') as client:\n",
    "\n",
    "    # Tregex example\n",
    "    pattern = 'NP'\n",
    "    matches = client.tregex(text, pattern)\n",
    "    for match in matches:\n",
    "        print(matches)"
   ],
   "metadata": {
    "collapsed": false,
    "pycharm": {
     "name": "#%%\n"
    }
   }
  },
  {
   "cell_type": "code",
   "execution_count": 43,
   "metadata": {},
   "outputs": [
    {
     "output_type": "execute_result",
     "data": {
      "text/plain": "{'0': {'match': '(NP (NNP Chris) (NNP Manning))\\n', 'namedNodes': []},\n '1': {'match': '(NP (DT a) (JJ nice) (NN person))\\n', 'namedNodes': []}}"
     },
     "metadata": {},
     "execution_count": 43
    }
   ],
   "source": [
    "matches['sentences'][0]"
   ]
  },
  {
   "cell_type": "code",
   "execution_count": 103,
   "metadata": {},
   "outputs": [
    {
     "output_type": "stream",
     "name": "stdout",
     "text": "xxx@xxxx\nxxx@xxxx\n"
    }
   ],
   "source": [
    "a = []\n",
    "for match in matches['sentences'][0]:\n",
    "    print(\"xxx@xxxx\")\n",
    "    a.append(matches['sentences'][0][match]['match'])\n",
    "    # for candidate in matches['sentences'][0][match]['match'].split(' ' )[1:]:\n",
    "        # print('xxx')\n",
    "        # print(candidate.split('\\n'))"
   ]
  },
  {
   "cell_type": "code",
   "execution_count": 111,
   "metadata": {},
   "outputs": [],
   "source": [
    "a =  [matches['sentences'][0][match]['match'].rstrip() for match in matches['sentences'][0]]"
   ]
  },
  {
   "cell_type": "code",
   "execution_count": 112,
   "metadata": {},
   "outputs": [
    {
     "output_type": "execute_result",
     "data": {
      "text/plain": "['(NP (NNP Chris) (NNP Manning))', '(NP (DT a) (JJ nice) (NN person))']"
     },
     "metadata": {},
     "execution_count": 112
    }
   ],
   "source": [
    "a"
   ]
  },
  {
   "cell_type": "code",
   "execution_count": 117,
   "metadata": {},
   "outputs": [
    {
     "output_type": "stream",
     "name": "stdout",
     "text": "aaa\naaa\naaf\n"
    }
   ],
   "source": [
    "print(\"aaa\",\n",
    "    \"aaa\",\n",
    "    \"aaf\", sep='\\n')"
   ]
  },
  {
   "cell_type": "code",
   "execution_count": 98,
   "metadata": {},
   "outputs": [],
   "source": [
    "candidates = [x.rstrip().replace(\")\",\"\") for x in a.split(' ') if (\")\" in x)]\n",
    "candidate = ' '.join(candidates)"
   ]
  },
  {
   "cell_type": "code",
   "execution_count": 99,
   "metadata": {},
   "outputs": [
    {
     "output_type": "stream",
     "name": "stdout",
     "text": "['a', 'nice', 'person']\n"
    }
   ],
   "source": [
    "\n",
    "print(candidates)"
   ]
  },
  {
   "cell_type": "code",
   "execution_count": null,
   "metadata": {},
   "outputs": [],
   "source": []
  },
  {
   "cell_type": "code",
   "execution_count": 110,
   "metadata": {},
   "outputs": [
    {
     "output_type": "execute_result",
     "data": {
      "text/plain": "[{'0': {'match': '(NP (NNP Chris) (NNP Manning))\\n', 'namedNodes': []},\n  '1': {'match': '(NP (DT a) (JJ nice) (NN person))\\n', 'namedNodes': []}}]"
     },
     "metadata": {},
     "execution_count": 110
    }
   ],
   "source": [
    "matches['sentences']"
   ]
  },
  {
   "cell_type": "code",
   "execution_count": 54,
   "metadata": {},
   "outputs": [
    {
     "output_type": "execute_result",
     "data": {
      "text/plain": "[{'0': {'match': '(NP (NNP Chris) (NNP Manning))\\n', 'namedNodes': []},\n  '1': {'match': '(NP (DT a) (JJ nice) (NN person))\\n', 'namedNodes': []}}]"
     },
     "metadata": {},
     "execution_count": 54
    }
   ],
   "source": [
    "matches['sentences']"
   ]
  },
  {
   "cell_type": "code",
   "execution_count": null,
   "metadata": {},
   "outputs": [],
   "source": []
  }
 ],
 "metadata": {
  "kernelspec": {
   "display_name": "Python 3.8.2 64-bit",
   "language": "python",
   "name": "python38264bit8a65991553234144bf61921c380ae36b"
  },
  "language_info": {
   "codemirror_mode": {
    "name": "ipython",
    "version": 3
   },
   "file_extension": ".py",
   "mimetype": "text/x-python",
   "name": "python",
   "nbconvert_exporter": "python",
   "pygments_lexer": "ipython3",
   "version": "3.8.2-final"
  },
  "pycharm": {
   "stem_cell": {
    "cell_type": "raw",
    "source": [],
    "metadata": {
     "collapsed": false
    }
   }
  }
 },
 "nbformat": 4,
 "nbformat_minor": 1
}