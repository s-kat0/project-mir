{
 "cells": [
  {
   "cell_type": "code",
   "execution_count": 3,
   "metadata": {},
   "outputs": [],
   "source": [
    "import stanza"
   ]
  },
  {
   "cell_type": "code",
   "execution_count": 5,
   "metadata": {
    "tags": []
   },
   "outputs": [
    {
     "output_type": "stream",
     "name": "stderr",
     "text": "2020-07-13 12:31:33 WARNING: Can not find mwt: default from official model list. Ignoring it.\n2020-07-13 12:31:33 INFO: Loading these models for language: en (English):\n=======================\n| Processor | Package |\n-----------------------\n| tokenize  | ewt     |\n| pos       | ewt     |\n| lemma     | ewt     |\n| depparse  | ewt     |\n=======================\n\n2020-07-13 12:31:33 INFO: Use device: cpu\n2020-07-13 12:31:33 INFO: Loading: tokenize\n2020-07-13 12:31:33 INFO: Loading: pos\n2020-07-13 12:31:34 INFO: Loading: lemma\n2020-07-13 12:31:34 INFO: Loading: depparse\n2020-07-13 12:31:35 INFO: Done loading processors!\nid: 1\tword: The\thead id: 2\thead: president\tdeprel: det\nid: 2\tword: president\thead id: 11\thead: visited\tdeprel: nsubj\nid: 3\tword: Obama\thead id: 2\thead: president\tdeprel: flat\nid: 4\tword: ,\thead id: 2\thead: president\tdeprel: punct\nid: 5\tword: who\thead id: 7\thead: born\tdeprel: nsubj:pass\nid: 6\tword: was\thead id: 7\thead: born\tdeprel: aux:pass\nid: 7\tword: born\thead id: 2\thead: president\tdeprel: acl:relcl\nid: 8\tword: in\thead id: 9\thead: U.S.\tdeprel: case\nid: 9\tword: U.S.\thead id: 7\thead: born\tdeprel: obl\nid: 10\tword: ,\thead id: 11\thead: visited\tdeprel: punct\nid: 11\tword: visited\thead id: 0\thead: root\tdeprel: root\nid: 12\tword: Japan\thead id: 11\thead: visited\tdeprel: obj\nid: 13\tword: .\thead id: 11\thead: visited\tdeprel: punct\n"
    }
   ],
   "source": [
    "nlp = stanza.Pipeline(lang='en', processors='tokenize, mwt, pos, lemma, depparse')\n",
    "doc = nlp('The president Obama, who was born in U.S., visited Japan.')\n",
    "print(*[f'id: {word.id}\\tword: {word.text}\\thead id: {word.head}\\thead: {sent.words[word.head-1].text if word.head> 0 else \"root\"}\\tdeprel: {word.deprel}' for sent in doc.sentences for word in sent.words], sep='\\n')"
   ]
  },
  {
   "cell_type": "code",
   "execution_count": null,
   "metadata": {},
   "outputs": [],
   "source": []
  },
  {
   "cell_type": "code",
   "execution_count": null,
   "metadata": {},
   "outputs": [],
   "source": []
  },
  {
   "cell_type": "code",
   "execution_count": 1,
   "metadata": {},
   "outputs": [],
   "source": [
    "# import stanza\n",
    "# stanza.download('en')"
   ]
  },
  {
   "cell_type": "code",
   "execution_count": 1,
   "outputs": [
    {
     "output_type": "stream",
     "name": "stdout",
     "text": "---\ninput text\n\nChris Manning is a nice person\n---\nstarting up Java Stanford CoreNLP Server...\nStarting server with command: java -Xmx16G -cp /Users/kato/GoogleDrive/project-mir/data/resources/stanford-corenlp-full-2018-10-05/* edu.stanford.nlp.pipeline.StanfordCoreNLPServer -port 9000 -timeout 30000 -threads 5 -maxCharLength 100000 -quiet True -serverProperties corenlp_server-04fc7c5413e5451e.props -preload tokenize,ssplit,pos,lemma,ner,parse,depparse,coref\n{'sentences': [{'0': {'match': '(NP (NNP Chris) (NNP Manning))\\n', 'namedNodes': []}, '1': {'match': '(NP (DT a) (JJ nice) (NN person))\\n', 'namedNodes': []}}]}\n"
    }
   ],
   "source": [
    "from stanza.server import CoreNLPClient\n",
    "\n",
    "# example text\n",
    "print('---')\n",
    "print('input text')\n",
    "print('')\n",
    "\n",
    "text = \"Chris Manning is a nice person\"#. Chris wrote a simple sentence. He also gives oranges to people.\"\n",
    "\n",
    "print(text)\n",
    "\n",
    "# set up the client\n",
    "print('---')\n",
    "print('starting up Java Stanford CoreNLP Server...')\n",
    "\n",
    "# set up the client\n",
    "with CoreNLPClient(annotators=['tokenize','ssplit','pos','lemma','ner', 'parse', 'depparse','coref'], timeout=30000, memory='16G') as client:\n",
    "\n",
    "    # Tregex example\n",
    "    pattern = 'NP'\n",
    "    matches = client.tregex(text, pattern)\n",
    "    for match in matches:\n",
    "        print(matches)"
   ],
   "metadata": {
    "collapsed": false,
    "pycharm": {
     "name": "#%%\n"
    },
    "tags": []
   }
  },
  {
   "cell_type": "code",
   "execution_count": 6,
   "metadata": {},
   "outputs": [
    {
     "output_type": "execute_result",
     "data": {
      "text/plain": "{'0': {'match': '(NP (NNP Chris) (NNP Manning))\\n', 'namedNodes': []},\n '1': {'match': '(NP (DT a) (JJ nice) (NN person))\\n', 'namedNodes': []}}"
     },
     "metadata": {},
     "execution_count": 6
    }
   ],
   "source": [
    "matches['sentences'][0]"
   ]
  },
  {
   "cell_type": "code",
   "execution_count": 103,
   "metadata": {},
   "outputs": [
    {
     "output_type": "stream",
     "name": "stdout",
     "text": "xxx@xxxx\nxxx@xxxx\n"
    }
   ],
   "source": [
    "a = []\n",
    "for match in matches['sentences'][0]:\n",
    "    print(\"xxx@xxxx\")\n",
    "    a.append(matches['sentences'][0][match]['match'])\n",
    "    # for candidate in matches['sentences'][0][match]['match'].split(' ' )[1:]:\n",
    "        # print('xxx')\n",
    "        # print(candidate.split('\\n'))"
   ]
  },
  {
   "cell_type": "code",
   "execution_count": 111,
   "metadata": {},
   "outputs": [],
   "source": [
    "a =  [matches['sentences'][0][match]['match'].rstrip() for match in matches['sentences'][0]]"
   ]
  },
  {
   "cell_type": "code",
   "execution_count": 112,
   "metadata": {},
   "outputs": [
    {
     "output_type": "execute_result",
     "data": {
      "text/plain": "['(NP (NNP Chris) (NNP Manning))', '(NP (DT a) (JJ nice) (NN person))']"
     },
     "metadata": {},
     "execution_count": 112
    }
   ],
   "source": [
    "a"
   ]
  },
  {
   "cell_type": "code",
   "execution_count": 117,
   "metadata": {},
   "outputs": [
    {
     "output_type": "stream",
     "name": "stdout",
     "text": "aaa\naaa\naaf\n"
    }
   ],
   "source": [
    "print(\"aaa\",\n",
    "    \"aaa\",\n",
    "    \"aaf\", sep='\\n')"
   ]
  },
  {
   "cell_type": "code",
   "execution_count": 98,
   "metadata": {},
   "outputs": [],
   "source": [
    "candidates = [x.rstrip().replace(\")\",\"\") for x in a.split(' ') if (\")\" in x)]\n",
    "candidate = ' '.join(candidates)"
   ]
  },
  {
   "cell_type": "code",
   "execution_count": 99,
   "metadata": {},
   "outputs": [
    {
     "output_type": "stream",
     "name": "stdout",
     "text": "['a', 'nice', 'person']\n"
    }
   ],
   "source": [
    "\n",
    "print(candidates)"
   ]
  },
  {
   "cell_type": "code",
   "execution_count": null,
   "metadata": {},
   "outputs": [],
   "source": []
  },
  {
   "cell_type": "code",
   "execution_count": 110,
   "metadata": {},
   "outputs": [
    {
     "output_type": "execute_result",
     "data": {
      "text/plain": "[{'0': {'match': '(NP (NNP Chris) (NNP Manning))\\n', 'namedNodes': []},\n  '1': {'match': '(NP (DT a) (JJ nice) (NN person))\\n', 'namedNodes': []}}]"
     },
     "metadata": {},
     "execution_count": 110
    }
   ],
   "source": [
    "matches['sentences']"
   ]
  },
  {
   "cell_type": "code",
   "execution_count": 54,
   "metadata": {},
   "outputs": [
    {
     "output_type": "execute_result",
     "data": {
      "text/plain": "[{'0': {'match': '(NP (NNP Chris) (NNP Manning))\\n', 'namedNodes': []},\n  '1': {'match': '(NP (DT a) (JJ nice) (NN person))\\n', 'namedNodes': []}}]"
     },
     "metadata": {},
     "execution_count": 54
    }
   ],
   "source": [
    "matches['sentences']"
   ]
  },
  {
   "cell_type": "code",
   "execution_count": null,
   "metadata": {},
   "outputs": [],
   "source": []
  }
 ],
 "metadata": {
  "kernelspec": {
   "display_name": "Python 3.8.2 64-bit ('3.8.2': pyenv)",
   "language": "python",
   "name": "python_defaultSpec_1594610618984"
  },
  "language_info": {
   "codemirror_mode": {
    "name": "ipython",
    "version": 3
   },
   "file_extension": ".py",
   "mimetype": "text/x-python",
   "name": "python",
   "nbconvert_exporter": "python",
   "pygments_lexer": "ipython3",
   "version": "3.8.2-final"
  },
  "pycharm": {
   "stem_cell": {
    "cell_type": "raw",
    "source": [],
    "metadata": {
     "collapsed": false
    }
   }
  }
 },
 "nbformat": 4,
 "nbformat_minor": 1
}